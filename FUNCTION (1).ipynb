{
 "cells": [
  {
   "cell_type": "markdown",
   "id": "4dd89924-a920-4188-b28c-9232ee0e9e07",
   "metadata": {},
   "source": [
    "#FUNCTION"
   ]
  },
  {
   "cell_type": "code",
   "execution_count": 1,
   "id": "65c8bd69-123f-4343-b0b6-fe5c176d18ba",
   "metadata": {},
   "outputs": [
    {
     "name": "stdout",
     "output_type": "stream",
     "text": [
      "my name is rahul\n"
     ]
    }
   ],
   "source": [
    "print('my name is rahul')"
   ]
  },
  {
   "cell_type": "code",
   "execution_count": 2,
   "id": "2f3e849f-66ab-486e-ba7c-a0c0cfcb22b0",
   "metadata": {},
   "outputs": [],
   "source": [
    "def test ():\n",
    "    pass"
   ]
  },
  {
   "cell_type": "code",
   "execution_count": 3,
   "id": "522d64fd-c150-41d1-bf2d-d0cb6d3b49e0",
   "metadata": {},
   "outputs": [],
   "source": [
    "def test1():\n",
    "    print('this is my first function')"
   ]
  },
  {
   "cell_type": "code",
   "execution_count": 5,
   "id": "40a38f37-fb12-40c0-8cb3-4a82c6958e2f",
   "metadata": {},
   "outputs": [
    {
     "name": "stdout",
     "output_type": "stream",
     "text": [
      "this is my first function\n"
     ]
    }
   ],
   "source": [
    "test1()"
   ]
  },
  {
   "cell_type": "code",
   "execution_count": 6,
   "id": "b6cf43b1-f8fa-4b12-ae8a-219da043585d",
   "metadata": {},
   "outputs": [
    {
     "name": "stdout",
     "output_type": "stream",
     "text": [
      "this is my first function\n"
     ]
    },
    {
     "ename": "TypeError",
     "evalue": "unsupported operand type(s) for +: 'NoneType' and 'str'",
     "output_type": "error",
     "traceback": [
      "\u001b[1;31m---------------------------------------------------------------------------\u001b[0m",
      "\u001b[1;31mTypeError\u001b[0m                                 Traceback (most recent call last)",
      "Cell \u001b[1;32mIn[6], line 1\u001b[0m\n\u001b[1;32m----> 1\u001b[0m test1() \u001b[38;5;241m+\u001b[39m\u001b[38;5;124m'\u001b[39m\u001b[38;5;124mrahul\u001b[39m\u001b[38;5;124m'\u001b[39m\n",
      "\u001b[1;31mTypeError\u001b[0m: unsupported operand type(s) for +: 'NoneType' and 'str'"
     ]
    }
   ],
   "source": [
    "test1() +'rahul'"
   ]
  },
  {
   "cell_type": "code",
   "execution_count": 12,
   "id": "a2da58d3-dcfc-4e6b-92c8-2bc749bda031",
   "metadata": {},
   "outputs": [],
   "source": [
    "def test2():\n",
    "    return 'this is my very first return '"
   ]
  },
  {
   "cell_type": "code",
   "execution_count": 13,
   "id": "27597410-125b-4aef-8078-156c92878eb5",
   "metadata": {},
   "outputs": [
    {
     "data": {
      "text/plain": [
       "'this is my very first return '"
      ]
     },
     "execution_count": 13,
     "metadata": {},
     "output_type": "execute_result"
    }
   ],
   "source": [
    "test2()"
   ]
  },
  {
   "cell_type": "code",
   "execution_count": 15,
   "id": "8ddbe8ec-8afb-4324-9429-c66b18a5ba37",
   "metadata": {},
   "outputs": [
    {
     "data": {
      "text/plain": [
       "'this is my very first return rahul'"
      ]
     },
     "execution_count": 15,
     "metadata": {},
     "output_type": "execute_result"
    }
   ],
   "source": [
    "test2() + 'rahul'"
   ]
  },
  {
   "cell_type": "code",
   "execution_count": 16,
   "id": "cbbbf621-1384-441b-879f-a685b0bd73cd",
   "metadata": {},
   "outputs": [],
   "source": [
    "#print hamesha non type deta hai but return wo deta hai jo hm execute karte hai"
   ]
  },
  {
   "cell_type": "code",
   "execution_count": 17,
   "id": "b9ac6905-3561-4ff2-84ca-6d54d05f5677",
   "metadata": {},
   "outputs": [],
   "source": [
    "def test3():\n",
    "    return 'rahul',23, 45.56, [4,5,6,7]"
   ]
  },
  {
   "cell_type": "code",
   "execution_count": 18,
   "id": "1210b05e-e210-4423-af99-395483a58f4a",
   "metadata": {},
   "outputs": [
    {
     "data": {
      "text/plain": [
       "('rahul', 23, 45.56, [4, 5, 6, 7])"
      ]
     },
     "execution_count": 18,
     "metadata": {},
     "output_type": "execute_result"
    }
   ],
   "source": [
    "test3()"
   ]
  },
  {
   "cell_type": "code",
   "execution_count": 19,
   "id": "19e88458-f862-4099-90ac-f06f956ead83",
   "metadata": {},
   "outputs": [],
   "source": [
    "a,b,c,d = test3()"
   ]
  },
  {
   "cell_type": "code",
   "execution_count": 20,
   "id": "4d447f95-c9f5-457d-a78b-b36ad9ec59d3",
   "metadata": {},
   "outputs": [
    {
     "data": {
      "text/plain": [
       "'rahul'"
      ]
     },
     "execution_count": 20,
     "metadata": {},
     "output_type": "execute_result"
    }
   ],
   "source": [
    "a"
   ]
  },
  {
   "cell_type": "code",
   "execution_count": 21,
   "id": "a015ee9d-a7bd-46d7-a75f-504f30b96f3e",
   "metadata": {},
   "outputs": [
    {
     "data": {
      "text/plain": [
       "23"
      ]
     },
     "execution_count": 21,
     "metadata": {},
     "output_type": "execute_result"
    }
   ],
   "source": [
    "b"
   ]
  },
  {
   "cell_type": "code",
   "execution_count": 22,
   "id": "9ad42179-c8cc-4fc5-9534-1303bbb29b47",
   "metadata": {},
   "outputs": [
    {
     "data": {
      "text/plain": [
       "45.56"
      ]
     },
     "execution_count": 22,
     "metadata": {},
     "output_type": "execute_result"
    }
   ],
   "source": [
    "c"
   ]
  },
  {
   "cell_type": "code",
   "execution_count": 23,
   "id": "10b96537-e184-49c5-9c10-ef0b1f316822",
   "metadata": {},
   "outputs": [
    {
     "data": {
      "text/plain": [
       "[4, 5, 6, 7]"
      ]
     },
     "execution_count": 23,
     "metadata": {},
     "output_type": "execute_result"
    }
   ],
   "source": [
    "d"
   ]
  },
  {
   "cell_type": "code",
   "execution_count": 30,
   "id": "51c7cb37-83ca-45b7-a68b-e2453e242a76",
   "metadata": {},
   "outputs": [],
   "source": [
    "def test4():\n",
    "    a = 5+14 / 7\n",
    "    return a"
   ]
  },
  {
   "cell_type": "code",
   "execution_count": 31,
   "id": "2c9e28bc-924f-4067-8c35-011b6f9e38d4",
   "metadata": {},
   "outputs": [
    {
     "data": {
      "text/plain": [
       "7.0"
      ]
     },
     "execution_count": 31,
     "metadata": {},
     "output_type": "execute_result"
    }
   ],
   "source": [
    "test4()"
   ]
  },
  {
   "cell_type": "code",
   "execution_count": 33,
   "id": "fc0a7deb-ad63-4a29-b72e-38c04dc2bd23",
   "metadata": {},
   "outputs": [],
   "source": [
    "def test5(a,b,c):\n",
    "    d = a+b/c\n",
    "    return d"
   ]
  },
  {
   "cell_type": "code",
   "execution_count": 36,
   "id": "1ec2a37f-869c-47a2-ba20-4fe121f32107",
   "metadata": {},
   "outputs": [
    {
     "ename": "TypeError",
     "evalue": "test5() missing 3 required positional arguments: 'a', 'b', and 'c'",
     "output_type": "error",
     "traceback": [
      "\u001b[1;31m---------------------------------------------------------------------------\u001b[0m",
      "\u001b[1;31mTypeError\u001b[0m                                 Traceback (most recent call last)",
      "Cell \u001b[1;32mIn[36], line 1\u001b[0m\n\u001b[1;32m----> 1\u001b[0m test5()\n",
      "\u001b[1;31mTypeError\u001b[0m: test5() missing 3 required positional arguments: 'a', 'b', and 'c'"
     ]
    }
   ],
   "source": [
    "test5()"
   ]
  },
  {
   "cell_type": "code",
   "execution_count": 35,
   "id": "cecc2908-0234-4a97-809e-156ef39881d3",
   "metadata": {},
   "outputs": [
    {
     "data": {
      "text/plain": [
       "9.0"
      ]
     },
     "execution_count": 35,
     "metadata": {},
     "output_type": "execute_result"
    }
   ],
   "source": [
    "test5(5,8,2)"
   ]
  },
  {
   "cell_type": "code",
   "execution_count": 37,
   "id": "e073bd06-3232-432f-8b7a-d94936f4e8c6",
   "metadata": {},
   "outputs": [],
   "source": [
    "def test6(a,b):\n",
    "    return a+b"
   ]
  },
  {
   "cell_type": "code",
   "execution_count": 38,
   "id": "0c72e705-5e9f-45cf-8611-f87f2c063585",
   "metadata": {},
   "outputs": [
    {
     "data": {
      "text/plain": [
       "13"
      ]
     },
     "execution_count": 38,
     "metadata": {},
     "output_type": "execute_result"
    }
   ],
   "source": [
    "test6(5,8)"
   ]
  },
  {
   "cell_type": "code",
   "execution_count": 41,
   "id": "944e7ab2-f502-47cc-94ad-ddb2b20053c6",
   "metadata": {},
   "outputs": [
    {
     "data": {
      "text/plain": [
       "'rahul sharma'"
      ]
     },
     "execution_count": 41,
     "metadata": {},
     "output_type": "execute_result"
    }
   ],
   "source": [
    "test6('rahul ', 'sharma')"
   ]
  },
  {
   "cell_type": "code",
   "execution_count": 42,
   "id": "08e19eb9-adeb-4746-9ad3-12baa8726ab2",
   "metadata": {},
   "outputs": [
    {
     "data": {
      "text/plain": [
       "[3, 4, 5, 4, 5, 6, 7]"
      ]
     },
     "execution_count": 42,
     "metadata": {},
     "output_type": "execute_result"
    }
   ],
   "source": [
    "test6([3,4,5],[4,5,6,7])"
   ]
  },
  {
   "cell_type": "code",
   "execution_count": 44,
   "id": "c4888412-4eda-4ccd-9de0-cc7204472fd9",
   "metadata": {},
   "outputs": [],
   "source": [
    "l= [1,2,5,6,'rahul','sharma',[2,6,7,9,4]]"
   ]
  },
  {
   "cell_type": "code",
   "execution_count": 48,
   "id": "71c0724c-7414-4377-9048-ebb4593c9027",
   "metadata": {},
   "outputs": [],
   "source": [
    "def test7(l):\n",
    "    l1 =[]\n",
    "    for i in l:\n",
    "        if type(i)==int or type(i)==float:\n",
    "            l1.append(i)\n",
    "    return l1"
   ]
  },
  {
   "cell_type": "code",
   "execution_count": 49,
   "id": "b03b0853-801c-4eff-bcd4-6d10e25fff4e",
   "metadata": {},
   "outputs": [
    {
     "data": {
      "text/plain": [
       "[1, 2, 5, 6]"
      ]
     },
     "execution_count": 49,
     "metadata": {},
     "output_type": "execute_result"
    }
   ],
   "source": [
    "test7(l)"
   ]
  },
  {
   "cell_type": "code",
   "execution_count": 70,
   "id": "1b2c47be-a102-4b3e-bd25-1c741224a84d",
   "metadata": {},
   "outputs": [],
   "source": [
    "def test8(a) :\n",
    "    l =[]\n",
    "    for i in a:\n",
    "        if type(i)==list:\n",
    "            for j in i :\n",
    "                l.append(j)\n",
    "        else :\n",
    "            if type(i) == int or type == float :\n",
    "                l.append(i)\n",
    "    return l           "
   ]
  },
  {
   "cell_type": "code",
   "execution_count": 71,
   "id": "93893b76-246c-4d01-a42f-4672dd9fc996",
   "metadata": {},
   "outputs": [
    {
     "data": {
      "text/plain": [
       "[1, 2, 5, 6, 2, 6, 7, 9, 4]"
      ]
     },
     "execution_count": 71,
     "metadata": {},
     "output_type": "execute_result"
    }
   ],
   "source": [
    "test8(l)"
   ]
  },
  {
   "cell_type": "code",
   "execution_count": null,
   "id": "81fe4bfd-9d51-4284-a45a-32df7ad917f8",
   "metadata": {},
   "outputs": [],
   "source": [
    "test8()"
   ]
  },
  {
   "cell_type": "code",
   "execution_count": 1,
   "id": "45f8f754-f4a4-493a-b5f1-2fc55b6e67cf",
   "metadata": {},
   "outputs": [],
   "source": [
    "def test9(a) :\n",
    "    ''' this is my function to extract num data from list '''\n",
    "    l =[]\n",
    "    for i in a:\n",
    "        if type(i)==list:\n",
    "            for j in i :\n",
    "                l.append(j)\n",
    "        else :\n",
    "            if type(i) == int or type == float :\n",
    "                l.append(i)\n",
    "    return l           "
   ]
  },
  {
   "cell_type": "code",
   "execution_count": null,
   "id": "cdc84a22-1bfd-47c2-ad71-15683ed56a45",
   "metadata": {},
   "outputs": [],
   "source": [
    "test9()"
   ]
  },
  {
   "cell_type": "code",
   "execution_count": 74,
   "id": "8e003ee6-6316-4b83-8a6d-87ff61c60dfb",
   "metadata": {},
   "outputs": [],
   "source": [
    "def test10(a,b):\n",
    "    return a+b"
   ]
  },
  {
   "cell_type": "code",
   "execution_count": 78,
   "id": "244fa6e2-3299-4ede-888d-c0f8f775ba8d",
   "metadata": {},
   "outputs": [],
   "source": [
    "def test11(*args):\n",
    "    return args"
   ]
  },
  {
   "cell_type": "code",
   "execution_count": 79,
   "id": "d156ddae-41a1-4bb6-8973-0bdc19811ca1",
   "metadata": {},
   "outputs": [
    {
     "data": {
      "text/plain": [
       "tuple"
      ]
     },
     "execution_count": 79,
     "metadata": {},
     "output_type": "execute_result"
    }
   ],
   "source": [
    "type(test11())"
   ]
  },
  {
   "cell_type": "code",
   "execution_count": 80,
   "id": "8c21f67f-cd90-4a2e-9b22-14734eea5b54",
   "metadata": {},
   "outputs": [
    {
     "data": {
      "text/plain": [
       "(1, 2, 3, 4)"
      ]
     },
     "execution_count": 80,
     "metadata": {},
     "output_type": "execute_result"
    }
   ],
   "source": [
    "test11(1,2,3,4)"
   ]
  },
  {
   "cell_type": "code",
   "execution_count": 81,
   "id": "bb92ba26-3dbe-42da-871a-01a3a6caad71",
   "metadata": {},
   "outputs": [
    {
     "data": {
      "text/plain": [
       "(1, 2, 3, 'rahul', 'sharma', [1, 2, 3, 4])"
      ]
     },
     "execution_count": 81,
     "metadata": {},
     "output_type": "execute_result"
    }
   ],
   "source": [
    "test11(1,2,3,'rahul','sharma',[1,2,3,4])"
   ]
  },
  {
   "cell_type": "code",
   "execution_count": 2,
   "id": "52cd84f6-5da3-431a-a0ec-624a5ccadf12",
   "metadata": {},
   "outputs": [],
   "source": [
    "def test12(*rahul):\n",
    "    return rahul"
   ]
  },
  {
   "cell_type": "code",
   "execution_count": 3,
   "id": "4ed6a2f5-4a8f-46e5-9778-8747a0394168",
   "metadata": {},
   "outputs": [
    {
     "data": {
      "text/plain": [
       "(1, 2, 3, 4, 5)"
      ]
     },
     "execution_count": 3,
     "metadata": {},
     "output_type": "execute_result"
    }
   ],
   "source": [
    "test12(1,2,3,4,5)"
   ]
  },
  {
   "cell_type": "code",
   "execution_count": 6,
   "id": "71faa6c0-3c0f-42a7-999b-201f71a04778",
   "metadata": {},
   "outputs": [],
   "source": [
    "def test13(*args,a) :\n",
    "    return args , a"
   ]
  },
  {
   "cell_type": "code",
   "execution_count": 9,
   "id": "b6bd8b94-be9e-4757-843e-03772f9969a0",
   "metadata": {},
   "outputs": [
    {
     "ename": "TypeError",
     "evalue": "test13() missing 1 required keyword-only argument: 'a'",
     "output_type": "error",
     "traceback": [
      "\u001b[1;31m---------------------------------------------------------------------------\u001b[0m",
      "\u001b[1;31mTypeError\u001b[0m                                 Traceback (most recent call last)",
      "Cell \u001b[1;32mIn[9], line 1\u001b[0m\n\u001b[1;32m----> 1\u001b[0m test13(\u001b[38;5;241m6\u001b[39m,\u001b[38;5;241m7\u001b[39m,\u001b[38;5;241m8\u001b[39m,\u001b[38;5;241m9\u001b[39m )\n",
      "\u001b[1;31mTypeError\u001b[0m: test13() missing 1 required keyword-only argument: 'a'"
     ]
    }
   ],
   "source": [
    "test13(6,7,8,9 )"
   ]
  },
  {
   "cell_type": "code",
   "execution_count": 10,
   "id": "4646a111-5d99-4746-b905-0f8e22b540ec",
   "metadata": {},
   "outputs": [
    {
     "data": {
      "text/plain": [
       "((6, 7, 8, 9), 45)"
      ]
     },
     "execution_count": 10,
     "metadata": {},
     "output_type": "execute_result"
    }
   ],
   "source": [
    "test13(6,7,8,9, a=45)"
   ]
  },
  {
   "cell_type": "code",
   "execution_count": 12,
   "id": "37e702ca-96e0-46cb-99b4-a0e94e98597c",
   "metadata": {},
   "outputs": [],
   "source": [
    "def test14(c,d,a=34,b=23):\n",
    "    return a,b ,c, d"
   ]
  },
  {
   "cell_type": "code",
   "execution_count": 13,
   "id": "815a406d-c4fe-4d04-b2f5-3d6ef955dd86",
   "metadata": {},
   "outputs": [
    {
     "ename": "TypeError",
     "evalue": "test14() missing 2 required positional arguments: 'c' and 'd'",
     "output_type": "error",
     "traceback": [
      "\u001b[1;31m---------------------------------------------------------------------------\u001b[0m",
      "\u001b[1;31mTypeError\u001b[0m                                 Traceback (most recent call last)",
      "Cell \u001b[1;32mIn[13], line 1\u001b[0m\n\u001b[1;32m----> 1\u001b[0m test14()\n",
      "\u001b[1;31mTypeError\u001b[0m: test14() missing 2 required positional arguments: 'c' and 'd'"
     ]
    }
   ],
   "source": [
    "test14()"
   ]
  },
  {
   "cell_type": "code",
   "execution_count": 14,
   "id": "e1f54916-cfe8-4d62-a33d-e8f9bf394a35",
   "metadata": {},
   "outputs": [
    {
     "data": {
      "text/plain": [
       "(34, 23, 7, 8)"
      ]
     },
     "execution_count": 14,
     "metadata": {},
     "output_type": "execute_result"
    }
   ],
   "source": [
    "test14(7,8)"
   ]
  },
  {
   "cell_type": "code",
   "execution_count": 15,
   "id": "bd8847c1-ffaa-4cbe-9b3f-8b69723410ac",
   "metadata": {},
   "outputs": [
    {
     "data": {
      "text/plain": [
       "(34, 23, 2, 8)"
      ]
     },
     "execution_count": 15,
     "metadata": {},
     "output_type": "execute_result"
    }
   ],
   "source": [
    "test14(2,8,a=34)"
   ]
  },
  {
   "cell_type": "code",
   "execution_count": 16,
   "id": "3f1915e1-d4a5-4dde-9123-526c295a7e79",
   "metadata": {},
   "outputs": [],
   "source": [
    "def test15(**kwrgs):\n",
    "    return kwrgs"
   ]
  },
  {
   "cell_type": "code",
   "execution_count": 17,
   "id": "9121b318-0187-4b67-b2b4-bd37d6a54b0a",
   "metadata": {},
   "outputs": [
    {
     "data": {
      "text/plain": [
       "{}"
      ]
     },
     "execution_count": 17,
     "metadata": {},
     "output_type": "execute_result"
    }
   ],
   "source": [
    "test15()"
   ]
  },
  {
   "cell_type": "code",
   "execution_count": 18,
   "id": "b15e22e9-813a-4a33-9a06-fd6876d1d24e",
   "metadata": {},
   "outputs": [
    {
     "data": {
      "text/plain": [
       "dict"
      ]
     },
     "execution_count": 18,
     "metadata": {},
     "output_type": "execute_result"
    }
   ],
   "source": [
    "type(test15())"
   ]
  },
  {
   "cell_type": "code",
   "execution_count": 19,
   "id": "343b64a8-9e23-4a65-bd96-bd250466f77d",
   "metadata": {},
   "outputs": [
    {
     "data": {
      "text/plain": [
       "{'a': [1, 2, 3, 4], 'b': 'rahul', 'c': 24.34}"
      ]
     },
     "execution_count": 19,
     "metadata": {},
     "output_type": "execute_result"
    }
   ],
   "source": [
    "test15(a=[1,2,3,4],b='rahul',c=24.34)"
   ]
  },
  {
   "cell_type": "code",
   "execution_count": null,
   "id": "aa9051a8-effb-42fe-999c-96c02bd1b52c",
   "metadata": {},
   "outputs": [],
   "source": []
  }
 ],
 "metadata": {
  "kernelspec": {
   "display_name": "Python 3 (ipykernel)",
   "language": "python",
   "name": "python3"
  },
  "language_info": {
   "codemirror_mode": {
    "name": "ipython",
    "version": 3
   },
   "file_extension": ".py",
   "mimetype": "text/x-python",
   "name": "python",
   "nbconvert_exporter": "python",
   "pygments_lexer": "ipython3",
   "version": "3.11.7"
  }
 },
 "nbformat": 4,
 "nbformat_minor": 5
}
