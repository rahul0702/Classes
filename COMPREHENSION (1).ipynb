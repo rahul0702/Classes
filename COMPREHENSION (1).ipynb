{
 "cells": [
  {
   "cell_type": "markdown",
   "id": "01dcf25c-fea0-4296-bd66-7899cda23010",
   "metadata": {},
   "source": [
    "COMPREHENSION"
   ]
  },
  {
   "cell_type": "code",
   "execution_count": 3,
   "id": "7f7f6d3b-b78a-4796-ba4a-ac2666fe10eb",
   "metadata": {},
   "outputs": [],
   "source": [
    "#LIST COMPREHENSION\n",
    "\n",
    "l = [1,2,3,4,45,6,5]\n",
    "l1 = []\n",
    "for i in l :\n",
    "    l1.append (i**2)"
   ]
  },
  {
   "cell_type": "code",
   "execution_count": 4,
   "id": "c333837a-3816-40ae-9e15-509ef52ea4f2",
   "metadata": {},
   "outputs": [
    {
     "data": {
      "text/plain": [
       "[1, 4, 9, 16, 2025, 36, 25]"
      ]
     },
     "execution_count": 4,
     "metadata": {},
     "output_type": "execute_result"
    }
   ],
   "source": [
    "l1"
   ]
  },
  {
   "cell_type": "code",
   "execution_count": 5,
   "id": "c9cff50a-cc2f-490d-ad4c-df14a6152958",
   "metadata": {},
   "outputs": [
    {
     "data": {
      "text/plain": [
       "[1, 2, 3, 4, 45, 6, 5]"
      ]
     },
     "execution_count": 5,
     "metadata": {},
     "output_type": "execute_result"
    }
   ],
   "source": [
    "l"
   ]
  },
  {
   "cell_type": "code",
   "execution_count": 6,
   "id": "1c4e609d-877d-4a67-99ae-4464f385ff33",
   "metadata": {},
   "outputs": [
    {
     "data": {
      "text/plain": [
       "[1, 4, 9, 16, 2025, 36, 25]"
      ]
     },
     "execution_count": 6,
     "metadata": {},
     "output_type": "execute_result"
    }
   ],
   "source": [
    "[i**2 for i in l]"
   ]
  },
  {
   "cell_type": "code",
   "execution_count": 14,
   "id": "ea8313e3-ecc6-4b67-af38-d26c699d6015",
   "metadata": {},
   "outputs": [
    {
     "data": {
      "text/plain": [
       "[2, 4, 6]"
      ]
     },
     "execution_count": 14,
     "metadata": {},
     "output_type": "execute_result"
    }
   ],
   "source": [
    "[i for i in l if i % 2 == 0]"
   ]
  },
  {
   "cell_type": "code",
   "execution_count": 18,
   "id": "e37ca753-b073-40c4-a016-0acac625abf5",
   "metadata": {},
   "outputs": [
    {
     "data": {
      "text/plain": [
       "['RAHUL', 'PWSKILLS', 'DATA SCIENCE MASTERS']"
      ]
     },
     "execution_count": 18,
     "metadata": {},
     "output_type": "execute_result"
    }
   ],
   "source": [
    "l1 = ['rahul','pwskills','data science masters']\n",
    "[i.upper() for i in l1]"
   ]
  },
  {
   "cell_type": "code",
   "execution_count": 19,
   "id": "6d4b5e03-9d53-4a63-9237-054b8eac4a0d",
   "metadata": {},
   "outputs": [],
   "source": [
    "# TUPLE COMPREHENSION"
   ]
  },
  {
   "cell_type": "code",
   "execution_count": 20,
   "id": "d1ab9585-94d8-47a7-aaa2-d0e3aa834a0d",
   "metadata": {},
   "outputs": [
    {
     "data": {
      "text/plain": [
       "[1, 2, 3, 4, 45, 6, 5]"
      ]
     },
     "execution_count": 20,
     "metadata": {},
     "output_type": "execute_result"
    }
   ],
   "source": [
    "L"
   ]
  },
  {
   "cell_type": "code",
   "execution_count": 21,
   "id": "2f0391ca-ced6-4849-8398-b02e319b8fa1",
   "metadata": {},
   "outputs": [
    {
     "data": {
      "text/plain": [
       "[1, 4, 9, 16, 2025, 36, 25]"
      ]
     },
     "execution_count": 21,
     "metadata": {},
     "output_type": "execute_result"
    }
   ],
   "source": [
    "list(i**2 for i in l)"
   ]
  },
  {
   "cell_type": "code",
   "execution_count": 22,
   "id": "07fc577e-2127-4a3c-b973-da69171af77e",
   "metadata": {},
   "outputs": [],
   "source": [
    "# DICTIONERY COMPREHENSION"
   ]
  },
  {
   "cell_type": "code",
   "execution_count": 23,
   "id": "99111230-1bc4-4919-b25b-1c05204bd219",
   "metadata": {},
   "outputs": [],
   "source": [
    "d={'key1':1,'key2':2, 'key3':3,'key4':4}"
   ]
  },
  {
   "cell_type": "code",
   "execution_count": 34,
   "id": "91cb5da1-f2ae-4106-b6a2-135fd45a1376",
   "metadata": {},
   "outputs": [
    {
     "data": {
      "text/plain": [
       "{'key1': 1, 'key2': 4, 'key3': 9, 'key4': 16}"
      ]
     },
     "execution_count": 34,
     "metadata": {},
     "output_type": "execute_result"
    }
   ],
   "source": [
    "{k:v**2 for k,v in d.items()}"
   ]
  },
  {
   "cell_type": "code",
   "execution_count": 33,
   "id": "180d637b-c9fe-4db0-bd0c-08472ce728eb",
   "metadata": {},
   "outputs": [
    {
     "data": {
      "text/plain": [
       "dict_items([('key1', 1), ('key2', 2), ('key3', 3), ('key4', 4)])"
      ]
     },
     "execution_count": 33,
     "metadata": {},
     "output_type": "execute_result"
    }
   ],
   "source": [
    "d.items()"
   ]
  },
  {
   "cell_type": "code",
   "execution_count": 35,
   "id": "997a67c0-8b0d-459d-aa8d-bac6d17c84ae",
   "metadata": {},
   "outputs": [
    {
     "data": {
      "text/plain": [
       "{'key1': 1, 'key2': 2, 'key3': 3, 'key4': 4}"
      ]
     },
     "execution_count": 35,
     "metadata": {},
     "output_type": "execute_result"
    }
   ],
   "source": [
    "d"
   ]
  },
  {
   "cell_type": "code",
   "execution_count": 38,
   "id": "a00325e0-56ff-43ac-9496-47fdcf871036",
   "metadata": {},
   "outputs": [
    {
     "data": {
      "text/plain": [
       "{'key2': 2, 'key3': 3, 'key4': 4}"
      ]
     },
     "execution_count": 38,
     "metadata": {},
     "output_type": "execute_result"
    }
   ],
   "source": [
    "{k:v for k ,v in d.items() if v > 1}"
   ]
  },
  {
   "cell_type": "code",
   "execution_count": null,
   "id": "0bc2278c-d3de-4b55-9e3d-e93e3ae66694",
   "metadata": {},
   "outputs": [],
   "source": []
  }
 ],
 "metadata": {
  "kernelspec": {
   "display_name": "Python 3 (ipykernel)",
   "language": "python",
   "name": "python3"
  },
  "language_info": {
   "codemirror_mode": {
    "name": "ipython",
    "version": 3
   },
   "file_extension": ".py",
   "mimetype": "text/x-python",
   "name": "python",
   "nbconvert_exporter": "python",
   "pygments_lexer": "ipython3",
   "version": "3.11.7"
  }
 },
 "nbformat": 4,
 "nbformat_minor": 5
}
