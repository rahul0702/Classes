{
 "cells": [
  {
   "cell_type": "markdown",
   "id": "fe448e04-d909-4355-9af5-3cccd4db8ebd",
   "metadata": {},
   "source": [
    "LAMBDA FUNCTION"
   ]
  },
  {
   "cell_type": "code",
   "execution_count": 1,
   "id": "0e820c05-d4db-40fe-ad7d-31f0bea54daf",
   "metadata": {},
   "outputs": [],
   "source": [
    "n=4\n",
    "p=3"
   ]
  },
  {
   "cell_type": "code",
   "execution_count": 3,
   "id": "b0b95bab-3ab2-4302-b4a1-6f7bf41f976b",
   "metadata": {},
   "outputs": [],
   "source": [
    "def test(n,p):\n",
    "    return n**p"
   ]
  },
  {
   "cell_type": "code",
   "execution_count": 4,
   "id": "9643158a-8f17-4c9d-bfed-6927aef05aea",
   "metadata": {},
   "outputs": [
    {
     "data": {
      "text/plain": [
       "64"
      ]
     },
     "execution_count": 4,
     "metadata": {},
     "output_type": "execute_result"
    }
   ],
   "source": [
    "test(4,3)"
   ]
  },
  {
   "cell_type": "code",
   "execution_count": 5,
   "id": "66e686e3-75b9-4b84-9b9f-0333bca020ca",
   "metadata": {},
   "outputs": [],
   "source": [
    "a = lambda n,p :n**p"
   ]
  },
  {
   "cell_type": "code",
   "execution_count": 7,
   "id": "ba05bf2d-e692-4b63-8c33-09654fe9f377",
   "metadata": {},
   "outputs": [
    {
     "data": {
      "text/plain": [
       "64"
      ]
     },
     "execution_count": 7,
     "metadata": {},
     "output_type": "execute_result"
    }
   ],
   "source": [
    "a(4,3)"
   ]
  },
  {
   "cell_type": "markdown",
   "id": "36263688-ec02-4c9c-9fba-2ea6edc8bbc5",
   "metadata": {},
   "source": [
    "aise functions ko lambda function / one liner function / annonimous function kehate hai\n",
    "annonimous function is liye bcz is function ka name define nhi hota hai"
   ]
  },
  {
   "cell_type": "code",
   "execution_count": 9,
   "id": "fd67bbd1-5750-4f0e-947b-4f9e02670624",
   "metadata": {},
   "outputs": [],
   "source": [
    "add = lambda x,y:x+y"
   ]
  },
  {
   "cell_type": "code",
   "execution_count": 10,
   "id": "51311679-3792-43c7-9fea-286208848787",
   "metadata": {},
   "outputs": [
    {
     "data": {
      "text/plain": [
       "15"
      ]
     },
     "execution_count": 10,
     "metadata": {},
     "output_type": "execute_result"
    }
   ],
   "source": [
    "add(7,8)"
   ]
  },
  {
   "cell_type": "code",
   "execution_count": null,
   "id": "45f80f81-adf5-4121-a6e3-2f213b0584c4",
   "metadata": {},
   "outputs": [],
   "source": [
    "#celcius to forenhite conversion"
   ]
  },
  {
   "cell_type": "code",
   "execution_count": 11,
   "id": "11eeb079-dfd8-4e91-9a53-b49ee085125e",
   "metadata": {},
   "outputs": [],
   "source": [
    "c_to_f = lambda c : (9/5)*c + 32"
   ]
  },
  {
   "cell_type": "code",
   "execution_count": 12,
   "id": "e52925b9-1b44-4b88-92eb-391f1327ad9b",
   "metadata": {},
   "outputs": [
    {
     "data": {
      "text/plain": [
       "89.6"
      ]
     },
     "execution_count": 12,
     "metadata": {},
     "output_type": "execute_result"
    }
   ],
   "source": [
    "c_to_f(32)"
   ]
  },
  {
   "cell_type": "code",
   "execution_count": 13,
   "id": "3d2c213c-fda1-45f6-9f84-f890285840f0",
   "metadata": {},
   "outputs": [],
   "source": [
    "#to finding maximum of two numbers"
   ]
  },
  {
   "cell_type": "code",
   "execution_count": 14,
   "id": "117934a7-c8f5-4e33-9fea-b553ae8ab131",
   "metadata": {},
   "outputs": [],
   "source": [
    "finding_max = lambda x,y : x if x>y else y"
   ]
  },
  {
   "cell_type": "code",
   "execution_count": 15,
   "id": "89063c65-6e85-418a-a6e7-c6a768326062",
   "metadata": {},
   "outputs": [
    {
     "data": {
      "text/plain": [
       "67"
      ]
     },
     "execution_count": 15,
     "metadata": {},
     "output_type": "execute_result"
    }
   ],
   "source": [
    "finding_max(34,67)"
   ]
  },
  {
   "cell_type": "code",
   "execution_count": 24,
   "id": "44924dc0-29bf-4e1e-9c41-ec0bf62925c6",
   "metadata": {},
   "outputs": [],
   "source": [
    "#finding length of string"
   ]
  },
  {
   "cell_type": "code",
   "execution_count": 16,
   "id": "f3cc5007-6cbe-490b-af38-3f7a6efc83ed",
   "metadata": {},
   "outputs": [],
   "source": [
    "s='pwskills'"
   ]
  },
  {
   "cell_type": "code",
   "execution_count": 22,
   "id": "afeff99b-990b-47ea-89cd-a840f96329f2",
   "metadata": {},
   "outputs": [],
   "source": [
    "finding_len = lambda s : len(s)"
   ]
  },
  {
   "cell_type": "code",
   "execution_count": 23,
   "id": "02e3c9b2-7b31-46f5-9e93-58674ed07bc0",
   "metadata": {},
   "outputs": [
    {
     "data": {
      "text/plain": [
       "8"
      ]
     },
     "execution_count": 23,
     "metadata": {},
     "output_type": "execute_result"
    }
   ],
   "source": [
    "finding_len(s)"
   ]
  },
  {
   "cell_type": "code",
   "execution_count": null,
   "id": "caa89d81-d45b-4eed-873b-73bf8b5db571",
   "metadata": {},
   "outputs": [],
   "source": []
  }
 ],
 "metadata": {
  "kernelspec": {
   "display_name": "Python 3 (ipykernel)",
   "language": "python",
   "name": "python3"
  },
  "language_info": {
   "codemirror_mode": {
    "name": "ipython",
    "version": 3
   },
   "file_extension": ".py",
   "mimetype": "text/x-python",
   "name": "python",
   "nbconvert_exporter": "python",
   "pygments_lexer": "ipython3",
   "version": "3.11.7"
  }
 },
 "nbformat": 4,
 "nbformat_minor": 5
}
