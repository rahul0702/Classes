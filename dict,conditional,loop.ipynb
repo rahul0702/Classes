{
 "cells": [
  {
   "cell_type": "code",
   "execution_count": 9,
   "id": "0a409418-7f9c-4c28-bcb0-3ff9de1b7e83",
   "metadata": {},
   "outputs": [],
   "source": [
    "#dictionary"
   ]
  },
  {
   "cell_type": "code",
   "execution_count": 10,
   "id": "94804bad-844b-44f1-8903-3747165f13da",
   "metadata": {},
   "outputs": [],
   "source": [
    "d={}"
   ]
  },
  {
   "cell_type": "code",
   "execution_count": 11,
   "id": "3900840c-2a4e-4f2c-8727-578ce5b86fe9",
   "metadata": {},
   "outputs": [
    {
     "data": {
      "text/plain": [
       "dict"
      ]
     },
     "execution_count": 11,
     "metadata": {},
     "output_type": "execute_result"
    }
   ],
   "source": [
    "type(d)"
   ]
  },
  {
   "cell_type": "code",
   "execution_count": 12,
   "id": "e2243dc1-ea68-4ae5-b3d6-a83227a3d98e",
   "metadata": {},
   "outputs": [],
   "source": [
    "d1={'key' :'rahul'}"
   ]
  },
  {
   "cell_type": "code",
   "execution_count": 13,
   "id": "eb45ce5d-7237-4856-a483-d54e3b085bec",
   "metadata": {},
   "outputs": [
    {
     "data": {
      "text/plain": [
       "{'key': 'rahul'}"
      ]
     },
     "execution_count": 13,
     "metadata": {},
     "output_type": "execute_result"
    }
   ],
   "source": [
    "d1"
   ]
  },
  {
   "cell_type": "code",
   "execution_count": 14,
   "id": "ced4e6aa-f003-48e8-a829-3b49c0394c7e",
   "metadata": {},
   "outputs": [],
   "source": [
    "d2={'name':'rahul','mail':'imrdsharma@gmail.com',\"phone no\":'8840926294'}"
   ]
  },
  {
   "cell_type": "code",
   "execution_count": 15,
   "id": "46a46d19-9459-4c07-86d6-f84cc4ba3a1b",
   "metadata": {},
   "outputs": [
    {
     "data": {
      "text/plain": [
       "{'name': 'rahul', 'mail': 'imrdsharma@gmail.com', 'phone no': '8840926294'}"
      ]
     },
     "execution_count": 15,
     "metadata": {},
     "output_type": "execute_result"
    }
   ],
   "source": [
    "d2"
   ]
  },
  {
   "cell_type": "code",
   "execution_count": 16,
   "id": "dd7b9505-6158-4346-b582-a5fdec22bf0f",
   "metadata": {},
   "outputs": [],
   "source": [
    "d3={45:'sudh'}"
   ]
  },
  {
   "cell_type": "code",
   "execution_count": 17,
   "id": "8075d5a9-e91b-4fca-a46a-c19b3316635d",
   "metadata": {},
   "outputs": [
    {
     "data": {
      "text/plain": [
       "{45: 'sudh'}"
      ]
     },
     "execution_count": 17,
     "metadata": {},
     "output_type": "execute_result"
    }
   ],
   "source": [
    "d3"
   ]
  },
  {
   "cell_type": "code",
   "execution_count": 18,
   "id": "7ac1699a-ced5-4d11-9b95-81c510a6f516",
   "metadata": {},
   "outputs": [
    {
     "ename": "SyntaxError",
     "evalue": "invalid syntax (803139768.py, line 1)",
     "output_type": "error",
     "traceback": [
      "\u001b[1;36m  Cell \u001b[1;32mIn[18], line 1\u001b[1;36m\u001b[0m\n\u001b[1;33m    d4={@ra:'sharma'}\u001b[0m\n\u001b[1;37m        ^\u001b[0m\n\u001b[1;31mSyntaxError\u001b[0m\u001b[1;31m:\u001b[0m invalid syntax\n"
     ]
    }
   ],
   "source": [
    "d4={@ra:'sharma'}"
   ]
  },
  {
   "cell_type": "code",
   "execution_count": 19,
   "id": "c3bab297-523d-4e50-88a2-c0624624e3a1",
   "metadata": {},
   "outputs": [],
   "source": [
    "#we can't use special character or any sign without cotting"
   ]
  },
  {
   "cell_type": "code",
   "execution_count": 20,
   "id": "1d118480-846d-4920-9352-3b756b550c37",
   "metadata": {},
   "outputs": [],
   "source": [
    "d4={'@ra':'sharma'}"
   ]
  },
  {
   "cell_type": "code",
   "execution_count": 21,
   "id": "a6d03a46-b4ab-4096-ac1e-3f7c3ecd9e17",
   "metadata": {},
   "outputs": [
    {
     "data": {
      "text/plain": [
       "{'@ra': 'sharma'}"
      ]
     },
     "execution_count": 21,
     "metadata": {},
     "output_type": "execute_result"
    }
   ],
   "source": [
    "d4"
   ]
  },
  {
   "cell_type": "code",
   "execution_count": 22,
   "id": "85ce3110-5118-49f8-b968-7f0846f35aeb",
   "metadata": {},
   "outputs": [],
   "source": [
    " d5={234:'rahu','_reh':'shar',True:4567}"
   ]
  },
  {
   "cell_type": "code",
   "execution_count": 23,
   "id": "8b21139a-74c2-4db9-b706-9916d80e90f3",
   "metadata": {},
   "outputs": [
    {
     "data": {
      "text/plain": [
       "{234: 'rahu', '_reh': 'shar', True: 4567}"
      ]
     },
     "execution_count": 23,
     "metadata": {},
     "output_type": "execute_result"
    }
   ],
   "source": [
    "d5"
   ]
  },
  {
   "cell_type": "code",
   "execution_count": 24,
   "id": "d5f21f3f-cc06-4713-bb86-09f635bb9ba1",
   "metadata": {},
   "outputs": [
    {
     "data": {
      "text/plain": [
       "'rahu'"
      ]
     },
     "execution_count": 24,
     "metadata": {},
     "output_type": "execute_result"
    }
   ],
   "source": [
    "d5[234]"
   ]
  },
  {
   "cell_type": "code",
   "execution_count": 25,
   "id": "3bf0c1f4-5ba5-4476-b4ac-884e926603b3",
   "metadata": {},
   "outputs": [
    {
     "data": {
      "text/plain": [
       "4567"
      ]
     },
     "execution_count": 25,
     "metadata": {},
     "output_type": "execute_result"
    }
   ],
   "source": [
    "d5[True]"
   ]
  },
  {
   "cell_type": "code",
   "execution_count": 26,
   "id": "585bd50f-89dc-4152-ba45-7f224fb4360d",
   "metadata": {},
   "outputs": [
    {
     "data": {
      "text/plain": [
       "4567"
      ]
     },
     "execution_count": 26,
     "metadata": {},
     "output_type": "execute_result"
    }
   ],
   "source": [
    "d5[1]"
   ]
  },
  {
   "cell_type": "code",
   "execution_count": 27,
   "id": "95d703f3-fb66-4f30-aeec-ce4a247c223a",
   "metadata": {},
   "outputs": [],
   "source": [
    "#bcz True=1"
   ]
  },
  {
   "cell_type": "code",
   "execution_count": 30,
   "id": "2d3385e3-998e-4270-b125-617e09925984",
   "metadata": {},
   "outputs": [],
   "source": [
    "d6={'name':'rahul','mail':'rsh@gmail.com','name':'mahadev'}"
   ]
  },
  {
   "cell_type": "code",
   "execution_count": 32,
   "id": "64940e8b-3675-42b2-b1fe-baceb5580da9",
   "metadata": {},
   "outputs": [
    {
     "data": {
      "text/plain": [
       "'mahadev'"
      ]
     },
     "execution_count": 32,
     "metadata": {},
     "output_type": "execute_result"
    }
   ],
   "source": [
    "d6['name']"
   ]
  },
  {
   "cell_type": "code",
   "execution_count": 33,
   "id": "712f38b6-5935-4cf4-b7c7-d5758e87f0d4",
   "metadata": {},
   "outputs": [],
   "source": [
    " d7={'company':'pwskills','courses':['data science','web dev','java with dsa']}"
   ]
  },
  {
   "cell_type": "code",
   "execution_count": 34,
   "id": "6a23d497-780a-49e6-948e-5a5ba424fdbf",
   "metadata": {},
   "outputs": [
    {
     "data": {
      "text/plain": [
       "{'company': 'pwskills',\n",
       " 'courses': ['data science', 'web dev', 'java with dsa']}"
      ]
     },
     "execution_count": 34,
     "metadata": {},
     "output_type": "execute_result"
    }
   ],
   "source": [
    "d7"
   ]
  },
  {
   "cell_type": "code",
   "execution_count": 35,
   "id": "f8a05ef3-0ee9-4e57-ac6e-4f6ff624bbbf",
   "metadata": {},
   "outputs": [
    {
     "data": {
      "text/plain": [
       "['data science', 'web dev', 'java with dsa']"
      ]
     },
     "execution_count": 35,
     "metadata": {},
     "output_type": "execute_result"
    }
   ],
   "source": [
    "d7['courses']"
   ]
  },
  {
   "cell_type": "code",
   "execution_count": 36,
   "id": "ae14bc15-823d-499a-a5de-c61d7b1b30ca",
   "metadata": {},
   "outputs": [
    {
     "data": {
      "text/plain": [
       "'java with dsa'"
      ]
     },
     "execution_count": 36,
     "metadata": {},
     "output_type": "execute_result"
    }
   ],
   "source": [
    "d7['courses'][2]"
   ]
  },
  {
   "cell_type": "code",
   "execution_count": 39,
   "id": "d31d11c4-b0a5-472c-8806-902a4771bbd2",
   "metadata": {},
   "outputs": [],
   "source": [
    "d8={'number':[2,56,76,89],'assignment':(4,5,8,9),'launch_date':{28,12,9},'class_time':{'web_dev':8,'data_science':9,'java with dsa':7}}"
   ]
  },
  {
   "cell_type": "code",
   "execution_count": 40,
   "id": "cec4dff4-5899-472f-b3d6-c2bc2abd9a91",
   "metadata": {},
   "outputs": [
    {
     "data": {
      "text/plain": [
       "{'number': [2, 56, 76, 89],\n",
       " 'assignment': (4, 5, 8, 9),\n",
       " 'launch_date': {9, 12, 28},\n",
       " 'class_time': {'web_dev': 8, 'data_science': 9, 'java with dsa': 7}}"
      ]
     },
     "execution_count": 40,
     "metadata": {},
     "output_type": "execute_result"
    }
   ],
   "source": [
    "d8"
   ]
  },
  {
   "cell_type": "code",
   "execution_count": 42,
   "id": "dadf2d93-01d4-46d3-94d5-320328e2f43f",
   "metadata": {},
   "outputs": [
    {
     "data": {
      "text/plain": [
       "7"
      ]
     },
     "execution_count": 42,
     "metadata": {},
     "output_type": "execute_result"
    }
   ],
   "source": [
    "d8['class_time']['java with dsa']"
   ]
  },
  {
   "cell_type": "code",
   "execution_count": 43,
   "id": "7e90f5a4-969e-4ff0-afa4-e1b0c707b26e",
   "metadata": {},
   "outputs": [
    {
     "data": {
      "text/plain": [
       "{'number': [2, 56, 76, 89],\n",
       " 'assignment': (4, 5, 8, 9),\n",
       " 'launch_date': {9, 12, 28},\n",
       " 'class_time': {'web_dev': 8, 'data_science': 9, 'java with dsa': 7}}"
      ]
     },
     "execution_count": 43,
     "metadata": {},
     "output_type": "execute_result"
    }
   ],
   "source": [
    "d8"
   ]
  },
  {
   "cell_type": "code",
   "execution_count": 48,
   "id": "b420e5ce-b3d2-4bc2-b47f-77fd1e4e6cef",
   "metadata": {},
   "outputs": [],
   "source": [
    "d8['mentor']=['rahul','rohit','ravi']"
   ]
  },
  {
   "cell_type": "code",
   "execution_count": 49,
   "id": "b2d870d3-55fa-4ba3-b941-ef469ff4c759",
   "metadata": {},
   "outputs": [
    {
     "data": {
      "text/plain": [
       "{'number': [2, 56, 76, 89],\n",
       " 'assignment': (4, 5, 8, 9),\n",
       " 'launch_date': {9, 12, 28},\n",
       " 'class_time': {'web_dev': 8, 'data_science': 9, 'java with dsa': 7},\n",
       " 'mentor': ['rahul', 'rohit', 'ravi']}"
      ]
     },
     "execution_count": 49,
     "metadata": {},
     "output_type": "execute_result"
    }
   ],
   "source": [
    "d8"
   ]
  },
  {
   "cell_type": "code",
   "execution_count": 51,
   "id": "0c210880-53a8-4491-8c40-1afdfcf40770",
   "metadata": {},
   "outputs": [],
   "source": [
    " del d8['number']"
   ]
  },
  {
   "cell_type": "code",
   "execution_count": 52,
   "id": "fcb49e7e-8131-4d50-99f3-0b5b362e930d",
   "metadata": {},
   "outputs": [
    {
     "data": {
      "text/plain": [
       "{'assignment': (4, 5, 8, 9),\n",
       " 'launch_date': {9, 12, 28},\n",
       " 'class_time': {'web_dev': 8, 'data_science': 9, 'java with dsa': 7},\n",
       " 'mentor': ['rahul', 'rohit', 'ravi']}"
      ]
     },
     "execution_count": 52,
     "metadata": {},
     "output_type": "execute_result"
    }
   ],
   "source": [
    "d8"
   ]
  },
  {
   "cell_type": "code",
   "execution_count": 53,
   "id": "b6033045-d494-4b7f-be42-5a6b8e4c3549",
   "metadata": {},
   "outputs": [
    {
     "data": {
      "text/plain": [
       "dict_keys(['assignment', 'launch_date', 'class_time', 'mentor'])"
      ]
     },
     "execution_count": 53,
     "metadata": {},
     "output_type": "execute_result"
    }
   ],
   "source": [
    "d8.keys()"
   ]
  },
  {
   "cell_type": "code",
   "execution_count": 54,
   "id": "110fa14f-a19c-4080-8d74-79def39b2c0a",
   "metadata": {},
   "outputs": [
    {
     "data": {
      "text/plain": [
       "['assignment', 'launch_date', 'class_time', 'mentor']"
      ]
     },
     "execution_count": 54,
     "metadata": {},
     "output_type": "execute_result"
    }
   ],
   "source": [
    "list(d8.keys())"
   ]
  },
  {
   "cell_type": "code",
   "execution_count": 56,
   "id": "203e19e6-76a7-45eb-bf01-902ac744b3bf",
   "metadata": {},
   "outputs": [
    {
     "data": {
      "text/plain": [
       "dict_values([(4, 5, 8, 9), {9, 28, 12}, {'web_dev': 8, 'data_science': 9, 'java with dsa': 7}, ['rahul', 'rohit', 'ravi']])"
      ]
     },
     "execution_count": 56,
     "metadata": {},
     "output_type": "execute_result"
    }
   ],
   "source": [
    "d8.values()"
   ]
  },
  {
   "cell_type": "code",
   "execution_count": 57,
   "id": "c5c126fa-a231-4438-b5c1-0974b825da3b",
   "metadata": {},
   "outputs": [
    {
     "data": {
      "text/plain": [
       "[(4, 5, 8, 9),\n",
       " {9, 12, 28},\n",
       " {'web_dev': 8, 'data_science': 9, 'java with dsa': 7},\n",
       " ['rahul', 'rohit', 'ravi']]"
      ]
     },
     "execution_count": 57,
     "metadata": {},
     "output_type": "execute_result"
    }
   ],
   "source": [
    "list(d8.values())"
   ]
  },
  {
   "cell_type": "code",
   "execution_count": 58,
   "id": "9044bec4-efa0-4bb9-ad09-97f883383c26",
   "metadata": {},
   "outputs": [
    {
     "data": {
      "text/plain": [
       "dict_items([('assignment', (4, 5, 8, 9)), ('launch_date', {9, 28, 12}), ('class_time', {'web_dev': 8, 'data_science': 9, 'java with dsa': 7}), ('mentor', ['rahul', 'rohit', 'ravi'])])"
      ]
     },
     "execution_count": 58,
     "metadata": {},
     "output_type": "execute_result"
    }
   ],
   "source": [
    "d8.items()"
   ]
  },
  {
   "cell_type": "code",
   "execution_count": 60,
   "id": "6a11101d-404a-4e44-9b28-91cade4452ce",
   "metadata": {},
   "outputs": [
    {
     "data": {
      "text/plain": [
       "[('assignment', (4, 5, 8, 9)),\n",
       " ('launch_date', {9, 12, 28}),\n",
       " ('class_time', {'web_dev': 8, 'data_science': 9, 'java with dsa': 7}),\n",
       " ('mentor', ['rahul', 'rohit', 'ravi'])]"
      ]
     },
     "execution_count": 60,
     "metadata": {},
     "output_type": "execute_result"
    }
   ],
   "source": [
    "list(d8.items())"
   ]
  },
  {
   "cell_type": "code",
   "execution_count": 62,
   "id": "a42c57c8-232a-41cb-8ac9-c234321e9784",
   "metadata": {},
   "outputs": [
    {
     "data": {
      "text/plain": [
       "(4, 5, 8, 9)"
      ]
     },
     "execution_count": 62,
     "metadata": {},
     "output_type": "execute_result"
    }
   ],
   "source": [
    "d8.pop('assignment')"
   ]
  },
  {
   "cell_type": "code",
   "execution_count": 63,
   "id": "855d8303-8f6e-4ce2-a565-993b0f43cd5c",
   "metadata": {},
   "outputs": [
    {
     "data": {
      "text/plain": [
       "{'launch_date': {9, 12, 28},\n",
       " 'class_time': {'web_dev': 8, 'data_science': 9, 'java with dsa': 7},\n",
       " 'mentor': ['rahul', 'rohit', 'ravi']}"
      ]
     },
     "execution_count": 63,
     "metadata": {},
     "output_type": "execute_result"
    }
   ],
   "source": [
    "d8"
   ]
  },
  {
   "cell_type": "code",
   "execution_count": 64,
   "id": "24293cdf-a568-4094-9745-a59752741051",
   "metadata": {},
   "outputs": [
    {
     "ename": "TypeError",
     "evalue": "pop expected at least 1 argument, got 0",
     "output_type": "error",
     "traceback": [
      "\u001b[1;31m---------------------------------------------------------------------------\u001b[0m",
      "\u001b[1;31mTypeError\u001b[0m                                 Traceback (most recent call last)",
      "Cell \u001b[1;32mIn[64], line 1\u001b[0m\n\u001b[1;32m----> 1\u001b[0m d8\u001b[38;5;241m.\u001b[39mpop()\n",
      "\u001b[1;31mTypeError\u001b[0m: pop expected at least 1 argument, got 0"
     ]
    }
   ],
   "source": [
    "d8.pop()"
   ]
  },
  {
   "cell_type": "code",
   "execution_count": 8,
   "id": "d10812af-29d6-479d-ab4d-f55d95f9457b",
   "metadata": {},
   "outputs": [],
   "source": [
    "#conditional : if , elif and else"
   ]
  },
  {
   "cell_type": "code",
   "execution_count": 9,
   "id": "dfed232a-dce6-4440-8df8-2f31ab19579a",
   "metadata": {},
   "outputs": [
    {
     "name": "stdin",
     "output_type": "stream",
     "text": [
      "enter your marks 10\n"
     ]
    },
    {
     "name": "stdout",
     "output_type": "stream",
     "text": [
      "you will be a part of A3 batch\n"
     ]
    }
   ],
   "source": [
    "marks = int(input('enter your marks'))\n",
    "if marks >= 80:\n",
    "    print('you will be part of A0 batch')\n",
    "elif marks >= 60 and marks < 80:\n",
    "    print('you will be a part of A1 batch')\n",
    "elif marks >= 40 and marks < 60:\n",
    "    print('you will be a part of A2 batch')\n",
    "else:\n",
    "    print('you will be a part of A3 batch')\n",
    "    \n"
   ]
  },
  {
   "cell_type": "code",
   "execution_count": 11,
   "id": "c65013ff-edf8-42f1-9977-985ace5714dd",
   "metadata": {},
   "outputs": [
    {
     "name": "stdin",
     "output_type": "stream",
     "text": [
      "enter your price 7000\n"
     ]
    },
    {
     "name": "stdout",
     "output_type": "stream",
     "text": [
      "i will not purchase\n"
     ]
    }
   ],
   "source": [
    "price=int(input('enter your price'))\n",
    "if price>1000:\n",
    "    print('i will not purchase')\n",
    "else:\n",
    "    print('i will purchase')"
   ]
  },
  {
   "cell_type": "code",
   "execution_count": 12,
   "id": "9819914a-d182-496f-bd87-5d4445a0400f",
   "metadata": {},
   "outputs": [
    {
     "name": "stdin",
     "output_type": "stream",
     "text": [
      "enter your price 7000\n"
     ]
    },
    {
     "name": "stdout",
     "output_type": "stream",
     "text": [
      "i will not purchase\n",
      "this is too mutch\n"
     ]
    }
   ],
   "source": [
    "price=int(input('enter your price'))\n",
    "if price>1000:\n",
    "    print('i will not purchase')\n",
    "    if price > 5000:\n",
    "        print('this is too mutch')"
   ]
  },
  {
   "cell_type": "code",
   "execution_count": 21,
   "id": "f9896e88-bd66-4878-b380-42a84d2484f4",
   "metadata": {},
   "outputs": [
    {
     "name": "stdin",
     "output_type": "stream",
     "text": [
      "enter your price 2500\n"
     ]
    },
    {
     "name": "stdout",
     "output_type": "stream",
     "text": [
      "i will not purchase\n",
      "give me some discount\n"
     ]
    }
   ],
   "source": [
    "price=int(input('enter your price'))\n",
    "if price>1000:\n",
    "    print('i will not purchase')\n",
    "    if price>5000:\n",
    "        print('this is too much')\n",
    "    elif price <2000:\n",
    "        print('its ok')\n",
    "    elif price > 2000:\n",
    "        print('give me some discount')"
   ]
  },
  {
   "cell_type": "code",
   "execution_count": 1,
   "id": "d1eed9a9-7fc8-4dfc-a596-fe91bd2f5009",
   "metadata": {},
   "outputs": [],
   "source": [
    "#LOOP"
   ]
  },
  {
   "cell_type": "code",
   "execution_count": 2,
   "id": "ce21626f-f850-40aa-a1af-f945a9b3b1e0",
   "metadata": {},
   "outputs": [],
   "source": [
    "l=[1,2,3,4,5,6,7,8,9,10]"
   ]
  },
  {
   "cell_type": "code",
   "execution_count": 8,
   "id": "56a5b510-5bf9-468b-ba7d-2de88b92c795",
   "metadata": {},
   "outputs": [],
   "source": [
    "# agar hame l ke saare elements me kuchh add karna hai to \n",
    "# ya to hm l ke ek ek elements ko nikal kar usme alag alag add kre\n",
    "# ya to hm LOOP ka use kar sakte hai"
   ]
  },
  {
   "cell_type": "code",
   "execution_count": null,
   "id": "0621e696-b3f3-4964-a5e5-8f74864dafd8",
   "metadata": {},
   "outputs": [],
   "source": [
    "# first methode"
   ]
  },
  {
   "cell_type": "code",
   "execution_count": 9,
   "id": "a5c1f495-63ad-417a-a3c0-5e12eb8d1ab9",
   "metadata": {},
   "outputs": [],
   "source": [
    "l1=[]"
   ]
  },
  {
   "cell_type": "code",
   "execution_count": 10,
   "id": "d6b559da-9c6f-4f7c-884a-99d56d87850e",
   "metadata": {},
   "outputs": [],
   "source": [
    "l1.append(l[0]+1)"
   ]
  },
  {
   "cell_type": "code",
   "execution_count": 11,
   "id": "9349410d-fd24-47dd-b878-200412f4d5fb",
   "metadata": {},
   "outputs": [
    {
     "data": {
      "text/plain": [
       "[2]"
      ]
     },
     "execution_count": 11,
     "metadata": {},
     "output_type": "execute_result"
    }
   ],
   "source": [
    "l1"
   ]
  },
  {
   "cell_type": "code",
   "execution_count": 13,
   "id": "b69e3a34-9e29-40f1-bb0d-36eaee16048d",
   "metadata": {},
   "outputs": [],
   "source": [
    "# LOOP methode\n",
    "#for loop\n",
    "# while loop"
   ]
  },
  {
   "cell_type": "code",
   "execution_count": 14,
   "id": "d9e2be66-134e-4477-972c-c386bcc65c42",
   "metadata": {},
   "outputs": [
    {
     "data": {
      "text/plain": [
       "[1, 2, 3, 4, 5, 6, 7, 8, 9, 10]"
      ]
     },
     "execution_count": 14,
     "metadata": {},
     "output_type": "execute_result"
    }
   ],
   "source": [
    "l"
   ]
  },
  {
   "cell_type": "code",
   "execution_count": 19,
   "id": "8b708139-2505-4191-882a-c139d072f79b",
   "metadata": {},
   "outputs": [
    {
     "name": "stdout",
     "output_type": "stream",
     "text": [
      "2\n",
      "3\n",
      "4\n",
      "5\n",
      "6\n",
      "7\n",
      "8\n",
      "9\n",
      "10\n",
      "11\n"
     ]
    },
    {
     "data": {
      "text/plain": [
       "[2, 3, 4, 5, 6, 7, 8, 9, 10, 11]"
      ]
     },
     "execution_count": 19,
     "metadata": {},
     "output_type": "execute_result"
    }
   ],
   "source": [
    "l2=[]\n",
    "for i in l :\n",
    "    print(i+1)\n",
    "    l2.append(i+1)\n",
    "l2    "
   ]
  },
  {
   "cell_type": "code",
   "execution_count": 20,
   "id": "0bdf0686-8b72-41ff-831c-5ccc51b040ef",
   "metadata": {},
   "outputs": [],
   "source": [
    "l = ['rahul','sharma','pwskills','course']"
   ]
  },
  {
   "cell_type": "code",
   "execution_count": 24,
   "id": "9fad774e-7445-428a-97cf-97947e77ee03",
   "metadata": {},
   "outputs": [
    {
     "name": "stdout",
     "output_type": "stream",
     "text": [
      "rahul\n",
      "sharma\n",
      "pwskills\n",
      "course\n"
     ]
    }
   ],
   "source": [
    "l1 = []\n",
    "for i in l:\n",
    "    print(i)\n",
    "    l1.append(i.upper())\n",
    "      "
   ]
  },
  {
   "cell_type": "code",
   "execution_count": 26,
   "id": "28207349-b1ad-4bdb-91fe-8ec5ffdce673",
   "metadata": {},
   "outputs": [
    {
     "data": {
      "text/plain": [
       "['RAHUL', 'SHARMA', 'PWSKILLS', 'COURSE']"
      ]
     },
     "execution_count": 26,
     "metadata": {},
     "output_type": "execute_result"
    }
   ],
   "source": [
    "l1"
   ]
  },
  {
   "cell_type": "code",
   "execution_count": 29,
   "id": "30797957-1dcc-4da5-a574-60163cff668e",
   "metadata": {},
   "outputs": [],
   "source": [
    "l = [1,2,3,4,4,'rahul','sharma',234,234.567,'abc']"
   ]
  },
  {
   "cell_type": "code",
   "execution_count": 60,
   "id": "7d378a09-ef0c-4564-82df-936227dc1f33",
   "metadata": {},
   "outputs": [],
   "source": [
    "l1_num=[]\n",
    "l3_float=[]\n",
    "l2_str=[]\n",
    "for i in l:\n",
    "    if type(i)==int:\n",
    "        l1_num.append(i)\n",
    "    if type(i)== float:\n",
    "        l3_float.append(i)\n",
    "    if type(i)==str:\n",
    "        l2_str.append(i)\n",
    "        \n",
    "    "
   ]
  },
  {
   "cell_type": "code",
   "execution_count": 57,
   "id": "e648b470-d8dd-4568-9eeb-2371199b3531",
   "metadata": {},
   "outputs": [
    {
     "data": {
      "text/plain": [
       "[1, 2, 3, 4, 4, 234]"
      ]
     },
     "execution_count": 57,
     "metadata": {},
     "output_type": "execute_result"
    }
   ],
   "source": [
    "l1_num"
   ]
  },
  {
   "cell_type": "code",
   "execution_count": 58,
   "id": "c7198d4a-b7c6-492c-aaec-49eb4932bd5a",
   "metadata": {},
   "outputs": [
    {
     "data": {
      "text/plain": [
       "[234.567]"
      ]
     },
     "execution_count": 58,
     "metadata": {},
     "output_type": "execute_result"
    }
   ],
   "source": [
    "l3_float"
   ]
  },
  {
   "cell_type": "code",
   "execution_count": 61,
   "id": "9b873115-8096-455d-8567-34adf817c8b1",
   "metadata": {},
   "outputs": [
    {
     "data": {
      "text/plain": [
       "['rahul', 'sharma', 'abc']"
      ]
     },
     "execution_count": 61,
     "metadata": {},
     "output_type": "execute_result"
    }
   ],
   "source": [
    "l2_str"
   ]
  },
  {
   "cell_type": "code",
   "execution_count": 63,
   "id": "58e6d1d7-3a7a-486a-b252-e531d8a46ac8",
   "metadata": {},
   "outputs": [],
   "source": [
    "l1_num=[]\n",
    "l2_str=[]\n",
    "for i in l:\n",
    "    if type(i)==int or type(i)== float :\n",
    "        l1_num.append(i)\n",
    "    if type(i)==str:\n",
    "        l2_str.append(i)\n",
    "        \n",
    "    "
   ]
  },
  {
   "cell_type": "code",
   "execution_count": 64,
   "id": "6bb4346d-c599-4a72-ace2-52540dc8d8e9",
   "metadata": {},
   "outputs": [
    {
     "data": {
      "text/plain": [
       "[1, 2, 3, 4, 4, 234, 234.567]"
      ]
     },
     "execution_count": 64,
     "metadata": {},
     "output_type": "execute_result"
    }
   ],
   "source": [
    "l1_num"
   ]
  },
  {
   "cell_type": "code",
   "execution_count": 65,
   "id": "e46d1394-385e-4d30-b730-39e7876c114b",
   "metadata": {},
   "outputs": [
    {
     "data": {
      "text/plain": [
       "['rahul', 'sharma', 'abc']"
      ]
     },
     "execution_count": 65,
     "metadata": {},
     "output_type": "execute_result"
    }
   ],
   "source": [
    "l2_str"
   ]
  },
  {
   "cell_type": "code",
   "execution_count": null,
   "id": "c4a88539-9b98-4d4f-8ff9-df097cdd7fee",
   "metadata": {},
   "outputs": [],
   "source": []
  }
 ],
 "metadata": {
  "kernelspec": {
   "display_name": "Python 3 (ipykernel)",
   "language": "python",
   "name": "python3"
  },
  "language_info": {
   "codemirror_mode": {
    "name": "ipython",
    "version": 3
   },
   "file_extension": ".py",
   "mimetype": "text/x-python",
   "name": "python",
   "nbconvert_exporter": "python",
   "pygments_lexer": "ipython3",
   "version": "3.11.7"
  }
 },
 "nbformat": 4,
 "nbformat_minor": 5
}
