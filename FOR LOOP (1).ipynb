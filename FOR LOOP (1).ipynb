{
 "cells": [
  {
   "cell_type": "code",
   "execution_count": 1,
   "id": "a4e29e43-daf8-4486-96cc-bcc4f2009246",
   "metadata": {},
   "outputs": [],
   "source": [
    "l = [1,2,3,4,5,6,7,8,9,10]"
   ]
  },
  {
   "cell_type": "code",
   "execution_count": 2,
   "id": "fb46ac02-522e-4834-8f90-7e90cc3952f5",
   "metadata": {},
   "outputs": [],
   "source": [
    "# loop ka use tab karte hai hm jab hame list me se elements nikal kar us par koi operation karna ho"
   ]
  },
  {
   "cell_type": "code",
   "execution_count": 3,
   "id": "aabe857f-1f2a-4133-93b4-820da506bf99",
   "metadata": {},
   "outputs": [],
   "source": [
    "# there is two types of loop\n",
    "# for loop\n",
    "# while loop"
   ]
  },
  {
   "cell_type": "code",
   "execution_count": 7,
   "id": "90dc36e9-db43-4619-9c2f-dd3b52ffcd84",
   "metadata": {},
   "outputs": [
    {
     "name": "stdout",
     "output_type": "stream",
     "text": [
      "1\n",
      "2\n",
      "3\n",
      "4\n",
      "5\n",
      "6\n",
      "7\n",
      "8\n",
      "9\n",
      "10\n"
     ]
    }
   ],
   "source": [
    "for i in l:\n",
    "    print(i)"
   ]
  },
  {
   "cell_type": "code",
   "execution_count": 8,
   "id": "ee8e422f-935d-460d-b3e6-91753a039aca",
   "metadata": {},
   "outputs": [
    {
     "name": "stdout",
     "output_type": "stream",
     "text": [
      "1 <class 'int'>\n",
      "2 <class 'int'>\n",
      "3 <class 'int'>\n",
      "4 <class 'int'>\n",
      "5 <class 'int'>\n",
      "6 <class 'int'>\n",
      "7 <class 'int'>\n",
      "8 <class 'int'>\n",
      "9 <class 'int'>\n",
      "10 <class 'int'>\n"
     ]
    }
   ],
   "source": [
    "for i in l:\n",
    "    print(i, type(i))"
   ]
  },
  {
   "cell_type": "code",
   "execution_count": 9,
   "id": "bbe9bba6-bd83-45e3-b79c-30c4258a47a7",
   "metadata": {},
   "outputs": [],
   "source": [
    "l1 = ['rahul','sharma','mahadev','mata']"
   ]
  },
  {
   "cell_type": "code",
   "execution_count": 12,
   "id": "fd25945a-33ab-4907-8d17-7ed9873d42ec",
   "metadata": {},
   "outputs": [
    {
     "name": "stdout",
     "output_type": "stream",
     "text": [
      "rahul\n",
      "sharma\n",
      "mahadev\n",
      "mata\n"
     ]
    }
   ],
   "source": [
    "for i in l1:\n",
    "    print(i)"
   ]
  },
  {
   "cell_type": "code",
   "execution_count": 13,
   "id": "17a2471e-a3a6-4e04-a355-ba28386a9ef9",
   "metadata": {},
   "outputs": [
    {
     "name": "stdout",
     "output_type": "stream",
     "text": [
      "rahul <class 'str'>\n",
      "sharma <class 'str'>\n",
      "mahadev <class 'str'>\n",
      "mata <class 'str'>\n"
     ]
    }
   ],
   "source": [
    "for i in l1:\n",
    "    print(i,type(i))"
   ]
  },
  {
   "cell_type": "code",
   "execution_count": 14,
   "id": "3e25a5b7-437e-4221-a7a5-f4d733f30498",
   "metadata": {},
   "outputs": [
    {
     "data": {
      "text/plain": [
       "['rahul', 'sharma', 'mahadev', 'mata']"
      ]
     },
     "execution_count": 14,
     "metadata": {},
     "output_type": "execute_result"
    }
   ],
   "source": [
    "l1"
   ]
  },
  {
   "cell_type": "code",
   "execution_count": 15,
   "id": "60ca870a-11d4-4e29-878f-04abc8880477",
   "metadata": {},
   "outputs": [
    {
     "name": "stdout",
     "output_type": "stream",
     "text": [
      "rahul\n",
      "sharma\n",
      "mahadev\n",
      "mata\n",
      "do something\n"
     ]
    }
   ],
   "source": [
    "for i in l1:\n",
    "    print(i)\n",
    "else:\n",
    "    print('do something')"
   ]
  },
  {
   "cell_type": "code",
   "execution_count": 16,
   "id": "d4b46546-950f-4a50-b40e-ec4ce67f8a70",
   "metadata": {},
   "outputs": [],
   "source": [
    "# else tabhi exicute hoga jab for loop successfully complete ho jaye"
   ]
  },
  {
   "cell_type": "code",
   "execution_count": 17,
   "id": "eba13d2f-d744-480c-8433-b9e2a08c8410",
   "metadata": {},
   "outputs": [
    {
     "data": {
      "text/plain": [
       "['rahul', 'sharma', 'mahadev', 'mata']"
      ]
     },
     "execution_count": 17,
     "metadata": {},
     "output_type": "execute_result"
    }
   ],
   "source": [
    "l1"
   ]
  },
  {
   "cell_type": "code",
   "execution_count": 18,
   "id": "e7509a1b-844c-4ccd-accd-38992c1d624b",
   "metadata": {},
   "outputs": [
    {
     "name": "stdout",
     "output_type": "stream",
     "text": [
      "rahul\n"
     ]
    }
   ],
   "source": [
    "for i in l1:\n",
    "    if i == 'sharma':\n",
    "        break\n",
    "    print(i)    \n",
    "    "
   ]
  },
  {
   "cell_type": "code",
   "execution_count": 27,
   "id": "0dce42d6-ab86-4bd3-b292-c1c21eb7ae77",
   "metadata": {},
   "outputs": [],
   "source": [
    "# since yaha pr i ki value sharma mil gaya hai to condition true ho gya hai that's why for loop braek ho gya h"
   ]
  },
  {
   "cell_type": "code",
   "execution_count": 28,
   "id": "4d7908f4-df5d-423b-bfab-4adf4f701d3f",
   "metadata": {},
   "outputs": [
    {
     "data": {
      "text/plain": [
       "['rahul', 'sharma', 'mahadev', 'mata']"
      ]
     },
     "execution_count": 28,
     "metadata": {},
     "output_type": "execute_result"
    }
   ],
   "source": [
    "l1"
   ]
  },
  {
   "cell_type": "code",
   "execution_count": 29,
   "id": "bc90d2c8-5cc0-4747-84b8-0bd95b793576",
   "metadata": {},
   "outputs": [
    {
     "name": "stdout",
     "output_type": "stream",
     "text": [
      "rahul\n"
     ]
    }
   ],
   "source": [
    "for i in l1:\n",
    "    if i == 'sharma':\n",
    "        break\n",
    "    print(i)\n",
    "else:\n",
    "    print ('this is my data science master class no 3')"
   ]
  },
  {
   "cell_type": "code",
   "execution_count": 30,
   "id": "143aabdf-4390-4918-bb8c-6439162850f4",
   "metadata": {},
   "outputs": [],
   "source": [
    "#since yaha par for loop complete nhi ho paya tha isi liye else wala condition print nhi hua hai"
   ]
  },
  {
   "cell_type": "code",
   "execution_count": 31,
   "id": "4549a376-d01f-499b-850f-8df36d06297d",
   "metadata": {},
   "outputs": [
    {
     "data": {
      "text/plain": [
       "['rahul', 'sharma', 'mahadev', 'mata']"
      ]
     },
     "execution_count": 31,
     "metadata": {},
     "output_type": "execute_result"
    }
   ],
   "source": [
    "l1"
   ]
  },
  {
   "cell_type": "code",
   "execution_count": 32,
   "id": "e7d3dd04-d72a-4b4d-b829-ffa513e3590e",
   "metadata": {},
   "outputs": [
    {
     "name": "stdout",
     "output_type": "stream",
     "text": [
      "rahul\n",
      "mahadev\n",
      "mata\n"
     ]
    }
   ],
   "source": [
    "for i in l1:\n",
    "    if i == 'sharma':\n",
    "        continue\n",
    "    print(i)    "
   ]
  },
  {
   "cell_type": "code",
   "execution_count": 33,
   "id": "7265e462-8cc6-489c-b1b7-043948ad07d5",
   "metadata": {},
   "outputs": [],
   "source": [
    "# jab i ki value true ho jati hai tab continue function us value ko chhod kar next value ko check karta hai and use print karta hai"
   ]
  },
  {
   "cell_type": "code",
   "execution_count": 34,
   "id": "16d71149-b5a3-4232-836f-c8b2be894205",
   "metadata": {},
   "outputs": [
    {
     "name": "stdout",
     "output_type": "stream",
     "text": [
      "rahul\n",
      "mahadev\n",
      "mata\n",
      "this is my data science masters class 3\n"
     ]
    }
   ],
   "source": [
    "for i in l1:\n",
    "    if i == 'sharma':\n",
    "        continue\n",
    "    print(i) \n",
    "else:\n",
    "    print('this is my data science masters class 3')\n"
   ]
  },
  {
   "cell_type": "code",
   "execution_count": 35,
   "id": "ef1e2754-5943-4b96-8b20-8bca15dbe295",
   "metadata": {},
   "outputs": [],
   "source": [
    "# is condition me for loop pura complete hua hai is liye else function exicute hua hai"
   ]
  },
  {
   "cell_type": "code",
   "execution_count": 36,
   "id": "1765a164-f88b-45a8-a479-ce81f941bb0f",
   "metadata": {},
   "outputs": [],
   "source": [
    "# Range function"
   ]
  },
  {
   "cell_type": "code",
   "execution_count": 37,
   "id": "c9b78b78-e5eb-4824-bce4-1776ac2d9b95",
   "metadata": {},
   "outputs": [
    {
     "data": {
      "text/plain": [
       "range(0, 5)"
      ]
     },
     "execution_count": 37,
     "metadata": {},
     "output_type": "execute_result"
    }
   ],
   "source": [
    "range(5)"
   ]
  },
  {
   "cell_type": "code",
   "execution_count": 38,
   "id": "3762709d-94e5-4689-9df8-22d953a83b8d",
   "metadata": {},
   "outputs": [
    {
     "data": {
      "text/plain": [
       "[0, 1, 2, 3, 4]"
      ]
     },
     "execution_count": 38,
     "metadata": {},
     "output_type": "execute_result"
    }
   ],
   "source": [
    "list(range(5))"
   ]
  },
  {
   "cell_type": "code",
   "execution_count": 40,
   "id": "9561a1b6-9ab4-491d-a336-8b3e021664f2",
   "metadata": {},
   "outputs": [
    {
     "data": {
      "text/plain": [
       "[0, 2, 4]"
      ]
     },
     "execution_count": 40,
     "metadata": {},
     "output_type": "execute_result"
    }
   ],
   "source": [
    "list(range(0,5,2))"
   ]
  },
  {
   "cell_type": "code",
   "execution_count": 42,
   "id": "2fa77206-3e3d-40cb-8aa0-06913c64c75c",
   "metadata": {},
   "outputs": [
    {
     "data": {
      "text/plain": [
       "range(0, 20)"
      ]
     },
     "execution_count": 42,
     "metadata": {},
     "output_type": "execute_result"
    }
   ],
   "source": [
    "range(0,20)"
   ]
  },
  {
   "cell_type": "code",
   "execution_count": 43,
   "id": "397db4bf-b8c0-403d-8f05-cd2515e881c9",
   "metadata": {},
   "outputs": [
    {
     "data": {
      "text/plain": [
       "[0, 2, 4, 6, 8, 10, 12, 14, 16, 18]"
      ]
     },
     "execution_count": 43,
     "metadata": {},
     "output_type": "execute_result"
    }
   ],
   "source": [
    "list(range(0,20,2))"
   ]
  },
  {
   "cell_type": "code",
   "execution_count": 44,
   "id": "2d2c92d8-6cbc-418e-988f-23983d2f6ae3",
   "metadata": {},
   "outputs": [
    {
     "data": {
      "text/plain": [
       "[-10, -9, -8, -7, -6, -5, -4, -3, -2, -1]"
      ]
     },
     "execution_count": 44,
     "metadata": {},
     "output_type": "execute_result"
    }
   ],
   "source": [
    "list(range(-10,0))"
   ]
  },
  {
   "cell_type": "code",
   "execution_count": 45,
   "id": "50c70038-b99f-4c3b-b98a-899c32cee16b",
   "metadata": {},
   "outputs": [
    {
     "data": {
      "text/plain": [
       "['rahul', 'sharma', 'mahadev', 'mata']"
      ]
     },
     "execution_count": 45,
     "metadata": {},
     "output_type": "execute_result"
    }
   ],
   "source": [
    "l1"
   ]
  },
  {
   "cell_type": "code",
   "execution_count": 46,
   "id": "0d2a9070-52fe-469a-9ff7-be61d1f2839d",
   "metadata": {},
   "outputs": [
    {
     "data": {
      "text/plain": [
       "4"
      ]
     },
     "execution_count": 46,
     "metadata": {},
     "output_type": "execute_result"
    }
   ],
   "source": [
    "len(l1)"
   ]
  },
  {
   "cell_type": "code",
   "execution_count": 47,
   "id": "80001bc0-1ab8-48b6-b509-d1763b4b2102",
   "metadata": {},
   "outputs": [
    {
     "data": {
      "text/plain": [
       "[0, 1, 2, 3]"
      ]
     },
     "execution_count": 47,
     "metadata": {},
     "output_type": "execute_result"
    }
   ],
   "source": [
    "list(range(len(l1)))"
   ]
  },
  {
   "cell_type": "code",
   "execution_count": 49,
   "id": "91044646-d462-4b3a-b5f7-a6b4ab3e4d93",
   "metadata": {},
   "outputs": [
    {
     "name": "stdout",
     "output_type": "stream",
     "text": [
      "rahul\n",
      "sharma\n",
      "mahadev\n",
      "mata\n"
     ]
    }
   ],
   "source": [
    "for i in range(len(l1)):\n",
    "    print(l1[i])\n",
    "    "
   ]
  },
  {
   "cell_type": "code",
   "execution_count": 53,
   "id": "aa55fee5-c4bb-4e84-acc3-31bb745a1555",
   "metadata": {},
   "outputs": [
    {
     "name": "stdout",
     "output_type": "stream",
     "text": [
      "mata\n",
      "mahadev\n",
      "sharma\n",
      "rahul\n"
     ]
    }
   ],
   "source": [
    "for i in range(len(l1)-1,-1,-1):\n",
    "    print(l1[i])\n",
    "    "
   ]
  },
  {
   "cell_type": "code",
   "execution_count": 54,
   "id": "3f2ead55-ffc5-421d-bc00-653752cd866c",
   "metadata": {},
   "outputs": [],
   "source": [
    "l2 = [25,56,78,90,34,56,78,98,3,4,6,8,9]"
   ]
  },
  {
   "cell_type": "code",
   "execution_count": 63,
   "id": "fa7272a1-19b6-4ebf-8f24-2a4c2bd36b7c",
   "metadata": {},
   "outputs": [
    {
     "data": {
      "text/plain": [
       "[0, 2, 4, 6, 8, 10, 12]"
      ]
     },
     "execution_count": 63,
     "metadata": {},
     "output_type": "execute_result"
    }
   ],
   "source": [
    "list(range(0,len(l2),2))"
   ]
  },
  {
   "cell_type": "code",
   "execution_count": 65,
   "id": "e58bd593-5080-4913-805d-3e1474a130f7",
   "metadata": {},
   "outputs": [
    {
     "name": "stdout",
     "output_type": "stream",
     "text": [
      "25\n",
      "78\n",
      "34\n",
      "78\n",
      "3\n",
      "6\n",
      "9\n"
     ]
    }
   ],
   "source": [
    "for i in range(0,len(l2),2):\n",
    "    print(l2[i])\n",
    "    "
   ]
  },
  {
   "cell_type": "code",
   "execution_count": null,
   "id": "b8f7e918-903d-4f36-b202-1acba7741038",
   "metadata": {},
   "outputs": [],
   "source": [
    "#for summation "
   ]
  },
  {
   "cell_type": "code",
   "execution_count": 66,
   "id": "40dc1f47-4fe3-4515-948f-15628742399c",
   "metadata": {},
   "outputs": [],
   "source": [
    "l=[1,2,3,4,5,6,7,8,9]"
   ]
  },
  {
   "cell_type": "code",
   "execution_count": 69,
   "id": "97d668bb-ea8a-40a2-8b3b-8bea70335b37",
   "metadata": {},
   "outputs": [
    {
     "data": {
      "text/plain": [
       "45"
      ]
     },
     "execution_count": 69,
     "metadata": {},
     "output_type": "execute_result"
    }
   ],
   "source": [
    "result=0\n",
    "for i in l:\n",
    "    result=result+i\n",
    "result"
   ]
  },
  {
   "cell_type": "code",
   "execution_count": 70,
   "id": "344f6e20-864d-4f0f-ad40-50eeac75f918",
   "metadata": {},
   "outputs": [],
   "source": [
    "t=(1,2,3,4,5,6,7,8,9,90)"
   ]
  },
  {
   "cell_type": "code",
   "execution_count": 71,
   "id": "1fabd2aa-fe41-47f9-8093-fac8ca8783a5",
   "metadata": {},
   "outputs": [
    {
     "name": "stdout",
     "output_type": "stream",
     "text": [
      "1\n",
      "2\n",
      "3\n",
      "4\n",
      "5\n",
      "6\n",
      "7\n",
      "8\n",
      "9\n",
      "90\n"
     ]
    }
   ],
   "source": [
    "for i in t:\n",
    "    print(i)"
   ]
  },
  {
   "cell_type": "code",
   "execution_count": 74,
   "id": "74259d55-27a3-48b1-9f9b-90b210e70866",
   "metadata": {},
   "outputs": [
    {
     "data": {
      "text/plain": [
       "135"
      ]
     },
     "execution_count": 74,
     "metadata": {},
     "output_type": "execute_result"
    }
   ],
   "source": [
    "result=0\n",
    "for i in t:\n",
    "    result=result + i\n",
    "result    "
   ]
  },
  {
   "cell_type": "code",
   "execution_count": 75,
   "id": "7defd91d-ca64-47ae-8171-7d2d4cf39b4c",
   "metadata": {},
   "outputs": [],
   "source": [
    "s={1,2,3,4,'rahul','sharma'}\n"
   ]
  },
  {
   "cell_type": "code",
   "execution_count": 76,
   "id": "44b691c0-e44e-48da-97af-a40c6db7bbe0",
   "metadata": {},
   "outputs": [
    {
     "name": "stdout",
     "output_type": "stream",
     "text": [
      "1\n",
      "2\n",
      "3\n",
      "sharma\n",
      "4\n",
      "rahul\n"
     ]
    }
   ],
   "source": [
    "for i in s :\n",
    "    print(i)"
   ]
  },
  {
   "cell_type": "code",
   "execution_count": 77,
   "id": "229376fb-bb88-4e89-800c-6a229c1e8da4",
   "metadata": {},
   "outputs": [],
   "source": [
    "s1='pwskills'"
   ]
  },
  {
   "cell_type": "code",
   "execution_count": 78,
   "id": "cc6d99db-735e-449a-a46e-2b5ee469c036",
   "metadata": {},
   "outputs": [
    {
     "name": "stdout",
     "output_type": "stream",
     "text": [
      "p\n",
      "w\n",
      "s\n",
      "k\n",
      "i\n",
      "l\n",
      "l\n",
      "s\n"
     ]
    }
   ],
   "source": [
    "for i in s1:\n",
    "    print(i)"
   ]
  },
  {
   "cell_type": "code",
   "execution_count": 80,
   "id": "2c08a0fb-ed97-4f5b-9f3a-b745fd23758d",
   "metadata": {},
   "outputs": [],
   "source": [
    "d={'name':'rahul','course':'data science masters','topics':['python','power bi','stastistics']}"
   ]
  },
  {
   "cell_type": "code",
   "execution_count": 81,
   "id": "62d6acdc-823a-47f0-9573-cde40afe0ff1",
   "metadata": {},
   "outputs": [
    {
     "data": {
      "text/plain": [
       "{'name': 'rahul',\n",
       " 'course': 'data science masters',\n",
       " 'topics': ['python', 'power bi', 'stastistics']}"
      ]
     },
     "execution_count": 81,
     "metadata": {},
     "output_type": "execute_result"
    }
   ],
   "source": [
    "d"
   ]
  },
  {
   "cell_type": "code",
   "execution_count": 82,
   "id": "ed0e114f-7bb4-47e3-98a8-7e55ca235420",
   "metadata": {},
   "outputs": [
    {
     "data": {
      "text/plain": [
       "dict_keys(['name', 'course', 'topics'])"
      ]
     },
     "execution_count": 82,
     "metadata": {},
     "output_type": "execute_result"
    }
   ],
   "source": [
    "d.keys()"
   ]
  },
  {
   "cell_type": "code",
   "execution_count": 83,
   "id": "8ac48785-e14f-4f5e-b1bb-b3cadc91fbd9",
   "metadata": {},
   "outputs": [
    {
     "name": "stdout",
     "output_type": "stream",
     "text": [
      "rahul\n",
      "data science masters\n",
      "['python', 'power bi', 'stastistics']\n"
     ]
    }
   ],
   "source": [
    "for i in d.keys():\n",
    "    print(d[i])"
   ]
  },
  {
   "cell_type": "code",
   "execution_count": 84,
   "id": "ddd1f689-4bbe-4ce9-8f95-80835e529b64",
   "metadata": {},
   "outputs": [
    {
     "data": {
      "text/plain": [
       "dict_values(['rahul', 'data science masters', ['python', 'power bi', 'stastistics']])"
      ]
     },
     "execution_count": 84,
     "metadata": {},
     "output_type": "execute_result"
    }
   ],
   "source": [
    "d.values()"
   ]
  },
  {
   "cell_type": "code",
   "execution_count": 86,
   "id": "4466c576-94c1-4cb7-ad05-b96d8e4da082",
   "metadata": {},
   "outputs": [
    {
     "name": "stdout",
     "output_type": "stream",
     "text": [
      "rahul\n",
      "data science masters\n",
      "['python', 'power bi', 'stastistics']\n"
     ]
    }
   ],
   "source": [
    "for i in d.values():\n",
    "    print(i)"
   ]
  },
  {
   "cell_type": "code",
   "execution_count": 87,
   "id": "9406ffe6-bb4c-4467-8ea4-c506a7dca322",
   "metadata": {},
   "outputs": [
    {
     "data": {
      "text/plain": [
       "dict_items([('name', 'rahul'), ('course', 'data science masters'), ('topics', ['python', 'power bi', 'stastistics'])])"
      ]
     },
     "execution_count": 87,
     "metadata": {},
     "output_type": "execute_result"
    }
   ],
   "source": [
    "d.items()"
   ]
  },
  {
   "cell_type": "code",
   "execution_count": 88,
   "id": "340151bd-b2d6-4a72-bee6-f953c9aea861",
   "metadata": {},
   "outputs": [
    {
     "name": "stdout",
     "output_type": "stream",
     "text": [
      "('name', 'rahul')\n",
      "('course', 'data science masters')\n",
      "('topics', ['python', 'power bi', 'stastistics'])\n"
     ]
    }
   ],
   "source": [
    "for i in d.items():\n",
    "    print (i)"
   ]
  },
  {
   "cell_type": "code",
   "execution_count": 103,
   "id": "40044b8c-ab4f-4394-ae2d-e0719aab80c0",
   "metadata": {},
   "outputs": [
    {
     "name": "stdout",
     "output_type": "stream",
     "text": [
      "I\n",
      "Want\n",
      "To\n",
      "Become\n",
      "A\n",
      "Data\n",
      "Scientist\n"
     ]
    }
   ],
   "source": [
    "s='i want to become a data scientist'\n",
    "for i in s.split():\n",
    "    i.capitalize()\n",
    "    print(i.title())"
   ]
  },
  {
   "cell_type": "code",
   "execution_count": 104,
   "id": "3f33bcf8-e9d5-4e6c-9b33-5d385ce675dd",
   "metadata": {},
   "outputs": [
    {
     "data": {
      "text/plain": [
       "'p'"
      ]
     },
     "execution_count": 104,
     "metadata": {},
     "output_type": "execute_result"
    }
   ],
   "source": [
    "'pwskills'[0]"
   ]
  },
  {
   "cell_type": "code",
   "execution_count": null,
   "id": "ed4a9df8-e7a8-4d65-a6af-8e6d4b6be3fd",
   "metadata": {},
   "outputs": [],
   "source": []
  }
 ],
 "metadata": {
  "kernelspec": {
   "display_name": "Python 3 (ipykernel)",
   "language": "python",
   "name": "python3"
  },
  "language_info": {
   "codemirror_mode": {
    "name": "ipython",
    "version": 3
   },
   "file_extension": ".py",
   "mimetype": "text/x-python",
   "name": "python",
   "nbconvert_exporter": "python",
   "pygments_lexer": "ipython3",
   "version": "3.11.7"
  }
 },
 "nbformat": 4,
 "nbformat_minor": 5
}
