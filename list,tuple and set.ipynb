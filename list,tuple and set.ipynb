{
 "cells": [
  {
   "cell_type": "code",
   "execution_count": 220,
   "id": "c2bdbcf8-24de-4ef8-8941-d5bdb114fb4e",
   "metadata": {},
   "outputs": [],
   "source": [
    "#List = kai tarah ke data type ko ek hi variable me store krne ke liye list ka use karte hai"
   ]
  },
  {
   "cell_type": "code",
   "execution_count": 221,
   "id": "7122412d-7f7f-4dd5-b748-c181e729ecda",
   "metadata": {},
   "outputs": [],
   "source": [
    "l = [1,23,45,'rahul',True,3+4j, 234.456]"
   ]
  },
  {
   "cell_type": "code",
   "execution_count": 222,
   "id": "4e34bf77-ea42-4a0b-8903-a2ec537fae06",
   "metadata": {},
   "outputs": [
    {
     "data": {
      "text/plain": [
       "list"
      ]
     },
     "execution_count": 222,
     "metadata": {},
     "output_type": "execute_result"
    }
   ],
   "source": [
    "type(l)"
   ]
  },
  {
   "cell_type": "code",
   "execution_count": 223,
   "id": "ef71a217-17fd-4d55-a6fe-afd14221f5da",
   "metadata": {},
   "outputs": [
    {
     "data": {
      "text/plain": [
       "1"
      ]
     },
     "execution_count": 223,
     "metadata": {},
     "output_type": "execute_result"
    }
   ],
   "source": [
    "l[0]"
   ]
  },
  {
   "cell_type": "code",
   "execution_count": 224,
   "id": "33933140-ef3b-4e3e-b2d2-140f350e4efb",
   "metadata": {},
   "outputs": [
    {
     "data": {
      "text/plain": [
       "True"
      ]
     },
     "execution_count": 224,
     "metadata": {},
     "output_type": "execute_result"
    }
   ],
   "source": [
    "l[4]"
   ]
  },
  {
   "cell_type": "code",
   "execution_count": 225,
   "id": "a76ce702-35a9-44b8-b836-f5c1af78e964",
   "metadata": {},
   "outputs": [
    {
     "ename": "IndexError",
     "evalue": "list index out of range",
     "output_type": "error",
     "traceback": [
      "\u001b[1;31m---------------------------------------------------------------------------\u001b[0m",
      "\u001b[1;31mIndexError\u001b[0m                                Traceback (most recent call last)",
      "Cell \u001b[1;32mIn[225], line 1\u001b[0m\n\u001b[1;32m----> 1\u001b[0m l[\u001b[38;5;241m90\u001b[39m]\n",
      "\u001b[1;31mIndexError\u001b[0m: list index out of range"
     ]
    }
   ],
   "source": [
    "l[90]"
   ]
  },
  {
   "cell_type": "code",
   "execution_count": 226,
   "id": "f7e56c9e-59dc-4209-b0cf-45ee510fea83",
   "metadata": {},
   "outputs": [
    {
     "data": {
      "text/plain": [
       "[1, 23, 45, 'rahul', True, (3+4j), 234.456]"
      ]
     },
     "execution_count": 226,
     "metadata": {},
     "output_type": "execute_result"
    }
   ],
   "source": [
    "l"
   ]
  },
  {
   "cell_type": "code",
   "execution_count": 227,
   "id": "db57e1cb-6e42-4ae4-a28e-61d885436fb0",
   "metadata": {},
   "outputs": [],
   "source": [
    "#list ke andar hum kisi bhi type ke data ko store kar sakate hai"
   ]
  },
  {
   "cell_type": "code",
   "execution_count": 228,
   "id": "191a0138-3b5b-4fb4-be9f-44dfc99d0c24",
   "metadata": {},
   "outputs": [
    {
     "data": {
      "text/plain": [
       "[1, 23, 45]"
      ]
     },
     "execution_count": 228,
     "metadata": {},
     "output_type": "execute_result"
    }
   ],
   "source": [
    "l[0:3]"
   ]
  },
  {
   "cell_type": "code",
   "execution_count": 229,
   "id": "3e35ca89-0294-4006-b23b-7f82913906b2",
   "metadata": {},
   "outputs": [],
   "source": [
    "#reverse indexing"
   ]
  },
  {
   "cell_type": "code",
   "execution_count": 230,
   "id": "25cc8d8b-92b8-4bc4-8a17-8ce88e55a29e",
   "metadata": {},
   "outputs": [
    {
     "data": {
      "text/plain": [
       "234.456"
      ]
     },
     "execution_count": 230,
     "metadata": {},
     "output_type": "execute_result"
    }
   ],
   "source": [
    "l[-1]"
   ]
  },
  {
   "cell_type": "code",
   "execution_count": 231,
   "id": "ea639ac0-cc7e-43f6-865d-84a52e147da2",
   "metadata": {},
   "outputs": [],
   "source": [
    "#revercing"
   ]
  },
  {
   "cell_type": "code",
   "execution_count": 232,
   "id": "26dca01c-4f57-43a5-8066-49da38b23db7",
   "metadata": {},
   "outputs": [
    {
     "data": {
      "text/plain": [
       "[234.456, (3+4j), True, 'rahul', 45, 23, 1]"
      ]
     },
     "execution_count": 232,
     "metadata": {},
     "output_type": "execute_result"
    }
   ],
   "source": [
    "l[::-1]"
   ]
  },
  {
   "cell_type": "code",
   "execution_count": 233,
   "id": "6b5f1c0d-c874-4dd9-8c46-1653930b8e18",
   "metadata": {},
   "outputs": [],
   "source": [
    "#extracting data which are at even position"
   ]
  },
  {
   "cell_type": "code",
   "execution_count": 234,
   "id": "cb734bfa-ce79-4919-9394-fb02b8110385",
   "metadata": {},
   "outputs": [
    {
     "data": {
      "text/plain": [
       "[1, 23, 45, 'rahul', True, (3+4j), 234.456]"
      ]
     },
     "execution_count": 234,
     "metadata": {},
     "output_type": "execute_result"
    }
   ],
   "source": [
    "l"
   ]
  },
  {
   "cell_type": "code",
   "execution_count": 235,
   "id": "aec5929b-8a02-4ac6-a12b-0f1dac299152",
   "metadata": {},
   "outputs": [
    {
     "data": {
      "text/plain": [
       "[1, 45, True, 234.456]"
      ]
     },
     "execution_count": 235,
     "metadata": {},
     "output_type": "execute_result"
    }
   ],
   "source": [
    "l[::2]"
   ]
  },
  {
   "cell_type": "code",
   "execution_count": 236,
   "id": "898df687-b6dc-47d1-a555-18193e26fd31",
   "metadata": {},
   "outputs": [],
   "source": [
    "#list + string"
   ]
  },
  {
   "cell_type": "code",
   "execution_count": 237,
   "id": "a1fdcd4b-df56-4e81-8ac0-aa68f2aa0a34",
   "metadata": {},
   "outputs": [
    {
     "data": {
      "text/plain": [
       "[1, 23, 45, 'rahul', True, (3+4j), 234.456]"
      ]
     },
     "execution_count": 237,
     "metadata": {},
     "output_type": "execute_result"
    }
   ],
   "source": [
    "l"
   ]
  },
  {
   "cell_type": "code",
   "execution_count": 238,
   "id": "f2a83674-84ca-463a-82a8-9193eb6070c4",
   "metadata": {},
   "outputs": [],
   "source": [
    "s='pwskills'"
   ]
  },
  {
   "cell_type": "code",
   "execution_count": 239,
   "id": "2b45676c-1728-401b-9ae0-3ed220c1c543",
   "metadata": {},
   "outputs": [
    {
     "ename": "TypeError",
     "evalue": "can only concatenate list (not \"str\") to list",
     "output_type": "error",
     "traceback": [
      "\u001b[1;31m---------------------------------------------------------------------------\u001b[0m",
      "\u001b[1;31mTypeError\u001b[0m                                 Traceback (most recent call last)",
      "Cell \u001b[1;32mIn[239], line 1\u001b[0m\n\u001b[1;32m----> 1\u001b[0m l\u001b[38;5;241m+\u001b[39ms\n",
      "\u001b[1;31mTypeError\u001b[0m: can only concatenate list (not \"str\") to list"
     ]
    }
   ],
   "source": [
    "l+s"
   ]
  },
  {
   "cell_type": "code",
   "execution_count": 240,
   "id": "4b36e58d-1661-4da2-9c24-6fae815b2962",
   "metadata": {},
   "outputs": [
    {
     "data": {
      "text/plain": [
       "['p',\n",
       " 'w',\n",
       " 's',\n",
       " 'k',\n",
       " 'i',\n",
       " 'l',\n",
       " 'l',\n",
       " 's',\n",
       " 1,\n",
       " 23,\n",
       " 45,\n",
       " 'rahul',\n",
       " True,\n",
       " (3+4j),\n",
       " 234.456]"
      ]
     },
     "execution_count": 240,
     "metadata": {},
     "output_type": "execute_result"
    }
   ],
   "source": [
    "list(s) + l"
   ]
  },
  {
   "cell_type": "code",
   "execution_count": 241,
   "id": "452311ba-3d5e-49e9-b3a8-fbb2fb3352a0",
   "metadata": {},
   "outputs": [],
   "source": [
    "# list + string will not work directly for that we have to use append and extend functions in upcoming class"
   ]
  },
  {
   "cell_type": "code",
   "execution_count": 242,
   "id": "71fdbefc-3271-438e-9eba-55a9266c5d2c",
   "metadata": {},
   "outputs": [
    {
     "data": {
      "text/plain": [
       "[1, 23, 45, 'rahul', True, (3+4j), 234.456]"
      ]
     },
     "execution_count": 242,
     "metadata": {},
     "output_type": "execute_result"
    }
   ],
   "source": [
    "l"
   ]
  },
  {
   "cell_type": "code",
   "execution_count": 243,
   "id": "602d2330-0a9f-4dfa-9e73-d9a4d3994fdd",
   "metadata": {},
   "outputs": [],
   "source": [
    "#extarcting rah from l"
   ]
  },
  {
   "cell_type": "code",
   "execution_count": 244,
   "id": "36e746dd-4cd1-4ebe-91a0-a3d22dc754f8",
   "metadata": {},
   "outputs": [
    {
     "data": {
      "text/plain": [
       "'rahul'"
      ]
     },
     "execution_count": 244,
     "metadata": {},
     "output_type": "execute_result"
    }
   ],
   "source": [
    "l[3]"
   ]
  },
  {
   "cell_type": "code",
   "execution_count": 245,
   "id": "8e851b8a-b4e7-41bf-b76d-8c404df290a4",
   "metadata": {},
   "outputs": [
    {
     "data": {
      "text/plain": [
       "str"
      ]
     },
     "execution_count": 245,
     "metadata": {},
     "output_type": "execute_result"
    }
   ],
   "source": [
    "type(l[3])"
   ]
  },
  {
   "cell_type": "code",
   "execution_count": 246,
   "id": "af4fb6e0-f17c-4444-854e-454f0a942e38",
   "metadata": {},
   "outputs": [
    {
     "data": {
      "text/plain": [
       "'rah'"
      ]
     },
     "execution_count": 246,
     "metadata": {},
     "output_type": "execute_result"
    }
   ],
   "source": [
    "l[3][0:3]"
   ]
  },
  {
   "cell_type": "code",
   "execution_count": 247,
   "id": "7b26b057-1af4-49e3-aa5e-7c11edd5f727",
   "metadata": {},
   "outputs": [
    {
     "data": {
      "text/plain": [
       "True"
      ]
     },
     "execution_count": 247,
     "metadata": {},
     "output_type": "execute_result"
    }
   ],
   "source": [
    "l[4]"
   ]
  },
  {
   "cell_type": "code",
   "execution_count": 248,
   "id": "13f08a41-19c5-41ab-8f56-ef4d1e96d315",
   "metadata": {},
   "outputs": [],
   "source": [
    "#exrtacting tr from True\n",
    "#for this convert True in to sring"
   ]
  },
  {
   "cell_type": "code",
   "execution_count": 249,
   "id": "8285fe88-4bae-4f9a-9364-b91a609285e5",
   "metadata": {},
   "outputs": [
    {
     "data": {
      "text/plain": [
       "'True'"
      ]
     },
     "execution_count": 249,
     "metadata": {},
     "output_type": "execute_result"
    }
   ],
   "source": [
    "str(l[4])"
   ]
  },
  {
   "cell_type": "code",
   "execution_count": 250,
   "id": "8f6a8f82-fa9a-436a-a5b0-1a501374d7cb",
   "metadata": {},
   "outputs": [
    {
     "data": {
      "text/plain": [
       "'Tr'"
      ]
     },
     "execution_count": 250,
     "metadata": {},
     "output_type": "execute_result"
    }
   ],
   "source": [
    "str(l[4])[0:2]"
   ]
  },
  {
   "cell_type": "code",
   "execution_count": 251,
   "id": "d11fcd43-d05c-47f7-bbfb-5842ddd143fb",
   "metadata": {},
   "outputs": [
    {
     "ename": "TypeError",
     "evalue": "can only concatenate list (not \"int\") to list",
     "output_type": "error",
     "traceback": [
      "\u001b[1;31m---------------------------------------------------------------------------\u001b[0m",
      "\u001b[1;31mTypeError\u001b[0m                                 Traceback (most recent call last)",
      "Cell \u001b[1;32mIn[251], line 1\u001b[0m\n\u001b[1;32m----> 1\u001b[0m l \u001b[38;5;241m+\u001b[39m \u001b[38;5;241m5\u001b[39m\n",
      "\u001b[1;31mTypeError\u001b[0m: can only concatenate list (not \"int\") to list"
     ]
    }
   ],
   "source": [
    "l + 5"
   ]
  },
  {
   "cell_type": "code",
   "execution_count": 252,
   "id": "1b4b6cfd-0335-4ebc-a9ec-6a052db36ac4",
   "metadata": {},
   "outputs": [],
   "source": [
    "# list se kewal list ko hi cocatinate kar sakte hai"
   ]
  },
  {
   "cell_type": "code",
   "execution_count": 253,
   "id": "a800b9cc-b454-47f7-9c26-71bc76dd5a7e",
   "metadata": {},
   "outputs": [],
   "source": [
    "#concatination of list with list"
   ]
  },
  {
   "cell_type": "code",
   "execution_count": 254,
   "id": "66e88c44-98db-45dc-91ee-18ff9ee7ce33",
   "metadata": {},
   "outputs": [],
   "source": [
    "l1= [3,4,6,7,8]"
   ]
  },
  {
   "cell_type": "code",
   "execution_count": 255,
   "id": "cf95115d-25ab-4792-b3be-25f85c21c7f2",
   "metadata": {},
   "outputs": [
    {
     "data": {
      "text/plain": [
       "[1, 23, 45, 'rahul', True, (3+4j), 234.456, 3, 4, 6, 7, 8]"
      ]
     },
     "execution_count": 255,
     "metadata": {},
     "output_type": "execute_result"
    }
   ],
   "source": [
    "l + l1"
   ]
  },
  {
   "cell_type": "code",
   "execution_count": 256,
   "id": "d9501c0b-d823-40a9-8af6-5c246fdf123b",
   "metadata": {},
   "outputs": [],
   "source": [
    "#multiplication of list"
   ]
  },
  {
   "cell_type": "code",
   "execution_count": 257,
   "id": "23c6678d-569c-4e9e-ad6e-8066465d9f7a",
   "metadata": {},
   "outputs": [
    {
     "data": {
      "text/plain": [
       "[3, 4, 6, 7, 8]"
      ]
     },
     "execution_count": 257,
     "metadata": {},
     "output_type": "execute_result"
    }
   ],
   "source": [
    "l1"
   ]
  },
  {
   "cell_type": "code",
   "execution_count": 258,
   "id": "f78191f2-194e-482c-9342-c412afe808f9",
   "metadata": {},
   "outputs": [
    {
     "data": {
      "text/plain": [
       "[3, 4, 6, 7, 8, 3, 4, 6, 7, 8, 3, 4, 6, 7, 8]"
      ]
     },
     "execution_count": 258,
     "metadata": {},
     "output_type": "execute_result"
    }
   ],
   "source": [
    "l1*3"
   ]
  },
  {
   "cell_type": "code",
   "execution_count": 259,
   "id": "7bf23910-0472-43d1-8b61-9a67dbc9eac0",
   "metadata": {},
   "outputs": [
    {
     "data": {
      "text/plain": [
       "[1, 23, 45, 'rahul', True, (3+4j), 234.456]"
      ]
     },
     "execution_count": 259,
     "metadata": {},
     "output_type": "execute_result"
    }
   ],
   "source": [
    "l"
   ]
  },
  {
   "cell_type": "code",
   "execution_count": 260,
   "id": "a243e03f-3bc8-4f3f-a3b5-6a19e300413b",
   "metadata": {},
   "outputs": [],
   "source": [
    "#length of list"
   ]
  },
  {
   "cell_type": "code",
   "execution_count": 261,
   "id": "7f5917df-e445-4d68-a254-d12e9b591fa5",
   "metadata": {},
   "outputs": [
    {
     "data": {
      "text/plain": [
       "7"
      ]
     },
     "execution_count": 261,
     "metadata": {},
     "output_type": "execute_result"
    }
   ],
   "source": [
    "len(l)"
   ]
  },
  {
   "cell_type": "code",
   "execution_count": 262,
   "id": "776ebd77-db13-4128-aee5-160afb55d97b",
   "metadata": {},
   "outputs": [],
   "source": [
    "# append function"
   ]
  },
  {
   "cell_type": "code",
   "execution_count": 263,
   "id": "cbdf79dd-7370-4a34-9530-dfa7f25f8d32",
   "metadata": {},
   "outputs": [],
   "source": [
    "l = [1,23,45,'rahul',True,3+4j, 234.456]"
   ]
  },
  {
   "cell_type": "code",
   "execution_count": 264,
   "id": "c1ab1490-477d-4eaa-89eb-1aea57cdaad9",
   "metadata": {},
   "outputs": [],
   "source": [
    "l.append(5)"
   ]
  },
  {
   "cell_type": "code",
   "execution_count": 265,
   "id": "69524c87-01e7-41c7-9e1b-25855aa6267e",
   "metadata": {},
   "outputs": [
    {
     "data": {
      "text/plain": [
       "[1, 23, 45, 'rahul', True, (3+4j), 234.456, 5]"
      ]
     },
     "execution_count": 265,
     "metadata": {},
     "output_type": "execute_result"
    }
   ],
   "source": [
    "l"
   ]
  },
  {
   "cell_type": "code",
   "execution_count": 266,
   "id": "17bbdf8a-558e-405a-87dd-0326895d582f",
   "metadata": {},
   "outputs": [
    {
     "data": {
      "text/plain": [
       "'pwskills'"
      ]
     },
     "execution_count": 266,
     "metadata": {},
     "output_type": "execute_result"
    }
   ],
   "source": [
    "s"
   ]
  },
  {
   "cell_type": "code",
   "execution_count": 267,
   "id": "e161a423-430e-4efb-a838-9b0280fdee43",
   "metadata": {},
   "outputs": [],
   "source": [
    "l.append(s)"
   ]
  },
  {
   "cell_type": "code",
   "execution_count": 268,
   "id": "d85187e6-234c-4bef-a129-df13b3a2cc20",
   "metadata": {},
   "outputs": [
    {
     "data": {
      "text/plain": [
       "[1, 23, 45, 'rahul', True, (3+4j), 234.456, 5, 'pwskills']"
      ]
     },
     "execution_count": 268,
     "metadata": {},
     "output_type": "execute_result"
    }
   ],
   "source": [
    "l"
   ]
  },
  {
   "cell_type": "code",
   "execution_count": 269,
   "id": "5e230c91-9035-47b5-bda0-e76365629365",
   "metadata": {},
   "outputs": [
    {
     "data": {
      "text/plain": [
       "[1, 23, 45, 'rahul', True, (3+4j), 234.456, 5, 'pwskills']"
      ]
     },
     "execution_count": 269,
     "metadata": {},
     "output_type": "execute_result"
    }
   ],
   "source": [
    "l"
   ]
  },
  {
   "cell_type": "code",
   "execution_count": 270,
   "id": "444d93aa-aa6b-4650-9e93-41d3b747aadd",
   "metadata": {},
   "outputs": [
    {
     "data": {
      "text/plain": [
       "[3, 4, 6, 7, 8]"
      ]
     },
     "execution_count": 270,
     "metadata": {},
     "output_type": "execute_result"
    }
   ],
   "source": [
    "l1"
   ]
  },
  {
   "cell_type": "code",
   "execution_count": 271,
   "id": "b2199592-7280-4852-aa99-ff23a1c0b2c9",
   "metadata": {},
   "outputs": [],
   "source": [
    "l.append(l1)"
   ]
  },
  {
   "cell_type": "code",
   "execution_count": 272,
   "id": "cd8d28f9-68f2-4438-aedf-34c9862bffd3",
   "metadata": {},
   "outputs": [
    {
     "data": {
      "text/plain": [
       "[1, 23, 45, 'rahul', True, (3+4j), 234.456, 5, 'pwskills', [3, 4, 6, 7, 8]]"
      ]
     },
     "execution_count": 272,
     "metadata": {},
     "output_type": "execute_result"
    }
   ],
   "source": [
    "l"
   ]
  },
  {
   "cell_type": "code",
   "execution_count": 273,
   "id": "3e3df4c3-f7ea-47fa-85fd-711a4ec5c012",
   "metadata": {},
   "outputs": [
    {
     "data": {
      "text/plain": [
       "[3, 4, 6, 7, 8]"
      ]
     },
     "execution_count": 273,
     "metadata": {},
     "output_type": "execute_result"
    }
   ],
   "source": [
    "l[-1]"
   ]
  },
  {
   "cell_type": "code",
   "execution_count": 274,
   "id": "b7c36c51-1e05-434d-92b8-ae01025aa215",
   "metadata": {},
   "outputs": [
    {
     "data": {
      "text/plain": [
       "4"
      ]
     },
     "execution_count": 274,
     "metadata": {},
     "output_type": "execute_result"
    }
   ],
   "source": [
    "l[-1][1]"
   ]
  },
  {
   "cell_type": "code",
   "execution_count": 275,
   "id": "364c5d5a-6c7d-4eb0-9fa5-3722a9aeb068",
   "metadata": {},
   "outputs": [],
   "source": [
    "#extand function"
   ]
  },
  {
   "cell_type": "code",
   "execution_count": 276,
   "id": "69131ed8-8023-40d0-bbc4-7a6d8c76c6dd",
   "metadata": {},
   "outputs": [
    {
     "data": {
      "text/plain": [
       "[1, 23, 45, 'rahul', True, (3+4j), 234.456, 5, 'pwskills', [3, 4, 6, 7, 8]]"
      ]
     },
     "execution_count": 276,
     "metadata": {},
     "output_type": "execute_result"
    }
   ],
   "source": [
    "l"
   ]
  },
  {
   "cell_type": "code",
   "execution_count": 277,
   "id": "2c147d4c-db15-4de0-aa5c-b2b7dadd1e95",
   "metadata": {},
   "outputs": [
    {
     "ename": "TypeError",
     "evalue": "'int' object is not iterable",
     "output_type": "error",
     "traceback": [
      "\u001b[1;31m---------------------------------------------------------------------------\u001b[0m",
      "\u001b[1;31mTypeError\u001b[0m                                 Traceback (most recent call last)",
      "Cell \u001b[1;32mIn[277], line 1\u001b[0m\n\u001b[1;32m----> 1\u001b[0m l\u001b[38;5;241m.\u001b[39mextend(\u001b[38;5;241m4\u001b[39m)\n",
      "\u001b[1;31mTypeError\u001b[0m: 'int' object is not iterable"
     ]
    }
   ],
   "source": [
    "l.extend(4)"
   ]
  },
  {
   "cell_type": "code",
   "execution_count": 278,
   "id": "de70fa34-a77b-4cf0-93f1-a027d30130aa",
   "metadata": {},
   "outputs": [],
   "source": [
    "l.extend('rahul')"
   ]
  },
  {
   "cell_type": "code",
   "execution_count": 279,
   "id": "dd5341ed-9e46-456f-ae7c-d0f9585a351f",
   "metadata": {},
   "outputs": [
    {
     "data": {
      "text/plain": [
       "[1,\n",
       " 23,\n",
       " 45,\n",
       " 'rahul',\n",
       " True,\n",
       " (3+4j),\n",
       " 234.456,\n",
       " 5,\n",
       " 'pwskills',\n",
       " [3, 4, 6, 7, 8],\n",
       " 'r',\n",
       " 'a',\n",
       " 'h',\n",
       " 'u',\n",
       " 'l']"
      ]
     },
     "execution_count": 279,
     "metadata": {},
     "output_type": "execute_result"
    }
   ],
   "source": [
    "l"
   ]
  },
  {
   "cell_type": "code",
   "execution_count": 280,
   "id": "27f137cb-329c-45ea-ae7d-bec3b84e685f",
   "metadata": {},
   "outputs": [],
   "source": [
    "#extand function cocatinate string and list with list by breaking strin and list in to parts"
   ]
  },
  {
   "cell_type": "code",
   "execution_count": 281,
   "id": "3c1baf0a-e8dc-49b8-bc2c-3bcf32eb774f",
   "metadata": {},
   "outputs": [],
   "source": [
    "l.extend([3,4,5])"
   ]
  },
  {
   "cell_type": "code",
   "execution_count": 282,
   "id": "2ad5d540-134e-45ed-8c78-fb6db755147c",
   "metadata": {},
   "outputs": [
    {
     "data": {
      "text/plain": [
       "[1,\n",
       " 23,\n",
       " 45,\n",
       " 'rahul',\n",
       " True,\n",
       " (3+4j),\n",
       " 234.456,\n",
       " 5,\n",
       " 'pwskills',\n",
       " [3, 4, 6, 7, 8],\n",
       " 'r',\n",
       " 'a',\n",
       " 'h',\n",
       " 'u',\n",
       " 'l',\n",
       " 3,\n",
       " 4,\n",
       " 5]"
      ]
     },
     "execution_count": 282,
     "metadata": {},
     "output_type": "execute_result"
    }
   ],
   "source": [
    "l"
   ]
  },
  {
   "cell_type": "code",
   "execution_count": 283,
   "id": "dc579313-4119-4cef-81d2-5fbbfa358244",
   "metadata": {},
   "outputs": [],
   "source": [
    "#adding data in a list at a given position\n",
    "#insert function"
   ]
  },
  {
   "cell_type": "code",
   "execution_count": 284,
   "id": "43ea087c-9d34-4105-873e-5a4126b23271",
   "metadata": {},
   "outputs": [],
   "source": [
    "l1= [3,4,6,7,8]"
   ]
  },
  {
   "cell_type": "code",
   "execution_count": 285,
   "id": "31f47318-e231-40c1-9079-adc843a26639",
   "metadata": {},
   "outputs": [],
   "source": [
    "l1.insert(1,'rahul')"
   ]
  },
  {
   "cell_type": "code",
   "execution_count": 286,
   "id": "21fb99b9-20ae-4518-9972-c7653d10c167",
   "metadata": {},
   "outputs": [
    {
     "data": {
      "text/plain": [
       "[3, 'rahul', 4, 6, 7, 8]"
      ]
     },
     "execution_count": 286,
     "metadata": {},
     "output_type": "execute_result"
    }
   ],
   "source": [
    "l1"
   ]
  },
  {
   "cell_type": "code",
   "execution_count": 287,
   "id": "a3c083be-714b-4a7f-9de1-dfe98c619849",
   "metadata": {},
   "outputs": [],
   "source": [
    "# 1 represents which we have to put data"
   ]
  },
  {
   "cell_type": "code",
   "execution_count": 288,
   "id": "5e5d535d-0616-44af-bf5d-2301f98488ab",
   "metadata": {},
   "outputs": [],
   "source": [
    "l1.insert(2,[2,3,0,9])"
   ]
  },
  {
   "cell_type": "code",
   "execution_count": 289,
   "id": "39bbc0b1-bbcf-48d6-98fe-799665a5f5b8",
   "metadata": {},
   "outputs": [
    {
     "data": {
      "text/plain": [
       "[3, 'rahul', [2, 3, 0, 9], 4, 6, 7, 8]"
      ]
     },
     "execution_count": 289,
     "metadata": {},
     "output_type": "execute_result"
    }
   ],
   "source": [
    "l1"
   ]
  },
  {
   "cell_type": "code",
   "execution_count": 290,
   "id": "e264fd26-03f1-46d7-879a-5f53b22615f1",
   "metadata": {},
   "outputs": [],
   "source": [
    "l1.insert(-1,45)"
   ]
  },
  {
   "cell_type": "code",
   "execution_count": 291,
   "id": "b9eb561b-883b-4a11-9b46-ae71123259be",
   "metadata": {},
   "outputs": [
    {
     "data": {
      "text/plain": [
       "[3, 'rahul', [2, 3, 0, 9], 4, 6, 7, 45, 8]"
      ]
     },
     "execution_count": 291,
     "metadata": {},
     "output_type": "execute_result"
    }
   ],
   "source": [
    "l1"
   ]
  },
  {
   "cell_type": "code",
   "execution_count": 292,
   "id": "5e9b9494-fcb7-41c6-a868-79583f6963e5",
   "metadata": {},
   "outputs": [],
   "source": [
    "#pop function = it remove and return item from last position or index or from a given index"
   ]
  },
  {
   "cell_type": "code",
   "execution_count": 293,
   "id": "c6dceb85-8280-49c7-bbbe-4f5535c4d73e",
   "metadata": {},
   "outputs": [
    {
     "data": {
      "text/plain": [
       "[3, 'rahul', [2, 3, 0, 9], 4, 6, 7, 45, 8]"
      ]
     },
     "execution_count": 293,
     "metadata": {},
     "output_type": "execute_result"
    }
   ],
   "source": [
    "l1"
   ]
  },
  {
   "cell_type": "code",
   "execution_count": 294,
   "id": "3edbedf1-a927-435f-970f-3983580d98a7",
   "metadata": {},
   "outputs": [
    {
     "data": {
      "text/plain": [
       "8"
      ]
     },
     "execution_count": 294,
     "metadata": {},
     "output_type": "execute_result"
    }
   ],
   "source": [
    "l1.pop(-1)"
   ]
  },
  {
   "cell_type": "code",
   "execution_count": 295,
   "id": "c95df32d-90e1-431b-a291-49397734b3df",
   "metadata": {},
   "outputs": [
    {
     "data": {
      "text/plain": [
       "[3, 'rahul', [2, 3, 0, 9], 4, 6, 7, 45]"
      ]
     },
     "execution_count": 295,
     "metadata": {},
     "output_type": "execute_result"
    }
   ],
   "source": [
    "l1"
   ]
  },
  {
   "cell_type": "code",
   "execution_count": 296,
   "id": "b06ac657-6fa1-4cce-b8f1-0065bb80f9ed",
   "metadata": {},
   "outputs": [
    {
     "data": {
      "text/plain": [
       "45"
      ]
     },
     "execution_count": 296,
     "metadata": {},
     "output_type": "execute_result"
    }
   ],
   "source": [
    "l1.pop()"
   ]
  },
  {
   "cell_type": "code",
   "execution_count": 297,
   "id": "fa423617-2043-47a4-876f-85109624a4fa",
   "metadata": {},
   "outputs": [
    {
     "data": {
      "text/plain": [
       "[3, 'rahul', [2, 3, 0, 9], 4, 6, 7]"
      ]
     },
     "execution_count": 297,
     "metadata": {},
     "output_type": "execute_result"
    }
   ],
   "source": [
    "l1"
   ]
  },
  {
   "cell_type": "code",
   "execution_count": 298,
   "id": "8329e9de-1251-444c-a759-b53c270ab4c1",
   "metadata": {},
   "outputs": [
    {
     "data": {
      "text/plain": [
       "[2, 3, 0, 9]"
      ]
     },
     "execution_count": 298,
     "metadata": {},
     "output_type": "execute_result"
    }
   ],
   "source": [
    "l1.pop(2)"
   ]
  },
  {
   "cell_type": "code",
   "execution_count": 299,
   "id": "ac2518c8-8f44-43d9-b2fd-26a2b8208031",
   "metadata": {},
   "outputs": [
    {
     "data": {
      "text/plain": [
       "[3, 'rahul', 4, 6, 7]"
      ]
     },
     "execution_count": 299,
     "metadata": {},
     "output_type": "execute_result"
    }
   ],
   "source": [
    "l1"
   ]
  },
  {
   "cell_type": "code",
   "execution_count": 303,
   "id": "86ba9b83-1d18-453c-a5c8-df9a348650e9",
   "metadata": {},
   "outputs": [],
   "source": [
    "#remove function = it deletes given value"
   ]
  },
  {
   "cell_type": "code",
   "execution_count": 304,
   "id": "aed61f31-6a13-452e-b504-38c883800ccb",
   "metadata": {},
   "outputs": [
    {
     "data": {
      "text/plain": [
       "[3, 'rahul', 4, 6, 7]"
      ]
     },
     "execution_count": 304,
     "metadata": {},
     "output_type": "execute_result"
    }
   ],
   "source": [
    "l1"
   ]
  },
  {
   "cell_type": "code",
   "execution_count": 305,
   "id": "80129654-4bdf-47ce-b824-3c1a1537655f",
   "metadata": {},
   "outputs": [],
   "source": [
    "l1.remove(4)"
   ]
  },
  {
   "cell_type": "code",
   "execution_count": 306,
   "id": "cdabd3a1-56fb-4fc4-be78-4eb48641b097",
   "metadata": {},
   "outputs": [
    {
     "data": {
      "text/plain": [
       "[3, 'rahul', 6, 7]"
      ]
     },
     "execution_count": 306,
     "metadata": {},
     "output_type": "execute_result"
    }
   ],
   "source": [
    "l1"
   ]
  },
  {
   "cell_type": "code",
   "execution_count": 307,
   "id": "d71786ac-f0ea-4b30-b316-811d29944baa",
   "metadata": {},
   "outputs": [
    {
     "ename": "ValueError",
     "evalue": "list.remove(x): x not in list",
     "output_type": "error",
     "traceback": [
      "\u001b[1;31m---------------------------------------------------------------------------\u001b[0m",
      "\u001b[1;31mValueError\u001b[0m                                Traceback (most recent call last)",
      "Cell \u001b[1;32mIn[307], line 1\u001b[0m\n\u001b[1;32m----> 1\u001b[0m l1\u001b[38;5;241m.\u001b[39mremove(\u001b[38;5;241m765\u001b[39m)\n",
      "\u001b[1;31mValueError\u001b[0m: list.remove(x): x not in list"
     ]
    }
   ],
   "source": [
    "l1.remove(765)"
   ]
  },
  {
   "cell_type": "code",
   "execution_count": 308,
   "id": "289553e4-6f7f-487d-a709-ebc2705e5f13",
   "metadata": {},
   "outputs": [],
   "source": [
    "l1=[2,3,4,\"rahul\",[9,8,7,6]]"
   ]
  },
  {
   "cell_type": "code",
   "execution_count": 309,
   "id": "2426b607-fb2e-415d-85ef-ddedcdbdd955",
   "metadata": {},
   "outputs": [],
   "source": [
    "l1[4].remove(7)"
   ]
  },
  {
   "cell_type": "code",
   "execution_count": 310,
   "id": "24cf3c49-afc5-4df1-89eb-6f0978ca6d83",
   "metadata": {},
   "outputs": [
    {
     "data": {
      "text/plain": [
       "[2, 3, 4, 'rahul', [9, 8, 6]]"
      ]
     },
     "execution_count": 310,
     "metadata": {},
     "output_type": "execute_result"
    }
   ],
   "source": [
    "l1"
   ]
  },
  {
   "cell_type": "code",
   "execution_count": 311,
   "id": "a5678dad-edfc-448c-8e89-a7d4edf56fbf",
   "metadata": {},
   "outputs": [],
   "source": [
    "#we can'tremove r fron 'rahul' bcz sring is not  mutable"
   ]
  },
  {
   "cell_type": "code",
   "execution_count": 312,
   "id": "23e14d22-bd86-4a69-9296-298ddcc5f566",
   "metadata": {},
   "outputs": [],
   "source": [
    "l1.append(4)"
   ]
  },
  {
   "cell_type": "code",
   "execution_count": 313,
   "id": "4dfaeb1c-8627-42f5-af01-d4434564f414",
   "metadata": {},
   "outputs": [
    {
     "data": {
      "text/plain": [
       "[2, 3, 4, 'rahul', [9, 8, 6], 4]"
      ]
     },
     "execution_count": 313,
     "metadata": {},
     "output_type": "execute_result"
    }
   ],
   "source": [
    "l1"
   ]
  },
  {
   "cell_type": "code",
   "execution_count": 314,
   "id": "81da6070-416c-41da-9fac-b9378d931fa6",
   "metadata": {},
   "outputs": [],
   "source": [
    "l1.remove(4)"
   ]
  },
  {
   "cell_type": "code",
   "execution_count": 315,
   "id": "b2ef2381-7318-423d-88c2-f319eab328f8",
   "metadata": {},
   "outputs": [
    {
     "data": {
      "text/plain": [
       "[2, 3, 'rahul', [9, 8, 6], 4]"
      ]
     },
     "execution_count": 315,
     "metadata": {},
     "output_type": "execute_result"
    }
   ],
   "source": [
    "l1"
   ]
  },
  {
   "cell_type": "code",
   "execution_count": 316,
   "id": "36f2757e-e6f5-4749-b2bf-7271e4b63e22",
   "metadata": {},
   "outputs": [],
   "source": [
    "#remove function hamesa first occurance wale value ko remove krega"
   ]
  },
  {
   "cell_type": "code",
   "execution_count": 317,
   "id": "6a3bd9fa-94c5-42b7-8efe-283dc4594ab0",
   "metadata": {},
   "outputs": [
    {
     "data": {
      "text/plain": [
       "[2, 3, 'rahul', [9, 8, 6], 4]"
      ]
     },
     "execution_count": 317,
     "metadata": {},
     "output_type": "execute_result"
    }
   ],
   "source": [
    "l1"
   ]
  },
  {
   "cell_type": "code",
   "execution_count": 318,
   "id": "80cb1729-1b07-4387-b2e0-cb1e6b36be52",
   "metadata": {},
   "outputs": [
    {
     "data": {
      "text/plain": [
       "[4, [9, 8, 6], 'rahul', 3, 2]"
      ]
     },
     "execution_count": 318,
     "metadata": {},
     "output_type": "execute_result"
    }
   ],
   "source": [
    "l1[::-1]"
   ]
  },
  {
   "cell_type": "code",
   "execution_count": null,
   "id": "4d575fc8-ad5a-4ea0-9d52-22a863254aae",
   "metadata": {},
   "outputs": [],
   "source": [
    "#it is temporary reverse"
   ]
  },
  {
   "cell_type": "code",
   "execution_count": 321,
   "id": "7a1bb574-ee3d-4f92-ac8c-68c44073136f",
   "metadata": {},
   "outputs": [
    {
     "data": {
      "text/plain": [
       "[4, [9, 8, 6], 'rahul', 3, 2]"
      ]
     },
     "execution_count": 321,
     "metadata": {},
     "output_type": "execute_result"
    }
   ],
   "source": [
    "l1"
   ]
  },
  {
   "cell_type": "code",
   "execution_count": 322,
   "id": "9646bd58-a0d3-4155-b762-43567fdd49dc",
   "metadata": {},
   "outputs": [],
   "source": [
    "l1.reverse()"
   ]
  },
  {
   "cell_type": "code",
   "execution_count": 323,
   "id": "d88465b6-de64-47be-8918-b7bb0757c127",
   "metadata": {},
   "outputs": [
    {
     "data": {
      "text/plain": [
       "[2, 3, 'rahul', [9, 8, 6], 4]"
      ]
     },
     "execution_count": 323,
     "metadata": {},
     "output_type": "execute_result"
    }
   ],
   "source": [
    "l1"
   ]
  },
  {
   "cell_type": "code",
   "execution_count": 324,
   "id": "166b56d9-2b92-47bc-8170-5fac11c58e9b",
   "metadata": {},
   "outputs": [],
   "source": [
    "#it is permanent reverse"
   ]
  },
  {
   "cell_type": "code",
   "execution_count": 325,
   "id": "fe8641d8-7591-4981-b71d-f633f56e5c2b",
   "metadata": {},
   "outputs": [],
   "source": [
    "l1=l1[::-1]"
   ]
  },
  {
   "cell_type": "code",
   "execution_count": 326,
   "id": "ef357ed7-764e-4c59-8966-ea2cec40bdd9",
   "metadata": {},
   "outputs": [
    {
     "data": {
      "text/plain": [
       "[4, [9, 8, 6], 'rahul', 3, 2]"
      ]
     },
     "execution_count": 326,
     "metadata": {},
     "output_type": "execute_result"
    }
   ],
   "source": [
    "l1"
   ]
  },
  {
   "cell_type": "code",
   "execution_count": 327,
   "id": "9e32558b-d9f9-4d1c-8925-034620d3c1b4",
   "metadata": {},
   "outputs": [],
   "source": [
    "#it is also a permanent reverse"
   ]
  },
  {
   "cell_type": "code",
   "execution_count": 328,
   "id": "0bf2200d-bf86-476f-bf01-0cb3f12534a5",
   "metadata": {},
   "outputs": [],
   "source": [
    "#sort function = it arranges data into assending order"
   ]
  },
  {
   "cell_type": "code",
   "execution_count": 331,
   "id": "baef491b-4f4e-4a75-a902-2f86bbb67917",
   "metadata": {},
   "outputs": [],
   "source": [
    "l2=[45,56,89,0,2,4,53]"
   ]
  },
  {
   "cell_type": "code",
   "execution_count": 332,
   "id": "f35e73f0-3ef4-4b75-b418-5fb44257ba89",
   "metadata": {},
   "outputs": [],
   "source": [
    "l2.sort()"
   ]
  },
  {
   "cell_type": "code",
   "execution_count": 333,
   "id": "112a3976-a903-43bc-82cd-502f952c9415",
   "metadata": {},
   "outputs": [
    {
     "data": {
      "text/plain": [
       "[0, 2, 4, 45, 53, 56, 89]"
      ]
     },
     "execution_count": 333,
     "metadata": {},
     "output_type": "execute_result"
    }
   ],
   "source": [
    "l2"
   ]
  },
  {
   "cell_type": "code",
   "execution_count": 334,
   "id": "6a67a7b6-c877-47e7-8c06-c8bcf5d03f5d",
   "metadata": {},
   "outputs": [],
   "source": [
    "l3=[45,'rahul',56,89]"
   ]
  },
  {
   "cell_type": "code",
   "execution_count": 335,
   "id": "49f74bff-6d37-47f8-9d87-3be3a55e232b",
   "metadata": {},
   "outputs": [
    {
     "ename": "AttributeError",
     "evalue": "'list' object has no attribute 'short'",
     "output_type": "error",
     "traceback": [
      "\u001b[1;31m---------------------------------------------------------------------------\u001b[0m",
      "\u001b[1;31mAttributeError\u001b[0m                            Traceback (most recent call last)",
      "Cell \u001b[1;32mIn[335], line 1\u001b[0m\n\u001b[1;32m----> 1\u001b[0m l3\u001b[38;5;241m.\u001b[39mshort()\n",
      "\u001b[1;31mAttributeError\u001b[0m: 'list' object has no attribute 'short'"
     ]
    }
   ],
   "source": [
    "l3.short()"
   ]
  },
  {
   "cell_type": "code",
   "execution_count": 336,
   "id": "2beb3cd4-07a3-4010-8e41-93a4895aac59",
   "metadata": {},
   "outputs": [],
   "source": [
    "l4=['rahul','sharma','divya','mahadev','mata']"
   ]
  },
  {
   "cell_type": "code",
   "execution_count": 337,
   "id": "8f29c30a-658e-483d-a415-81d4304a0cee",
   "metadata": {},
   "outputs": [],
   "source": [
    "l4.sort()"
   ]
  },
  {
   "cell_type": "code",
   "execution_count": 338,
   "id": "e357167b-bf01-4f29-acea-2bae4faa09da",
   "metadata": {},
   "outputs": [
    {
     "data": {
      "text/plain": [
       "['divya', 'mahadev', 'mata', 'rahul', 'sharma']"
      ]
     },
     "execution_count": 338,
     "metadata": {},
     "output_type": "execute_result"
    }
   ],
   "source": [
    "l4"
   ]
  },
  {
   "cell_type": "code",
   "execution_count": 339,
   "id": "d319b450-a8c9-4518-99e5-7958bb6f769b",
   "metadata": {},
   "outputs": [],
   "source": [
    "#for decending order use reverse=true"
   ]
  },
  {
   "cell_type": "code",
   "execution_count": 340,
   "id": "2c7802b8-acc2-4ea9-ada9-b5807bbe0531",
   "metadata": {},
   "outputs": [
    {
     "data": {
      "text/plain": [
       "['divya', 'mahadev', 'mata', 'rahul', 'sharma']"
      ]
     },
     "execution_count": 340,
     "metadata": {},
     "output_type": "execute_result"
    }
   ],
   "source": [
    "l4"
   ]
  },
  {
   "cell_type": "code",
   "execution_count": 341,
   "id": "98f7d586-fbde-4466-aa90-51162c4baada",
   "metadata": {},
   "outputs": [],
   "source": [
    "l4.sort(reverse=True)"
   ]
  },
  {
   "cell_type": "code",
   "execution_count": 342,
   "id": "3789db49-1830-4f11-8e83-a5f2dbd723ec",
   "metadata": {},
   "outputs": [
    {
     "data": {
      "text/plain": [
       "['sharma', 'rahul', 'mata', 'mahadev', 'divya']"
      ]
     },
     "execution_count": 342,
     "metadata": {},
     "output_type": "execute_result"
    }
   ],
   "source": [
    "l4"
   ]
  },
  {
   "cell_type": "code",
   "execution_count": 343,
   "id": "7144f339-e3d8-444f-907e-2393a8573577",
   "metadata": {},
   "outputs": [],
   "source": [
    "#index function"
   ]
  },
  {
   "cell_type": "code",
   "execution_count": 344,
   "id": "fc0d7808-8f01-4450-b606-5c842b85bd3e",
   "metadata": {},
   "outputs": [
    {
     "data": {
      "text/plain": [
       "['sharma', 'rahul', 'mata', 'mahadev', 'divya']"
      ]
     },
     "execution_count": 344,
     "metadata": {},
     "output_type": "execute_result"
    }
   ],
   "source": [
    "l4"
   ]
  },
  {
   "cell_type": "code",
   "execution_count": 345,
   "id": "e5b03451-5af0-4b83-b8f5-c64703ae989b",
   "metadata": {},
   "outputs": [
    {
     "data": {
      "text/plain": [
       "1"
      ]
     },
     "execution_count": 345,
     "metadata": {},
     "output_type": "execute_result"
    }
   ],
   "source": [
    "l4.index('rahul')"
   ]
  },
  {
   "cell_type": "code",
   "execution_count": 346,
   "id": "fb4f87bd-4816-497a-9a54-fdb0edc1dccf",
   "metadata": {},
   "outputs": [],
   "source": [
    "#count function"
   ]
  },
  {
   "cell_type": "code",
   "execution_count": 347,
   "id": "2db94709-5724-4322-8e7c-7cd4dc25b720",
   "metadata": {},
   "outputs": [
    {
     "data": {
      "text/plain": [
       "['sharma', 'rahul', 'mata', 'mahadev', 'divya']"
      ]
     },
     "execution_count": 347,
     "metadata": {},
     "output_type": "execute_result"
    }
   ],
   "source": [
    "l4"
   ]
  },
  {
   "cell_type": "code",
   "execution_count": 348,
   "id": "03540164-b6af-4383-be97-d188b71d2424",
   "metadata": {},
   "outputs": [
    {
     "data": {
      "text/plain": [
       "1"
      ]
     },
     "execution_count": 348,
     "metadata": {},
     "output_type": "execute_result"
    }
   ],
   "source": [
    "l4.count('mata')"
   ]
  },
  {
   "cell_type": "code",
   "execution_count": null,
   "id": "34327967-bac9-43a0-9e87-bd66e8bfeea3",
   "metadata": {},
   "outputs": [],
   "source": [
    "#replacement / assignment"
   ]
  },
  {
   "cell_type": "code",
   "execution_count": 349,
   "id": "e5000f38-15ac-40a8-860b-2625537d307c",
   "metadata": {},
   "outputs": [],
   "source": [
    "l5=[4,5,6,7,8]"
   ]
  },
  {
   "cell_type": "code",
   "execution_count": 350,
   "id": "dffd2043-4f65-45bb-ac05-a93da4cc27d4",
   "metadata": {},
   "outputs": [
    {
     "data": {
      "text/plain": [
       "4"
      ]
     },
     "execution_count": 350,
     "metadata": {},
     "output_type": "execute_result"
    }
   ],
   "source": [
    "l5[0]"
   ]
  },
  {
   "cell_type": "code",
   "execution_count": 351,
   "id": "031869e9-6dc9-481e-bbd4-a40037fb2206",
   "metadata": {},
   "outputs": [],
   "source": [
    "l5[0]=30"
   ]
  },
  {
   "cell_type": "code",
   "execution_count": 352,
   "id": "62713d3a-b9bd-479f-a608-93401fdb3bb9",
   "metadata": {},
   "outputs": [
    {
     "data": {
      "text/plain": [
       "[30, 5, 6, 7, 8]"
      ]
     },
     "execution_count": 352,
     "metadata": {},
     "output_type": "execute_result"
    }
   ],
   "source": [
    "l5"
   ]
  },
  {
   "cell_type": "code",
   "execution_count": 353,
   "id": "ff9c0fa4-0c7b-42c9-8695-415417fc426b",
   "metadata": {},
   "outputs": [],
   "source": [
    "s='rahul'"
   ]
  },
  {
   "cell_type": "code",
   "execution_count": 354,
   "id": "6fa62f93-45e2-4611-87a0-58cc90d0af4e",
   "metadata": {},
   "outputs": [
    {
     "data": {
      "text/plain": [
       "'r'"
      ]
     },
     "execution_count": 354,
     "metadata": {},
     "output_type": "execute_result"
    }
   ],
   "source": [
    "s[0]"
   ]
  },
  {
   "cell_type": "code",
   "execution_count": 355,
   "id": "a43f5460-1824-455f-879a-1ef0083d3a2b",
   "metadata": {},
   "outputs": [
    {
     "ename": "TypeError",
     "evalue": "'str' object does not support item assignment",
     "output_type": "error",
     "traceback": [
      "\u001b[1;31m---------------------------------------------------------------------------\u001b[0m",
      "\u001b[1;31mTypeError\u001b[0m                                 Traceback (most recent call last)",
      "Cell \u001b[1;32mIn[355], line 1\u001b[0m\n\u001b[1;32m----> 1\u001b[0m s[\u001b[38;5;241m0\u001b[39m]\u001b[38;5;241m=\u001b[39m\u001b[38;5;124m'\u001b[39m\u001b[38;5;124mk\u001b[39m\u001b[38;5;124m'\u001b[39m\n",
      "\u001b[1;31mTypeError\u001b[0m: 'str' object does not support item assignment"
     ]
    }
   ],
   "source": [
    "s[0]='k'"
   ]
  },
  {
   "cell_type": "code",
   "execution_count": 356,
   "id": "d44522fc-461f-4940-948c-19ea71dc132b",
   "metadata": {},
   "outputs": [],
   "source": [
    "#since string is not mutable that's why replacement/assignment is not possible in string"
   ]
  },
  {
   "cell_type": "code",
   "execution_count": 357,
   "id": "4baa155a-6b9e-4058-9224-107a7b7ceeaf",
   "metadata": {},
   "outputs": [],
   "source": [
    "#replace function"
   ]
  },
  {
   "cell_type": "code",
   "execution_count": 358,
   "id": "dbaed4d4-a98b-4e52-8937-059f545f3929",
   "metadata": {},
   "outputs": [
    {
     "data": {
      "text/plain": [
       "'rahul'"
      ]
     },
     "execution_count": 358,
     "metadata": {},
     "output_type": "execute_result"
    }
   ],
   "source": [
    "s"
   ]
  },
  {
   "cell_type": "code",
   "execution_count": 359,
   "id": "982af88b-e37b-4831-b586-52812475ba0e",
   "metadata": {},
   "outputs": [
    {
     "data": {
      "text/plain": [
       "'dahul'"
      ]
     },
     "execution_count": 359,
     "metadata": {},
     "output_type": "execute_result"
    }
   ],
   "source": [
    "s.replace('r','d')"
   ]
  },
  {
   "cell_type": "code",
   "execution_count": 361,
   "id": "fc5e5f43-856c-46ef-bd0e-f1ea9086d3c5",
   "metadata": {},
   "outputs": [],
   "source": [
    "#this is reassignment and this does't effect on original string"
   ]
  },
  {
   "cell_type": "code",
   "execution_count": 362,
   "id": "9133b16d-7e5d-4679-a2f9-66c6a371f57d",
   "metadata": {},
   "outputs": [
    {
     "data": {
      "text/plain": [
       "'rahul'"
      ]
     },
     "execution_count": 362,
     "metadata": {},
     "output_type": "execute_result"
    }
   ],
   "source": [
    "s"
   ]
  },
  {
   "cell_type": "code",
   "execution_count": 363,
   "id": "1a951a33-de5f-4bc3-9912-c1fb2ac8962d",
   "metadata": {},
   "outputs": [],
   "source": [
    "#TUPLE"
   ]
  },
  {
   "cell_type": "code",
   "execution_count": 367,
   "id": "54e043d5-09ce-4b25-b772-e4de33321df9",
   "metadata": {},
   "outputs": [],
   "source": [
    "t=(2,3,4,5,'rahul',True,34.34,4+9J, [3,5,6,7])"
   ]
  },
  {
   "cell_type": "code",
   "execution_count": 368,
   "id": "0fc88e67-9972-4ded-84bb-029a35d87025",
   "metadata": {},
   "outputs": [
    {
     "data": {
      "text/plain": [
       "(2, 3, 4, 5, 'rahul', True, 34.34, (4+9j), [3, 5, 6, 7])"
      ]
     },
     "execution_count": 368,
     "metadata": {},
     "output_type": "execute_result"
    }
   ],
   "source": [
    "t"
   ]
  },
  {
   "cell_type": "code",
   "execution_count": 369,
   "id": "c7162023-3e3e-439b-b6ea-402c62a95365",
   "metadata": {},
   "outputs": [
    {
     "data": {
      "text/plain": [
       "tuple"
      ]
     },
     "execution_count": 369,
     "metadata": {},
     "output_type": "execute_result"
    }
   ],
   "source": [
    "type(t)"
   ]
  },
  {
   "cell_type": "code",
   "execution_count": 370,
   "id": "626bb798-897b-446f-ae58-83df407c43fb",
   "metadata": {},
   "outputs": [
    {
     "data": {
      "text/plain": [
       "9"
      ]
     },
     "execution_count": 370,
     "metadata": {},
     "output_type": "execute_result"
    }
   ],
   "source": [
    "len(t)"
   ]
  },
  {
   "cell_type": "code",
   "execution_count": 371,
   "id": "85cb82d2-0847-470d-85b2-660b71c66e62",
   "metadata": {},
   "outputs": [
    {
     "data": {
      "text/plain": [
       "2"
      ]
     },
     "execution_count": 371,
     "metadata": {},
     "output_type": "execute_result"
    }
   ],
   "source": [
    "t[0]"
   ]
  },
  {
   "cell_type": "code",
   "execution_count": 372,
   "id": "4f375ab4-a5f4-46e9-8cba-e06b71d880d1",
   "metadata": {},
   "outputs": [
    {
     "data": {
      "text/plain": [
       "[3, 5, 6, 7]"
      ]
     },
     "execution_count": 372,
     "metadata": {},
     "output_type": "execute_result"
    }
   ],
   "source": [
    "t[-1]"
   ]
  },
  {
   "cell_type": "code",
   "execution_count": 373,
   "id": "0de9a377-a627-4c5f-9d03-4c0f98b3b885",
   "metadata": {},
   "outputs": [
    {
     "data": {
      "text/plain": [
       "([3, 5, 6, 7], (4+9j), 34.34, True, 'rahul', 5, 4, 3, 2)"
      ]
     },
     "execution_count": 373,
     "metadata": {},
     "output_type": "execute_result"
    }
   ],
   "source": [
    "t[::-1]"
   ]
  },
  {
   "cell_type": "code",
   "execution_count": 374,
   "id": "7d8f6fbf-5557-404b-aebb-dbd91d800091",
   "metadata": {},
   "outputs": [
    {
     "data": {
      "text/plain": [
       "['sharma', 'rahul', 'mata', 'mahadev', 'divya']"
      ]
     },
     "execution_count": 374,
     "metadata": {},
     "output_type": "execute_result"
    }
   ],
   "source": [
    "l4"
   ]
  },
  {
   "cell_type": "code",
   "execution_count": 375,
   "id": "70537e2b-e700-4f1e-ab46-a7f8aa725230",
   "metadata": {},
   "outputs": [
    {
     "data": {
      "text/plain": [
       "'sharma'"
      ]
     },
     "execution_count": 375,
     "metadata": {},
     "output_type": "execute_result"
    }
   ],
   "source": [
    "l4[0]"
   ]
  },
  {
   "cell_type": "code",
   "execution_count": 376,
   "id": "5b98a980-8154-4447-a2ab-a49267c1dcea",
   "metadata": {},
   "outputs": [],
   "source": [
    "l4[0]=345"
   ]
  },
  {
   "cell_type": "code",
   "execution_count": 377,
   "id": "0e1fe202-1c70-4c54-8e57-8c463f59523f",
   "metadata": {},
   "outputs": [
    {
     "data": {
      "text/plain": [
       "[345, 'rahul', 'mata', 'mahadev', 'divya']"
      ]
     },
     "execution_count": 377,
     "metadata": {},
     "output_type": "execute_result"
    }
   ],
   "source": [
    "l4"
   ]
  },
  {
   "cell_type": "code",
   "execution_count": 378,
   "id": "2fb427a9-021c-4f90-bbdc-10c986c1edbe",
   "metadata": {},
   "outputs": [
    {
     "data": {
      "text/plain": [
       "(2, 3, 4, 5, 'rahul', True, 34.34, (4+9j), [3, 5, 6, 7])"
      ]
     },
     "execution_count": 378,
     "metadata": {},
     "output_type": "execute_result"
    }
   ],
   "source": [
    "t"
   ]
  },
  {
   "cell_type": "code",
   "execution_count": 379,
   "id": "f140d275-39d9-4479-bd02-5b2fe4db6f48",
   "metadata": {},
   "outputs": [
    {
     "data": {
      "text/plain": [
       "2"
      ]
     },
     "execution_count": 379,
     "metadata": {},
     "output_type": "execute_result"
    }
   ],
   "source": [
    "t[0]"
   ]
  },
  {
   "cell_type": "code",
   "execution_count": 380,
   "id": "e57b5e2d-0154-48b6-a9a1-d4b10125d41a",
   "metadata": {},
   "outputs": [
    {
     "ename": "TypeError",
     "evalue": "'tuple' object does not support item assignment",
     "output_type": "error",
     "traceback": [
      "\u001b[1;31m---------------------------------------------------------------------------\u001b[0m",
      "\u001b[1;31mTypeError\u001b[0m                                 Traceback (most recent call last)",
      "Cell \u001b[1;32mIn[380], line 1\u001b[0m\n\u001b[1;32m----> 1\u001b[0m t[\u001b[38;5;241m0\u001b[39m]\u001b[38;5;241m=\u001b[39m\u001b[38;5;241m45\u001b[39m\n",
      "\u001b[1;31mTypeError\u001b[0m: 'tuple' object does not support item assignment"
     ]
    }
   ],
   "source": [
    "t[0]=45"
   ]
  },
  {
   "cell_type": "code",
   "execution_count": 381,
   "id": "d3db5464-566e-4f82-8b06-8296e347dcb4",
   "metadata": {},
   "outputs": [],
   "source": [
    "#this is happening because tuple is not mutable"
   ]
  },
  {
   "cell_type": "code",
   "execution_count": 382,
   "id": "2b2d0d34-8e2a-470c-881c-a6b92157b50e",
   "metadata": {},
   "outputs": [
    {
     "data": {
      "text/plain": [
       "(2, 3, 4, 5, 'rahul', True, 34.34, (4+9j), [3, 5, 6, 7])"
      ]
     },
     "execution_count": 382,
     "metadata": {},
     "output_type": "execute_result"
    }
   ],
   "source": [
    "t"
   ]
  },
  {
   "cell_type": "code",
   "execution_count": 383,
   "id": "99a7c166-d88d-4f1f-821e-a66c029cccbe",
   "metadata": {},
   "outputs": [
    {
     "data": {
      "text/plain": [
       "1"
      ]
     },
     "execution_count": 383,
     "metadata": {},
     "output_type": "execute_result"
    }
   ],
   "source": [
    "t.count(5)"
   ]
  },
  {
   "cell_type": "code",
   "execution_count": 384,
   "id": "e0cf7321-389d-4ee0-9d21-1d4b034f9d6c",
   "metadata": {},
   "outputs": [
    {
     "data": {
      "text/plain": [
       "0"
      ]
     },
     "execution_count": 384,
     "metadata": {},
     "output_type": "execute_result"
    }
   ],
   "source": [
    "t.count(67)"
   ]
  },
  {
   "cell_type": "code",
   "execution_count": 385,
   "id": "33847fd6-b1b9-434f-93bb-be56b139f1f2",
   "metadata": {},
   "outputs": [
    {
     "data": {
      "text/plain": [
       "5"
      ]
     },
     "execution_count": 385,
     "metadata": {},
     "output_type": "execute_result"
    }
   ],
   "source": [
    "t.index(True)"
   ]
  },
  {
   "cell_type": "code",
   "execution_count": 386,
   "id": "6d6bd693-6016-4797-843a-9e8432cccf0a",
   "metadata": {},
   "outputs": [],
   "source": [
    "#SET"
   ]
  },
  {
   "cell_type": "code",
   "execution_count": 387,
   "id": "68a3ba1b-091a-4af3-b08c-cde4362c5232",
   "metadata": {},
   "outputs": [],
   "source": [
    "s1={}"
   ]
  },
  {
   "cell_type": "code",
   "execution_count": 389,
   "id": "ce0f2d2b-e5ff-40c4-b5e4-9968082432bc",
   "metadata": {},
   "outputs": [
    {
     "data": {
      "text/plain": [
       "dict"
      ]
     },
     "execution_count": 389,
     "metadata": {},
     "output_type": "execute_result"
    }
   ],
   "source": [
    "type(s1)"
   ]
  },
  {
   "cell_type": "code",
   "execution_count": 390,
   "id": "cffa306e-5b81-4577-a569-14cee00352b9",
   "metadata": {},
   "outputs": [],
   "source": [
    "s2={2,3,4,5,6}"
   ]
  },
  {
   "cell_type": "code",
   "execution_count": 391,
   "id": "28807530-a37f-4ce4-b73b-4765ee57116e",
   "metadata": {},
   "outputs": [
    {
     "data": {
      "text/plain": [
       "set"
      ]
     },
     "execution_count": 391,
     "metadata": {},
     "output_type": "execute_result"
    }
   ],
   "source": [
    "type(s2)"
   ]
  },
  {
   "cell_type": "code",
   "execution_count": 392,
   "id": "944c3bcb-a929-470e-ad74-3c3adbfe3a72",
   "metadata": {},
   "outputs": [],
   "source": [
    "s3={11,34,56,'rahul',4+5J,34.23,(4,8,7)}"
   ]
  },
  {
   "cell_type": "code",
   "execution_count": 393,
   "id": "b1147aae-c117-4f3e-80d0-68d4d6103991",
   "metadata": {},
   "outputs": [
    {
     "data": {
      "text/plain": [
       "{(4+5j), (4, 8, 7), 11, 34, 34.23, 56, 'rahul'}"
      ]
     },
     "execution_count": 393,
     "metadata": {},
     "output_type": "execute_result"
    }
   ],
   "source": [
    "s3"
   ]
  },
  {
   "cell_type": "code",
   "execution_count": 394,
   "id": "c7c94612-3503-424f-ac8f-ac4279decbe1",
   "metadata": {},
   "outputs": [
    {
     "ename": "TypeError",
     "evalue": "unhashable type: 'list'",
     "output_type": "error",
     "traceback": [
      "\u001b[1;31m---------------------------------------------------------------------------\u001b[0m",
      "\u001b[1;31mTypeError\u001b[0m                                 Traceback (most recent call last)",
      "Cell \u001b[1;32mIn[394], line 1\u001b[0m\n\u001b[1;32m----> 1\u001b[0m s3\u001b[38;5;241m=\u001b[39m{\u001b[38;5;241m11\u001b[39m,\u001b[38;5;241m34\u001b[39m,\u001b[38;5;241m56\u001b[39m,\u001b[38;5;124m'\u001b[39m\u001b[38;5;124mrahul\u001b[39m\u001b[38;5;124m'\u001b[39m,\u001b[38;5;241m4\u001b[39m\u001b[38;5;241m+\u001b[39m\u001b[38;5;241m5\u001b[39mJ,\u001b[38;5;241m34.23\u001b[39m,(\u001b[38;5;241m4\u001b[39m,\u001b[38;5;241m8\u001b[39m,\u001b[38;5;241m7\u001b[39m),[\u001b[38;5;241m4\u001b[39m,\u001b[38;5;241m6\u001b[39m,\u001b[38;5;241m7\u001b[39m]}\n",
      "\u001b[1;31mTypeError\u001b[0m: unhashable type: 'list'"
     ]
    }
   ],
   "source": [
    "s3={11,34,56,'rahul',4+5J,34.23,(4,8,7),[4,6,7]}"
   ]
  },
  {
   "cell_type": "code",
   "execution_count": 395,
   "id": "e34c43f8-9030-4a67-a7df-10d7b52f3eae",
   "metadata": {},
   "outputs": [],
   "source": [
    "#this is happening bcz set is immutable and takes only immutable data and since list is mutable that's why it givs error "
   ]
  },
  {
   "cell_type": "code",
   "execution_count": 396,
   "id": "81cb9805-af78-4526-827c-9fd42ed611df",
   "metadata": {},
   "outputs": [],
   "source": [
    "s4={2,3,4,5,6,6,5,4,3,2,1}"
   ]
  },
  {
   "cell_type": "code",
   "execution_count": 397,
   "id": "0195b301-cdcd-4952-abd5-6e30033b9ff1",
   "metadata": {},
   "outputs": [
    {
     "data": {
      "text/plain": [
       "{1, 2, 3, 4, 5, 6}"
      ]
     },
     "execution_count": 397,
     "metadata": {},
     "output_type": "execute_result"
    }
   ],
   "source": [
    "s4"
   ]
  },
  {
   "cell_type": "code",
   "execution_count": 399,
   "id": "1f3ff379-4aba-4dfb-a775-8a7e8f80a75b",
   "metadata": {},
   "outputs": [],
   "source": [
    "#set can't take repetative elements that's why it gives unique values"
   ]
  },
  {
   "cell_type": "code",
   "execution_count": 404,
   "id": "5d4922b0-65fa-46ed-9d01-d6756a4d0def",
   "metadata": {},
   "outputs": [],
   "source": [
    "s4={2,3,4,5,6,6,5,4,3,2,1,\"rahul\",'rahul'}"
   ]
  },
  {
   "cell_type": "code",
   "execution_count": 405,
   "id": "54c7231e-5c2b-40d2-8056-d9a048984cf1",
   "metadata": {},
   "outputs": [
    {
     "data": {
      "text/plain": [
       "{1, 2, 3, 4, 5, 6, 'rahul'}"
      ]
     },
     "execution_count": 405,
     "metadata": {},
     "output_type": "execute_result"
    }
   ],
   "source": [
    "s4"
   ]
  },
  {
   "cell_type": "code",
   "execution_count": 406,
   "id": "754cabe5-6fd4-47c2-bca9-8686260ca6d2",
   "metadata": {},
   "outputs": [],
   "source": [
    "l6=[2,3,4,5,6,6,5,4,3,2,1,\"rahul\",'rahul']"
   ]
  },
  {
   "cell_type": "code",
   "execution_count": 409,
   "id": "c4a1b5a1-d4df-4b27-81b1-7316cd4bc90a",
   "metadata": {},
   "outputs": [],
   "source": [
    "l6=list(set(l6))"
   ]
  },
  {
   "cell_type": "code",
   "execution_count": 410,
   "id": "25c8692a-68cb-4873-bcde-68664a7eaae9",
   "metadata": {},
   "outputs": [
    {
     "data": {
      "text/plain": [
       "[1, 2, 3, 4, 5, 6, 'rahul']"
      ]
     },
     "execution_count": 410,
     "metadata": {},
     "output_type": "execute_result"
    }
   ],
   "source": [
    "l6"
   ]
  },
  {
   "cell_type": "code",
   "execution_count": 412,
   "id": "200dbbec-bceb-4b63-aeba-2328f4b8e6d6",
   "metadata": {},
   "outputs": [],
   "source": [
    "# set is used to remove duplicate element and creats an unorderd collection of data"
   ]
  },
  {
   "cell_type": "code",
   "execution_count": 413,
   "id": "58e273ec-929c-499c-90e1-a9e643ebcbdc",
   "metadata": {},
   "outputs": [],
   "source": [
    "s5={67,54,78,90,'rahul','sharma',234,567,890}"
   ]
  },
  {
   "cell_type": "code",
   "execution_count": 414,
   "id": "001e73b9-1dfe-487d-85ac-4f0951efe036",
   "metadata": {},
   "outputs": [
    {
     "data": {
      "text/plain": [
       "{234, 54, 567, 67, 78, 890, 90, 'rahul', 'sharma'}"
      ]
     },
     "execution_count": 414,
     "metadata": {},
     "output_type": "execute_result"
    }
   ],
   "source": [
    "s5"
   ]
  },
  {
   "cell_type": "code",
   "execution_count": null,
   "id": "50cc58a3-6203-4041-8ffc-5399d9c8fdcf",
   "metadata": {},
   "outputs": [],
   "source": [
    "#indexing"
   ]
  },
  {
   "cell_type": "code",
   "execution_count": 415,
   "id": "3e7245dc-8d86-415f-9433-6a1270c33f7d",
   "metadata": {},
   "outputs": [
    {
     "ename": "TypeError",
     "evalue": "'set' object is not subscriptable",
     "output_type": "error",
     "traceback": [
      "\u001b[1;31m---------------------------------------------------------------------------\u001b[0m",
      "\u001b[1;31mTypeError\u001b[0m                                 Traceback (most recent call last)",
      "Cell \u001b[1;32mIn[415], line 1\u001b[0m\n\u001b[1;32m----> 1\u001b[0m s5[\u001b[38;5;241m0\u001b[39m]\n",
      "\u001b[1;31mTypeError\u001b[0m: 'set' object is not subscriptable"
     ]
    }
   ],
   "source": [
    "s5[0]"
   ]
  },
  {
   "cell_type": "code",
   "execution_count": null,
   "id": "e8f5afa8-b427-4486-b2a1-5748cf60462e",
   "metadata": {},
   "outputs": [],
   "source": [
    "#slicing"
   ]
  },
  {
   "cell_type": "code",
   "execution_count": 416,
   "id": "135f9ec5-4c61-4521-868c-954099c3d9ab",
   "metadata": {},
   "outputs": [
    {
     "ename": "TypeError",
     "evalue": "'set' object is not subscriptable",
     "output_type": "error",
     "traceback": [
      "\u001b[1;31m---------------------------------------------------------------------------\u001b[0m",
      "\u001b[1;31mTypeError\u001b[0m                                 Traceback (most recent call last)",
      "Cell \u001b[1;32mIn[416], line 1\u001b[0m\n\u001b[1;32m----> 1\u001b[0m s5[::\u001b[38;5;241m-\u001b[39m\u001b[38;5;241m1\u001b[39m]\n",
      "\u001b[1;31mTypeError\u001b[0m: 'set' object is not subscriptable"
     ]
    }
   ],
   "source": [
    "s5[::-1]"
   ]
  },
  {
   "cell_type": "code",
   "execution_count": 417,
   "id": "e2d1658f-9358-4336-a2ab-1ddd9c37e272",
   "metadata": {},
   "outputs": [
    {
     "data": {
      "text/plain": [
       "{234, 54, 567, 67, 78, 890, 90, 'rahul', 'sharma'}"
      ]
     },
     "execution_count": 417,
     "metadata": {},
     "output_type": "execute_result"
    }
   ],
   "source": [
    "s5"
   ]
  },
  {
   "cell_type": "code",
   "execution_count": null,
   "id": "d670f45f-5df6-49de-99f1-69dabd3b49cf",
   "metadata": {},
   "outputs": [],
   "source": [
    "#add function\n",
    "#we can't add any data at any perticular position"
   ]
  },
  {
   "cell_type": "code",
   "execution_count": 419,
   "id": "89bc610e-6562-4902-b490-a9f78fd2ad8a",
   "metadata": {},
   "outputs": [],
   "source": [
    "s5.add(7)"
   ]
  },
  {
   "cell_type": "code",
   "execution_count": 420,
   "id": "4203fbce-93de-45f1-b50b-c7136f951343",
   "metadata": {},
   "outputs": [
    {
     "data": {
      "text/plain": [
       "{234, 54, 567, 67, 7, 78, 890, 90, 'rahul', 'sharma'}"
      ]
     },
     "execution_count": 420,
     "metadata": {},
     "output_type": "execute_result"
    }
   ],
   "source": [
    "s5"
   ]
  },
  {
   "cell_type": "code",
   "execution_count": null,
   "id": "f8c0181e-900a-4395-acf8-27a2e90243b9",
   "metadata": {},
   "outputs": [],
   "source": [
    "#remove function"
   ]
  },
  {
   "cell_type": "code",
   "execution_count": 421,
   "id": "cbd1e368-5838-4509-89d3-e6b0cefba7e3",
   "metadata": {},
   "outputs": [],
   "source": [
    "s5.remove(7)"
   ]
  },
  {
   "cell_type": "code",
   "execution_count": 422,
   "id": "8b40bca2-3beb-4d5c-ae5f-4153636ed844",
   "metadata": {},
   "outputs": [
    {
     "data": {
      "text/plain": [
       "{234, 54, 567, 67, 78, 890, 90, 'rahul', 'sharma'}"
      ]
     },
     "execution_count": 422,
     "metadata": {},
     "output_type": "execute_result"
    }
   ],
   "source": [
    "s5"
   ]
  },
  {
   "cell_type": "code",
   "execution_count": null,
   "id": "e341c371-a74b-40e7-909e-01b9ceeaae7a",
   "metadata": {},
   "outputs": [],
   "source": []
  }
 ],
 "metadata": {
  "kernelspec": {
   "display_name": "Python 3 (ipykernel)",
   "language": "python",
   "name": "python3"
  },
  "language_info": {
   "codemirror_mode": {
    "name": "ipython",
    "version": 3
   },
   "file_extension": ".py",
   "mimetype": "text/x-python",
   "name": "python",
   "nbconvert_exporter": "python",
   "pygments_lexer": "ipython3",
   "version": "3.11.7"
  }
 },
 "nbformat": 4,
 "nbformat_minor": 5
}
