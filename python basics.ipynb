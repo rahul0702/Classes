{
 "cells": [
  {
   "cell_type": "code",
   "execution_count": 6,
   "id": "e23847c1-2323-4f91-bdbc-14ed43fd4c11",
   "metadata": {},
   "outputs": [
    {
     "data": {
      "text/plain": [
       "2"
      ]
     },
     "execution_count": 6,
     "metadata": {},
     "output_type": "execute_result"
    }
   ],
   "source": [
    "1+1"
   ]
  },
  {
   "cell_type": "code",
   "execution_count": 7,
   "id": "b72937bf-76d1-404e-9834-5327bfdeac5d",
   "metadata": {},
   "outputs": [
    {
     "data": {
      "text/plain": [
       "25"
      ]
     },
     "execution_count": 7,
     "metadata": {},
     "output_type": "execute_result"
    }
   ],
   "source": [
    "5*5"
   ]
  },
  {
   "cell_type": "code",
   "execution_count": 8,
   "id": "6ca09472-dcc2-4272-a2f3-473e3d20939d",
   "metadata": {},
   "outputs": [],
   "source": [
    "#python support scripting "
   ]
  },
  {
   "cell_type": "code",
   "execution_count": 9,
   "id": "ebf342ec-925a-411b-92ed-48f4f5a8bf84",
   "metadata": {},
   "outputs": [],
   "source": [
    "#variable creation"
   ]
  },
  {
   "cell_type": "code",
   "execution_count": 10,
   "id": "b87bd2a0-dc7d-4aa2-957b-5b1c22cb1afb",
   "metadata": {},
   "outputs": [],
   "source": [
    "a=10"
   ]
  },
  {
   "cell_type": "code",
   "execution_count": 11,
   "id": "9421482c-4f2f-428f-a64c-3ec5f08a9878",
   "metadata": {},
   "outputs": [
    {
     "data": {
      "text/plain": [
       "10"
      ]
     },
     "execution_count": 11,
     "metadata": {},
     "output_type": "execute_result"
    }
   ],
   "source": [
    "a"
   ]
  },
  {
   "cell_type": "code",
   "execution_count": 12,
   "id": "30181a39-5774-4818-aa7e-473044754c0c",
   "metadata": {},
   "outputs": [],
   "source": [
    "rahu=20"
   ]
  },
  {
   "cell_type": "code",
   "execution_count": 13,
   "id": "b1d3aa30-ae0b-41d4-9b80-ad106e4d90aa",
   "metadata": {},
   "outputs": [
    {
     "data": {
      "text/plain": [
       "20"
      ]
     },
     "execution_count": 13,
     "metadata": {},
     "output_type": "execute_result"
    }
   ],
   "source": [
    "rahu"
   ]
  },
  {
   "cell_type": "code",
   "execution_count": 14,
   "id": "a771c790-3629-4229-8c65-8ce4ecb431da",
   "metadata": {},
   "outputs": [
    {
     "data": {
      "text/plain": [
       "30"
      ]
     },
     "execution_count": 14,
     "metadata": {},
     "output_type": "execute_result"
    }
   ],
   "source": [
    "a+rahu"
   ]
  },
  {
   "cell_type": "code",
   "execution_count": 15,
   "id": "e0b592cc-4b87-4326-9987-4b323d53d739",
   "metadata": {},
   "outputs": [],
   "source": [
    "#python is self type language"
   ]
  },
  {
   "cell_type": "code",
   "execution_count": 16,
   "id": "ab753a4b-786a-4f0f-ac87-4b4f0def4ea0",
   "metadata": {},
   "outputs": [
    {
     "data": {
      "text/plain": [
       "int"
      ]
     },
     "execution_count": 16,
     "metadata": {},
     "output_type": "execute_result"
    }
   ],
   "source": [
    "type(a)"
   ]
  },
  {
   "cell_type": "code",
   "execution_count": 17,
   "id": "9b58b408-af59-41a0-bf8e-f6044de2ec37",
   "metadata": {},
   "outputs": [
    {
     "data": {
      "text/plain": [
       "int"
      ]
     },
     "execution_count": 17,
     "metadata": {},
     "output_type": "execute_result"
    }
   ],
   "source": [
    "type(rahu)"
   ]
  },
  {
   "cell_type": "code",
   "execution_count": 18,
   "id": "437bcebe-4d8f-405c-a3c2-135fe7fbc443",
   "metadata": {},
   "outputs": [],
   "source": [
    " b=2.09"
   ]
  },
  {
   "cell_type": "code",
   "execution_count": 19,
   "id": "19d67a88-3b8f-4fe0-8d73-74d944b9faa7",
   "metadata": {},
   "outputs": [
    {
     "data": {
      "text/plain": [
       "float"
      ]
     },
     "execution_count": 19,
     "metadata": {},
     "output_type": "execute_result"
    }
   ],
   "source": [
    "type(b)"
   ]
  },
  {
   "cell_type": "code",
   "execution_count": 20,
   "id": "3749b03a-3b54-46cc-9bdd-09c7353b9c98",
   "metadata": {},
   "outputs": [],
   "source": [
    "d=\"rahul\""
   ]
  },
  {
   "cell_type": "code",
   "execution_count": 21,
   "id": "c42f5ce3-c70c-4d6e-93b6-85af8abcf271",
   "metadata": {},
   "outputs": [
    {
     "data": {
      "text/plain": [
       "str"
      ]
     },
     "execution_count": 21,
     "metadata": {},
     "output_type": "execute_result"
    }
   ],
   "source": [
    "type(d)"
   ]
  },
  {
   "cell_type": "code",
   "execution_count": 22,
   "id": "0690f039-c0f3-4272-bb1d-36ea0a85429e",
   "metadata": {},
   "outputs": [],
   "source": [
    "#srt=string"
   ]
  },
  {
   "cell_type": "code",
   "execution_count": 23,
   "id": "5486f528-a47d-428f-b333-7825f4507fee",
   "metadata": {},
   "outputs": [],
   "source": [
    "e='this is my first tech class'"
   ]
  },
  {
   "cell_type": "code",
   "execution_count": 24,
   "id": "89e98cec-b685-4398-88de-29d5bed8d62e",
   "metadata": {},
   "outputs": [
    {
     "data": {
      "text/plain": [
       "str"
      ]
     },
     "execution_count": 24,
     "metadata": {},
     "output_type": "execute_result"
    }
   ],
   "source": [
    "type(e)"
   ]
  },
  {
   "cell_type": "code",
   "execution_count": 25,
   "id": "8aeae398-6771-496f-b0bb-8ffb89da3516",
   "metadata": {},
   "outputs": [],
   "source": [
    "#boolean variable"
   ]
  },
  {
   "cell_type": "code",
   "execution_count": 26,
   "id": "7ff55fd0-3acf-4d49-94ff-f8ad3e3e4d2d",
   "metadata": {},
   "outputs": [],
   "source": [
    "n=True"
   ]
  },
  {
   "cell_type": "code",
   "execution_count": 27,
   "id": "2dfde47e-0c56-473e-9870-b2cb1ed01d1f",
   "metadata": {},
   "outputs": [
    {
     "data": {
      "text/plain": [
       "bool"
      ]
     },
     "execution_count": 27,
     "metadata": {},
     "output_type": "execute_result"
    }
   ],
   "source": [
    "type(n)"
   ]
  },
  {
   "cell_type": "code",
   "execution_count": 28,
   "id": "43f4b6bf-6083-468d-ad4a-70ef5382457d",
   "metadata": {},
   "outputs": [],
   "source": [
    "m=False"
   ]
  },
  {
   "cell_type": "code",
   "execution_count": 29,
   "id": "cecd23f9-6c00-48db-8e2f-ce4d109ea802",
   "metadata": {},
   "outputs": [
    {
     "data": {
      "text/plain": [
       "bool"
      ]
     },
     "execution_count": 29,
     "metadata": {},
     "output_type": "execute_result"
    }
   ],
   "source": [
    "type(m)"
   ]
  },
  {
   "cell_type": "code",
   "execution_count": 30,
   "id": "a55f1bef-13b1-459c-9163-a871e5cdc160",
   "metadata": {},
   "outputs": [
    {
     "data": {
      "text/plain": [
       "1"
      ]
     },
     "execution_count": 30,
     "metadata": {},
     "output_type": "execute_result"
    }
   ],
   "source": [
    "n+m"
   ]
  },
  {
   "cell_type": "code",
   "execution_count": 31,
   "id": "660bc0b1-fbe1-4ae8-bcdf-fac2dbb54f86",
   "metadata": {},
   "outputs": [],
   "source": [
    "#bcz true=1 and false=0"
   ]
  },
  {
   "cell_type": "code",
   "execution_count": 32,
   "id": "670a1ddc-e97d-4802-a77f-72bfad2917b4",
   "metadata": {},
   "outputs": [
    {
     "data": {
      "text/plain": [
       "1"
      ]
     },
     "execution_count": 32,
     "metadata": {},
     "output_type": "execute_result"
    }
   ],
   "source": [
    "True*True"
   ]
  },
  {
   "cell_type": "code",
   "execution_count": 33,
   "id": "a2ddf9a8-fd09-49eb-ab5b-fb9729c1ef0f",
   "metadata": {},
   "outputs": [
    {
     "data": {
      "text/plain": [
       "0"
      ]
     },
     "execution_count": 33,
     "metadata": {},
     "output_type": "execute_result"
    }
   ],
   "source": [
    "True*False"
   ]
  },
  {
   "cell_type": "code",
   "execution_count": 34,
   "id": "c9cdcf16-3c13-4647-a142-3548ec809c22",
   "metadata": {},
   "outputs": [
    {
     "ename": "ZeroDivisionError",
     "evalue": "division by zero",
     "output_type": "error",
     "traceback": [
      "\u001b[1;31m---------------------------------------------------------------------------\u001b[0m",
      "\u001b[1;31mZeroDivisionError\u001b[0m                         Traceback (most recent call last)",
      "Cell \u001b[1;32mIn[34], line 1\u001b[0m\n\u001b[1;32m----> 1\u001b[0m \u001b[38;5;28;01mTrue\u001b[39;00m\u001b[38;5;241m/\u001b[39m\u001b[38;5;28;01mFalse\u001b[39;00m\n",
      "\u001b[1;31mZeroDivisionError\u001b[0m: division by zero"
     ]
    }
   ],
   "source": [
    "True/False"
   ]
  },
  {
   "cell_type": "code",
   "execution_count": 35,
   "id": "87fb5ae2-a3f2-4948-98d7-6f44eccac887",
   "metadata": {},
   "outputs": [],
   "source": [
    "#numpy me iska result infinity aata hai"
   ]
  },
  {
   "cell_type": "code",
   "execution_count": 36,
   "id": "3d3228d2-6ebb-46f1-8404-40c27ae6b4ac",
   "metadata": {},
   "outputs": [],
   "source": [
    "#complex number variable"
   ]
  },
  {
   "cell_type": "code",
   "execution_count": 37,
   "id": "e385aff1-74f9-4572-9a4b-c57e034763d3",
   "metadata": {},
   "outputs": [],
   "source": [
    "v=5+8j"
   ]
  },
  {
   "cell_type": "code",
   "execution_count": 38,
   "id": "3a0e40cd-6d44-438d-9d12-767a591c2065",
   "metadata": {},
   "outputs": [
    {
     "data": {
      "text/plain": [
       "complex"
      ]
     },
     "execution_count": 38,
     "metadata": {},
     "output_type": "execute_result"
    }
   ],
   "source": [
    "type(v)"
   ]
  },
  {
   "cell_type": "code",
   "execution_count": 39,
   "id": "3803a0dd-e857-4fbb-8dee-30d7406824b1",
   "metadata": {},
   "outputs": [
    {
     "data": {
      "text/plain": [
       "5.0"
      ]
     },
     "execution_count": 39,
     "metadata": {},
     "output_type": "execute_result"
    }
   ],
   "source": [
    " v.real"
   ]
  },
  {
   "cell_type": "code",
   "execution_count": 40,
   "id": "393b83d6-ea4b-44bf-9aca-d91f9b768366",
   "metadata": {},
   "outputs": [
    {
     "data": {
      "text/plain": [
       "8.0"
      ]
     },
     "execution_count": 40,
     "metadata": {},
     "output_type": "execute_result"
    }
   ],
   "source": [
    "v.imag"
   ]
  },
  {
   "cell_type": "code",
   "execution_count": 41,
   "id": "2e0537f3-cd2b-46aa-8584-3fe677c87cf3",
   "metadata": {},
   "outputs": [],
   "source": [
    "#agar python me hame nhi pata hai ki koi function kya kaam karta hai to hm us function pr jayenge aur shift+tab press krenge "
   ]
  },
  {
   "cell_type": "code",
   "execution_count": 42,
   "id": "fff025ad-a01b-4f56-a257-d30f7655bbdd",
   "metadata": {},
   "outputs": [
    {
     "data": {
      "text/plain": [
       "(5+8j)"
      ]
     },
     "execution_count": 42,
     "metadata": {},
     "output_type": "execute_result"
    }
   ],
   "source": [
    "v"
   ]
  },
  {
   "cell_type": "code",
   "execution_count": 43,
   "id": "a34347d4-321b-4894-98bb-4a26dcf4c367",
   "metadata": {},
   "outputs": [],
   "source": [
    "#print function print anything in console"
   ]
  },
  {
   "cell_type": "code",
   "execution_count": 44,
   "id": "64f8de56-1279-4832-87d0-5f2720044d5c",
   "metadata": {},
   "outputs": [
    {
     "name": "stdout",
     "output_type": "stream",
     "text": [
      "my name is rahul\n"
     ]
    }
   ],
   "source": [
    "print('my name is rahul')"
   ]
  },
  {
   "cell_type": "code",
   "execution_count": 45,
   "id": "74d1dd80-ac1d-49c4-a7c2-21b0c227be82",
   "metadata": {},
   "outputs": [
    {
     "name": "stdout",
     "output_type": "stream",
     "text": [
      "10\n"
     ]
    }
   ],
   "source": [
    "print(a)"
   ]
  },
  {
   "cell_type": "code",
   "execution_count": 46,
   "id": "a5f443f6-60c0-4188-913f-273733a32af8",
   "metadata": {},
   "outputs": [
    {
     "name": "stdout",
     "output_type": "stream",
     "text": [
      "20\n"
     ]
    }
   ],
   "source": [
    "print(rahu)"
   ]
  },
  {
   "cell_type": "code",
   "execution_count": 47,
   "id": "ee30c340-77bb-41df-87b3-a028988ac95c",
   "metadata": {},
   "outputs": [],
   "source": [
    "s=\"pwskills\""
   ]
  },
  {
   "cell_type": "code",
   "execution_count": 48,
   "id": "eefdae55-9a6e-4f96-b3bf-55711d3fc51e",
   "metadata": {},
   "outputs": [
    {
     "data": {
      "text/plain": [
       "str"
      ]
     },
     "execution_count": 48,
     "metadata": {},
     "output_type": "execute_result"
    }
   ],
   "source": [
    "type(s)"
   ]
  },
  {
   "cell_type": "code",
   "execution_count": 49,
   "id": "a9b98f16-3b43-4b70-8c97-3a1c09a66a1b",
   "metadata": {},
   "outputs": [
    {
     "data": {
      "text/plain": [
       "'p'"
      ]
     },
     "execution_count": 49,
     "metadata": {},
     "output_type": "execute_result"
    }
   ],
   "source": [
    "s[0]"
   ]
  },
  {
   "cell_type": "code",
   "execution_count": 50,
   "id": "14367f6c-06fe-4fb6-9be4-e938e06d003a",
   "metadata": {},
   "outputs": [
    {
     "data": {
      "text/plain": [
       "'s'"
      ]
     },
     "execution_count": 50,
     "metadata": {},
     "output_type": "execute_result"
    }
   ],
   "source": [
    "s[-1]"
   ]
  },
  {
   "cell_type": "code",
   "execution_count": 51,
   "id": "709f772d-f5f8-4a9b-9796-3485a493e617",
   "metadata": {},
   "outputs": [
    {
     "data": {
      "text/plain": [
       "'p'"
      ]
     },
     "execution_count": 51,
     "metadata": {},
     "output_type": "execute_result"
    }
   ],
   "source": [
    "s[-8]"
   ]
  },
  {
   "cell_type": "code",
   "execution_count": 52,
   "id": "17def410-d876-456a-bde0-3e3262c115cf",
   "metadata": {},
   "outputs": [],
   "source": [
    "#slicing"
   ]
  },
  {
   "cell_type": "code",
   "execution_count": 53,
   "id": "21e4a6e1-cc5b-4d85-9031-8df16f783e89",
   "metadata": {},
   "outputs": [
    {
     "data": {
      "text/plain": [
       "'pws'"
      ]
     },
     "execution_count": 53,
     "metadata": {},
     "output_type": "execute_result"
    }
   ],
   "source": [
    "s[0:3]"
   ]
  },
  {
   "cell_type": "code",
   "execution_count": 54,
   "id": "3e47c471-1e05-43d0-8cde-90ee94793bfc",
   "metadata": {},
   "outputs": [],
   "source": [
    "#0=lower bound, 3=upper bound"
   ]
  },
  {
   "cell_type": "code",
   "execution_count": 55,
   "id": "9edee471-c1aa-4ffb-b328-0bf54dea8c10",
   "metadata": {},
   "outputs": [
    {
     "data": {
      "text/plain": [
       "'pw'"
      ]
     },
     "execution_count": 55,
     "metadata": {},
     "output_type": "execute_result"
    }
   ],
   "source": [
    "s[0:2]"
   ]
  },
  {
   "cell_type": "code",
   "execution_count": 56,
   "id": "0a8f4a67-5642-4fff-b784-ee99918e340d",
   "metadata": {},
   "outputs": [],
   "source": [
    "#alternating"
   ]
  },
  {
   "cell_type": "code",
   "execution_count": 57,
   "id": "c0130537-5822-4d6d-a096-ee3fe19c60ce",
   "metadata": {},
   "outputs": [
    {
     "data": {
      "text/plain": [
       "'psil'"
      ]
     },
     "execution_count": 57,
     "metadata": {},
     "output_type": "execute_result"
    }
   ],
   "source": [
    "s[0:8:2]"
   ]
  },
  {
   "cell_type": "code",
   "execution_count": 58,
   "id": "a073379a-f7bb-48ad-a8c8-08a1bd557388",
   "metadata": {},
   "outputs": [
    {
     "data": {
      "text/plain": [
       "'pkl'"
      ]
     },
     "execution_count": 58,
     "metadata": {},
     "output_type": "execute_result"
    }
   ],
   "source": [
    "s[0:8:3]"
   ]
  },
  {
   "cell_type": "code",
   "execution_count": 59,
   "id": "71142b42-b0f5-486c-847b-e6ae5f0d20df",
   "metadata": {},
   "outputs": [
    {
     "data": {
      "text/plain": [
       "'psil'"
      ]
     },
     "execution_count": 59,
     "metadata": {},
     "output_type": "execute_result"
    }
   ],
   "source": [
    "s[::2]"
   ]
  },
  {
   "cell_type": "code",
   "execution_count": 60,
   "id": "3f8cea16-70dc-4006-8681-48cd611704ed",
   "metadata": {},
   "outputs": [
    {
     "data": {
      "text/plain": [
       "'sil'"
      ]
     },
     "execution_count": 60,
     "metadata": {},
     "output_type": "execute_result"
    }
   ],
   "source": [
    "s[2:8:2]"
   ]
  },
  {
   "cell_type": "code",
   "execution_count": 61,
   "id": "9e61e5e7-7703-499d-86ba-fc2edf73d954",
   "metadata": {},
   "outputs": [
    {
     "data": {
      "text/plain": [
       "'sil'"
      ]
     },
     "execution_count": 61,
     "metadata": {},
     "output_type": "execute_result"
    }
   ],
   "source": [
    "s[2::2]"
   ]
  },
  {
   "cell_type": "code",
   "execution_count": 62,
   "id": "6d7e8732-1e7f-44e4-b817-54ca34b17d22",
   "metadata": {},
   "outputs": [
    {
     "ename": "ValueError",
     "evalue": "slice step cannot be zero",
     "output_type": "error",
     "traceback": [
      "\u001b[1;31m---------------------------------------------------------------------------\u001b[0m",
      "\u001b[1;31mValueError\u001b[0m                                Traceback (most recent call last)",
      "Cell \u001b[1;32mIn[62], line 1\u001b[0m\n\u001b[1;32m----> 1\u001b[0m s[\u001b[38;5;241m2\u001b[39m::\u001b[38;5;241m0\u001b[39m]\n",
      "\u001b[1;31mValueError\u001b[0m: slice step cannot be zero"
     ]
    }
   ],
   "source": [
    "s[2::0]"
   ]
  },
  {
   "cell_type": "code",
   "execution_count": 63,
   "id": "01b3fba0-3463-4882-b620-408231e91360",
   "metadata": {},
   "outputs": [],
   "source": [
    "#reversing or back slicing"
   ]
  },
  {
   "cell_type": "code",
   "execution_count": 64,
   "id": "85ff54aa-7475-4f72-b3c1-faababd6f643",
   "metadata": {},
   "outputs": [
    {
     "data": {
      "text/plain": [
       "'sllikswp'"
      ]
     },
     "execution_count": 64,
     "metadata": {},
     "output_type": "execute_result"
    }
   ],
   "source": [
    "s[::-1]"
   ]
  },
  {
   "cell_type": "code",
   "execution_count": 65,
   "id": "de9e1fab-a69d-447b-9df0-8500a460b65e",
   "metadata": {},
   "outputs": [
    {
     "data": {
      "text/plain": [
       "'sllikswp'"
      ]
     },
     "execution_count": 65,
     "metadata": {},
     "output_type": "execute_result"
    }
   ],
   "source": [
    "s[7:-9:-1]"
   ]
  },
  {
   "cell_type": "code",
   "execution_count": 66,
   "id": "0fe0d780-0986-472d-adb4-67c3dc61bc5b",
   "metadata": {},
   "outputs": [],
   "source": [
    " s1='this is my string class'"
   ]
  },
  {
   "cell_type": "code",
   "execution_count": 67,
   "id": "9ddcf8f0-a6c3-43b2-b620-8993943021df",
   "metadata": {},
   "outputs": [],
   "source": [
    "#to find the length of s1"
   ]
  },
  {
   "cell_type": "code",
   "execution_count": 68,
   "id": "c14f4cf6-af9a-4dbc-a0aa-11ebc3160ee0",
   "metadata": {},
   "outputs": [
    {
     "data": {
      "text/plain": [
       "23"
      ]
     },
     "execution_count": 68,
     "metadata": {},
     "output_type": "execute_result"
    }
   ],
   "source": [
    "len(s1)"
   ]
  },
  {
   "cell_type": "code",
   "execution_count": 103,
   "id": "dc14cf1e-79c2-4cf7-8149-75bb86176d48",
   "metadata": {},
   "outputs": [],
   "source": [
    "#find function: it is used to find a character of sub string in a string"
   ]
  },
  {
   "cell_type": "code",
   "execution_count": 70,
   "id": "4908a263-a6b3-453d-9fe7-3f7037a0239d",
   "metadata": {},
   "outputs": [
    {
     "data": {
      "text/plain": [
       "3"
      ]
     },
     "execution_count": 70,
     "metadata": {},
     "output_type": "execute_result"
    }
   ],
   "source": [
    "s1.find('s')"
   ]
  },
  {
   "cell_type": "code",
   "execution_count": 71,
   "id": "833359cd-014c-4f73-ac46-672d0dcc338b",
   "metadata": {},
   "outputs": [
    {
     "data": {
      "text/plain": [
       "2"
      ]
     },
     "execution_count": 71,
     "metadata": {},
     "output_type": "execute_result"
    }
   ],
   "source": [
    "s1.find('i')"
   ]
  },
  {
   "cell_type": "code",
   "execution_count": 72,
   "id": "25881e69-aaaa-4b7b-8d33-250764e1ea80",
   "metadata": {},
   "outputs": [
    {
     "data": {
      "text/plain": [
       "2"
      ]
     },
     "execution_count": 72,
     "metadata": {},
     "output_type": "execute_result"
    }
   ],
   "source": [
    "s1.find('is')"
   ]
  },
  {
   "cell_type": "code",
   "execution_count": 73,
   "id": "b5588028-5507-453d-9209-af3698ff4c3b",
   "metadata": {},
   "outputs": [],
   "source": [
    "#python is a case senstive language"
   ]
  },
  {
   "cell_type": "code",
   "execution_count": 74,
   "id": "7f58338f-5163-4a69-b3ea-139395030c17",
   "metadata": {},
   "outputs": [
    {
     "data": {
      "text/plain": [
       "-1"
      ]
     },
     "execution_count": 74,
     "metadata": {},
     "output_type": "execute_result"
    }
   ],
   "source": [
    "s1.find('iS')"
   ]
  },
  {
   "cell_type": "code",
   "execution_count": 75,
   "id": "3f051a12-b2e3-4f70-885d-20c0473fd483",
   "metadata": {},
   "outputs": [],
   "source": [
    "#count function"
   ]
  },
  {
   "cell_type": "code",
   "execution_count": 76,
   "id": "8fbb9a82-dd42-4285-8de8-5a1e25e17a33",
   "metadata": {},
   "outputs": [
    {
     "data": {
      "text/plain": [
       "5"
      ]
     },
     "execution_count": 76,
     "metadata": {},
     "output_type": "execute_result"
    }
   ],
   "source": [
    "s1.count('s')"
   ]
  },
  {
   "cell_type": "code",
   "execution_count": 77,
   "id": "fbb48746-4ace-4663-982e-1ab8781b4646",
   "metadata": {},
   "outputs": [
    {
     "data": {
      "text/plain": [
       "2"
      ]
     },
     "execution_count": 77,
     "metadata": {},
     "output_type": "execute_result"
    }
   ],
   "source": [
    "s1.count('is')"
   ]
  },
  {
   "cell_type": "code",
   "execution_count": 78,
   "id": "f1d7c955-bb72-436a-b0ad-7f42a970154b",
   "metadata": {},
   "outputs": [
    {
     "data": {
      "text/plain": [
       "0"
      ]
     },
     "execution_count": 78,
     "metadata": {},
     "output_type": "execute_result"
    }
   ],
   "source": [
    "s1.count('z')"
   ]
  },
  {
   "cell_type": "code",
   "execution_count": 79,
   "id": "f6c5d530-5f2e-4abd-89d7-8b0e6c0850c4",
   "metadata": {},
   "outputs": [
    {
     "data": {
      "text/plain": [
       "'this is my string class'"
      ]
     },
     "execution_count": 79,
     "metadata": {},
     "output_type": "execute_result"
    }
   ],
   "source": [
    "s1"
   ]
  },
  {
   "cell_type": "code",
   "execution_count": 80,
   "id": "49667498-2d23-437d-a19f-ea6fb35f366a",
   "metadata": {},
   "outputs": [
    {
     "data": {
      "text/plain": [
       "'THIS IS MY STRING CLASS'"
      ]
     },
     "execution_count": 80,
     "metadata": {},
     "output_type": "execute_result"
    }
   ],
   "source": [
    "s1.upper()"
   ]
  },
  {
   "cell_type": "code",
   "execution_count": 81,
   "id": "bc74d6e0-33e3-465f-98c8-22191579c699",
   "metadata": {},
   "outputs": [],
   "source": [
    " s2='THIS IS MY STRING CLASS'"
   ]
  },
  {
   "cell_type": "code",
   "execution_count": 82,
   "id": "b6e5f7cb-5fbd-460e-8df1-efd1be5f6ebc",
   "metadata": {},
   "outputs": [
    {
     "data": {
      "text/plain": [
       "'this is my string class'"
      ]
     },
     "execution_count": 82,
     "metadata": {},
     "output_type": "execute_result"
    }
   ],
   "source": [
    "s2.lower()"
   ]
  },
  {
   "cell_type": "code",
   "execution_count": 83,
   "id": "b43e9c98-2ad5-4bf1-a2bf-9d0e65fdfed8",
   "metadata": {},
   "outputs": [
    {
     "data": {
      "text/plain": [
       "'this is my string class'"
      ]
     },
     "execution_count": 83,
     "metadata": {},
     "output_type": "execute_result"
    }
   ],
   "source": [
    "s1"
   ]
  },
  {
   "cell_type": "code",
   "execution_count": 84,
   "id": "fd5bb846-9047-4e2c-b527-6fc213a1f9dd",
   "metadata": {},
   "outputs": [
    {
     "data": {
      "text/plain": [
       "'This Is My String Class'"
      ]
     },
     "execution_count": 84,
     "metadata": {},
     "output_type": "execute_result"
    }
   ],
   "source": [
    "s1.title()"
   ]
  },
  {
   "cell_type": "code",
   "execution_count": 85,
   "id": "de733ab0-8fdc-46c0-ab02-8148b9646c09",
   "metadata": {},
   "outputs": [
    {
     "data": {
      "text/plain": [
       "'This is my string class'"
      ]
     },
     "execution_count": 85,
     "metadata": {},
     "output_type": "execute_result"
    }
   ],
   "source": [
    "s1.capitalize()"
   ]
  },
  {
   "cell_type": "code",
   "execution_count": 86,
   "id": "9b9edde5-cc1c-4bc9-8ecd-5e851ebe176b",
   "metadata": {},
   "outputs": [
    {
     "data": {
      "text/plain": [
       "'pwskills'"
      ]
     },
     "execution_count": 86,
     "metadata": {},
     "output_type": "execute_result"
    }
   ],
   "source": [
    "s"
   ]
  },
  {
   "cell_type": "code",
   "execution_count": 87,
   "id": "b8af7e24-3640-4cec-b55c-5c44ca906b8e",
   "metadata": {},
   "outputs": [],
   "source": [
    "#concatination"
   ]
  },
  {
   "cell_type": "code",
   "execution_count": 88,
   "id": "3643047b-2de5-42f9-8a82-398f90e63dbd",
   "metadata": {},
   "outputs": [
    {
     "ename": "TypeError",
     "evalue": "can only concatenate str (not \"int\") to str",
     "output_type": "error",
     "traceback": [
      "\u001b[1;31m---------------------------------------------------------------------------\u001b[0m",
      "\u001b[1;31mTypeError\u001b[0m                                 Traceback (most recent call last)",
      "Cell \u001b[1;32mIn[88], line 1\u001b[0m\n\u001b[1;32m----> 1\u001b[0m s\u001b[38;5;241m+\u001b[39m\u001b[38;5;241m1\u001b[39m\n",
      "\u001b[1;31mTypeError\u001b[0m: can only concatenate str (not \"int\") to str"
     ]
    }
   ],
   "source": [
    "s+1"
   ]
  },
  {
   "cell_type": "code",
   "execution_count": 89,
   "id": "f951d7a8-8245-4fca-a329-171c4c30f523",
   "metadata": {},
   "outputs": [
    {
     "data": {
      "text/plain": [
       "'pwskillsrahu'"
      ]
     },
     "execution_count": 89,
     "metadata": {},
     "output_type": "execute_result"
    }
   ],
   "source": [
    "s+'rahu'"
   ]
  },
  {
   "cell_type": "code",
   "execution_count": 90,
   "id": "27e7d08b-79e1-4b5d-a637-f713610e0715",
   "metadata": {},
   "outputs": [
    {
     "data": {
      "text/plain": [
       "'pwskills1'"
      ]
     },
     "execution_count": 90,
     "metadata": {},
     "output_type": "execute_result"
    }
   ],
   "source": [
    "s+'1'"
   ]
  },
  {
   "cell_type": "code",
   "execution_count": 91,
   "id": "0a710575-4afc-4429-8e6c-7f9f36a58fc4",
   "metadata": {},
   "outputs": [
    {
     "data": {
      "text/plain": [
       "'pwskills1'"
      ]
     },
     "execution_count": 91,
     "metadata": {},
     "output_type": "execute_result"
    }
   ],
   "source": [
    "s+str(1)"
   ]
  },
  {
   "cell_type": "code",
   "execution_count": 92,
   "id": "5b2f4d91-e246-406e-abec-59c47a0b2398",
   "metadata": {},
   "outputs": [],
   "source": [
    "#concatination kewal same data types me hota hai"
   ]
  },
  {
   "cell_type": "code",
   "execution_count": 93,
   "id": "23e159de-5c54-488a-bb1a-1a598ebe9f01",
   "metadata": {},
   "outputs": [
    {
     "data": {
      "text/plain": [
       "'pwskills'"
      ]
     },
     "execution_count": 93,
     "metadata": {},
     "output_type": "execute_result"
    }
   ],
   "source": [
    "s"
   ]
  },
  {
   "cell_type": "code",
   "execution_count": 94,
   "id": "1b5be50d-3e71-4d00-a022-9cfcc7f45034",
   "metadata": {},
   "outputs": [
    {
     "data": {
      "text/plain": [
       "'pwskillspwskillspwskills'"
      ]
     },
     "execution_count": 94,
     "metadata": {},
     "output_type": "execute_result"
    }
   ],
   "source": [
    "s*3"
   ]
  },
  {
   "cell_type": "code",
   "execution_count": 95,
   "id": "0a32e118-1be5-4424-a363-e7e74f22ddd6",
   "metadata": {},
   "outputs": [
    {
     "data": {
      "text/plain": [
       "'rahulrahulrahul'"
      ]
     },
     "execution_count": 95,
     "metadata": {},
     "output_type": "execute_result"
    }
   ],
   "source": [
    "'rahul'*3"
   ]
  },
  {
   "cell_type": "code",
   "execution_count": 96,
   "id": "c0e99f59-27ec-4bae-b4fa-4b517e077979",
   "metadata": {},
   "outputs": [
    {
     "ename": "TypeError",
     "evalue": "unsupported operand type(s) for /: 'str' and 'int'",
     "output_type": "error",
     "traceback": [
      "\u001b[1;31m---------------------------------------------------------------------------\u001b[0m",
      "\u001b[1;31mTypeError\u001b[0m                                 Traceback (most recent call last)",
      "Cell \u001b[1;32mIn[96], line 1\u001b[0m\n\u001b[1;32m----> 1\u001b[0m \u001b[38;5;124m\"\u001b[39m\u001b[38;5;124mrahul\u001b[39m\u001b[38;5;124m\"\u001b[39m\u001b[38;5;241m/\u001b[39m\u001b[38;5;241m3\u001b[39m\n",
      "\u001b[1;31mTypeError\u001b[0m: unsupported operand type(s) for /: 'str' and 'int'"
     ]
    }
   ],
   "source": [
    "\"rahul\"/3"
   ]
  },
  {
   "cell_type": "code",
   "execution_count": 99,
   "id": "eee825f3-b225-452b-a461-bf51845b93ed",
   "metadata": {},
   "outputs": [
    {
     "ename": "SyntaxError",
     "evalue": "unterminated string literal (detected at line 1) (3846346699.py, line 1)",
     "output_type": "error",
     "traceback": [
      "\u001b[1;36m  Cell \u001b[1;32mIn[99], line 1\u001b[1;36m\u001b[0m\n\u001b[1;33m    'don't do copy and past in my class'\u001b[0m\n\u001b[1;37m                                       ^\u001b[0m\n\u001b[1;31mSyntaxError\u001b[0m\u001b[1;31m:\u001b[0m unterminated string literal (detected at line 1)\n"
     ]
    }
   ],
   "source": [
    "'don't do copy and past in my class'"
   ]
  },
  {
   "cell_type": "code",
   "execution_count": 101,
   "id": "8ce723ef-014c-40ee-903d-bfc08cb0c476",
   "metadata": {},
   "outputs": [],
   "source": [
    "#in this case use double cote"
   ]
  },
  {
   "cell_type": "code",
   "execution_count": 102,
   "id": "3c566be9-4272-4503-ba1f-064aae8866b4",
   "metadata": {},
   "outputs": [
    {
     "data": {
      "text/plain": [
       "\"don't do copy and past in my class\""
      ]
     },
     "execution_count": 102,
     "metadata": {},
     "output_type": "execute_result"
    }
   ],
   "source": [
    "\"don't do copy and past in my class\""
   ]
  },
  {
   "cell_type": "code",
   "execution_count": 104,
   "id": "c1eb7843-08d3-43e0-b931-8ba6b9de0b90",
   "metadata": {},
   "outputs": [],
   "source": [
    " #for multiline comment use \"\"\" \"\"\" "
   ]
  },
  {
   "cell_type": "code",
   "execution_count": null,
   "id": "80b69e3b-d57b-4bc0-a4b5-1e7703ab960d",
   "metadata": {},
   "outputs": [],
   "source": []
  }
 ],
 "metadata": {
  "kernelspec": {
   "display_name": "Python 3 (ipykernel)",
   "language": "python",
   "name": "python3"
  },
  "language_info": {
   "codemirror_mode": {
    "name": "ipython",
    "version": 3
   },
   "file_extension": ".py",
   "mimetype": "text/x-python",
   "name": "python",
   "nbconvert_exporter": "python",
   "pygments_lexer": "ipython3",
   "version": "3.11.7"
  }
 },
 "nbformat": 4,
 "nbformat_minor": 5
}
