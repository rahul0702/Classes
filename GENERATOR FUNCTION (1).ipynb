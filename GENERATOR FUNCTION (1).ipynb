{
 "cells": [
  {
   "cell_type": "markdown",
   "id": "25b1030c-b1a2-4781-a626-f5d2b3508fa4",
   "metadata": {},
   "source": [
    "GENERATOR FUNCTION"
   ]
  },
  {
   "cell_type": "code",
   "execution_count": 2,
   "id": "830587c2-6e6b-4eee-9390-f18b88236965",
   "metadata": {},
   "outputs": [
    {
     "data": {
      "text/plain": [
       "range(0, 10)"
      ]
     },
     "execution_count": 2,
     "metadata": {},
     "output_type": "execute_result"
    }
   ],
   "source": [
    "range(10)"
   ]
  },
  {
   "cell_type": "code",
   "execution_count": 3,
   "id": "4142d1f9-3b26-4524-8be1-28a46cb72870",
   "metadata": {},
   "outputs": [
    {
     "name": "stdout",
     "output_type": "stream",
     "text": [
      "0\n",
      "1\n",
      "2\n",
      "3\n",
      "4\n",
      "5\n",
      "6\n",
      "7\n",
      "8\n",
      "9\n"
     ]
    }
   ],
   "source": [
    "for i in range(10):\n",
    "    print(i)"
   ]
  },
  {
   "cell_type": "markdown",
   "id": "9522c279-2ae1-4591-b084-93ab1cd1b8cc",
   "metadata": {},
   "source": [
    "Generator function ka use memory consuption ko kam karne ke liye karte hai \n",
    "yah pure data ko ek hi bar store kiye bina hi ek ek karke data execute karta hai"
   ]
  },
  {
   "cell_type": "code",
   "execution_count": 12,
   "id": "bdd747e8-b1cf-4f63-bab4-458a98a569ae",
   "metadata": {},
   "outputs": [],
   "source": [
    "def test_fib(n):\n",
    "    a,b = 0,1\n",
    "    for i in range(n):\n",
    "        yield a\n",
    "        a,b = b,a+b"
   ]
  },
  {
   "cell_type": "code",
   "execution_count": 13,
   "id": "adf19776-5a58-42ab-b5c7-ced744010136",
   "metadata": {},
   "outputs": [
    {
     "name": "stdout",
     "output_type": "stream",
     "text": [
      "0\n",
      "1\n",
      "1\n",
      "2\n",
      "3\n",
      "5\n",
      "8\n",
      "13\n",
      "21\n",
      "34\n"
     ]
    }
   ],
   "source": [
    "for i in test_fib(10):\n",
    "    print(i)"
   ]
  },
  {
   "cell_type": "code",
   "execution_count": 25,
   "id": "630aff03-f2f3-45f2-9221-efd8f57ad925",
   "metadata": {},
   "outputs": [],
   "source": [
    "def test_fib1():\n",
    "    a,b = 0,1\n",
    "    while True:\n",
    "        yield a\n",
    "        a,b=b, a+b"
   ]
  },
  {
   "cell_type": "code",
   "execution_count": 26,
   "id": "c7e570f4-54df-45d0-8c4a-4d2b68c765ec",
   "metadata": {},
   "outputs": [],
   "source": [
    "fib = test_fib1()"
   ]
  },
  {
   "cell_type": "code",
   "execution_count": 27,
   "id": "eb73e19f-5472-4633-ab75-0df95db8ec12",
   "metadata": {},
   "outputs": [
    {
     "name": "stdout",
     "output_type": "stream",
     "text": [
      "0\n",
      "1\n",
      "1\n",
      "2\n",
      "3\n",
      "5\n",
      "8\n",
      "13\n",
      "21\n",
      "34\n"
     ]
    }
   ],
   "source": [
    "for i in range(10):\n",
    "    print(next(fib))"
   ]
  },
  {
   "cell_type": "code",
   "execution_count": 28,
   "id": "062511f7-44a7-477b-acae-21a7ac86e4d4",
   "metadata": {},
   "outputs": [],
   "source": [
    "s='rahul'"
   ]
  },
  {
   "cell_type": "code",
   "execution_count": 29,
   "id": "b3e13192-c2a5-442b-ad94-bd984de51a61",
   "metadata": {},
   "outputs": [
    {
     "name": "stdout",
     "output_type": "stream",
     "text": [
      "r\n",
      "a\n",
      "h\n",
      "u\n",
      "l\n"
     ]
    }
   ],
   "source": [
    "for i in s :\n",
    "    print(i)"
   ]
  },
  {
   "cell_type": "code",
   "execution_count": 30,
   "id": "b8d6e34d-bf85-4f4d-856c-2bc9f7ed64c5",
   "metadata": {},
   "outputs": [
    {
     "data": {
      "text/plain": [
       "'rahul'"
      ]
     },
     "execution_count": 30,
     "metadata": {},
     "output_type": "execute_result"
    }
   ],
   "source": [
    "s"
   ]
  },
  {
   "cell_type": "code",
   "execution_count": 31,
   "id": "0a9bc361-e006-4d71-8de6-9a3e4dc44943",
   "metadata": {},
   "outputs": [
    {
     "ename": "TypeError",
     "evalue": "'str' object is not an iterator",
     "output_type": "error",
     "traceback": [
      "\u001b[1;31m---------------------------------------------------------------------------\u001b[0m",
      "\u001b[1;31mTypeError\u001b[0m                                 Traceback (most recent call last)",
      "Cell \u001b[1;32mIn[31], line 1\u001b[0m\n\u001b[1;32m----> 1\u001b[0m \u001b[38;5;28mnext\u001b[39m(s)\n",
      "\u001b[1;31mTypeError\u001b[0m: 'str' object is not an iterator"
     ]
    }
   ],
   "source": [
    "next(s)"
   ]
  },
  {
   "cell_type": "markdown",
   "id": "2af0b630-f9de-41a1-9598-649759006719",
   "metadata": {},
   "source": [
    "string is an iterable but not an iterator"
   ]
  },
  {
   "cell_type": "code",
   "execution_count": 32,
   "id": "7bcdb280-46ba-479b-95a5-4faea3e2a5c6",
   "metadata": {},
   "outputs": [],
   "source": [
    "s1 = iter(s)"
   ]
  },
  {
   "cell_type": "code",
   "execution_count": 33,
   "id": "09ec794a-00f5-429b-8a67-43bde44da5a3",
   "metadata": {},
   "outputs": [
    {
     "data": {
      "text/plain": [
       "str_ascii_iterator"
      ]
     },
     "execution_count": 33,
     "metadata": {},
     "output_type": "execute_result"
    }
   ],
   "source": [
    "type(s1)"
   ]
  },
  {
   "cell_type": "code",
   "execution_count": 34,
   "id": "b3fae0b4-9d43-4ab7-bb4a-86a921d414e1",
   "metadata": {},
   "outputs": [
    {
     "data": {
      "text/plain": [
       "'r'"
      ]
     },
     "execution_count": 34,
     "metadata": {},
     "output_type": "execute_result"
    }
   ],
   "source": [
    "next(s1)"
   ]
  },
  {
   "cell_type": "code",
   "execution_count": 35,
   "id": "15b3133b-9f5b-45ce-8f1d-976e54c9cc9e",
   "metadata": {},
   "outputs": [
    {
     "data": {
      "text/plain": [
       "'a'"
      ]
     },
     "execution_count": 35,
     "metadata": {},
     "output_type": "execute_result"
    }
   ],
   "source": [
    "next(s1)"
   ]
  },
  {
   "cell_type": "code",
   "execution_count": 36,
   "id": "515508ca-beca-464c-a487-b5067714d1f9",
   "metadata": {},
   "outputs": [
    {
     "data": {
      "text/plain": [
       "'h'"
      ]
     },
     "execution_count": 36,
     "metadata": {},
     "output_type": "execute_result"
    }
   ],
   "source": [
    "next(s1)"
   ]
  },
  {
   "cell_type": "code",
   "execution_count": 37,
   "id": "7fd32b34-8f4b-4948-a25f-37aa26d6e852",
   "metadata": {},
   "outputs": [
    {
     "data": {
      "text/plain": [
       "'u'"
      ]
     },
     "execution_count": 37,
     "metadata": {},
     "output_type": "execute_result"
    }
   ],
   "source": [
    "next(s1)"
   ]
  },
  {
   "cell_type": "code",
   "execution_count": 38,
   "id": "7df61c24-8ef3-49ea-b8f6-d8f1565108e5",
   "metadata": {},
   "outputs": [
    {
     "data": {
      "text/plain": [
       "'l'"
      ]
     },
     "execution_count": 38,
     "metadata": {},
     "output_type": "execute_result"
    }
   ],
   "source": [
    "next(s1)"
   ]
  },
  {
   "cell_type": "code",
   "execution_count": 39,
   "id": "de68be1a-674e-47f3-bc96-9fd29ad5d90c",
   "metadata": {},
   "outputs": [
    {
     "ename": "StopIteration",
     "evalue": "",
     "output_type": "error",
     "traceback": [
      "\u001b[1;31m---------------------------------------------------------------------------\u001b[0m",
      "\u001b[1;31mStopIteration\u001b[0m                             Traceback (most recent call last)",
      "Cell \u001b[1;32mIn[39], line 1\u001b[0m\n\u001b[1;32m----> 1\u001b[0m \u001b[38;5;28mnext\u001b[39m(s1)\n",
      "\u001b[1;31mStopIteration\u001b[0m: "
     ]
    }
   ],
   "source": [
    "next(s1)"
   ]
  },
  {
   "cell_type": "markdown",
   "id": "810c1381-e355-4404-9867-02710bfc3fb3",
   "metadata": {},
   "source": [
    "for loop pahle hi length calculate kar leta hai and data ko itter ke andar daal deta hai and next next karta hai"
   ]
  },
  {
   "cell_type": "code",
   "execution_count": 40,
   "id": "dad33ab9-9037-4e3e-8098-57f0d3988dca",
   "metadata": {},
   "outputs": [
    {
     "ename": "TypeError",
     "evalue": "'int' object is not an iterator",
     "output_type": "error",
     "traceback": [
      "\u001b[1;31m---------------------------------------------------------------------------\u001b[0m",
      "\u001b[1;31mTypeError\u001b[0m                                 Traceback (most recent call last)",
      "Cell \u001b[1;32mIn[40], line 1\u001b[0m\n\u001b[1;32m----> 1\u001b[0m \u001b[38;5;28mnext\u001b[39m(\u001b[38;5;241m45\u001b[39m)\n",
      "\u001b[1;31mTypeError\u001b[0m: 'int' object is not an iterator"
     ]
    }
   ],
   "source": [
    "next(45)"
   ]
  },
  {
   "cell_type": "code",
   "execution_count": 41,
   "id": "7dd6c7a8-3097-4632-9843-f6130e42659a",
   "metadata": {},
   "outputs": [
    {
     "ename": "NameError",
     "evalue": "name 'itr' is not defined",
     "output_type": "error",
     "traceback": [
      "\u001b[1;31m---------------------------------------------------------------------------\u001b[0m",
      "\u001b[1;31mNameError\u001b[0m                                 Traceback (most recent call last)",
      "Cell \u001b[1;32mIn[41], line 1\u001b[0m\n\u001b[1;32m----> 1\u001b[0m itr(\u001b[38;5;241m45\u001b[39m)\n",
      "\u001b[1;31mNameError\u001b[0m: name 'itr' is not defined"
     ]
    }
   ],
   "source": [
    "itr(45)"
   ]
  },
  {
   "cell_type": "markdown",
   "id": "671cb4ab-e134-4e76-b7a5-08969cef363b",
   "metadata": {},
   "source": [
    "jo iterable hai pahle se use hi iterater me convert kar sakte kai"
   ]
  },
  {
   "cell_type": "code",
   "execution_count": 42,
   "id": "1879a75d-b342-4f3f-a6e1-72e3f5bc2b45",
   "metadata": {},
   "outputs": [],
   "source": [
    "def count_test(n):\n",
    "    count = 1\n",
    "    while count <= n:\n",
    "        yield count\n",
    "        count = count + 1"
   ]
  },
  {
   "cell_type": "code",
   "execution_count": 43,
   "id": "6166c26d-1021-41da-897c-525c3f47e25e",
   "metadata": {},
   "outputs": [],
   "source": [
    "c=count_test(5)"
   ]
  },
  {
   "cell_type": "code",
   "execution_count": 44,
   "id": "631cc7ed-4175-4fa8-b95d-01496cad316b",
   "metadata": {},
   "outputs": [
    {
     "name": "stdout",
     "output_type": "stream",
     "text": [
      "1\n",
      "2\n",
      "3\n",
      "4\n",
      "5\n"
     ]
    }
   ],
   "source": [
    "for i in c :\n",
    "    print(i)"
   ]
  },
  {
   "cell_type": "code",
   "execution_count": 45,
   "id": "3e6e40fc-b011-4060-9e22-7d638ee878aa",
   "metadata": {},
   "outputs": [
    {
     "data": {
      "text/plain": [
       "generator"
      ]
     },
     "execution_count": 45,
     "metadata": {},
     "output_type": "execute_result"
    }
   ],
   "source": [
    "type(c)"
   ]
  },
  {
   "cell_type": "code",
   "execution_count": null,
   "id": "84161b45-1fd2-4410-b1d8-e93ea9071e28",
   "metadata": {},
   "outputs": [],
   "source": []
  }
 ],
 "metadata": {
  "kernelspec": {
   "display_name": "Python 3 (ipykernel)",
   "language": "python",
   "name": "python3"
  },
  "language_info": {
   "codemirror_mode": {
    "name": "ipython",
    "version": 3
   },
   "file_extension": ".py",
   "mimetype": "text/x-python",
   "name": "python",
   "nbconvert_exporter": "python",
   "pygments_lexer": "ipython3",
   "version": "3.11.7"
  }
 },
 "nbformat": 4,
 "nbformat_minor": 5
}
