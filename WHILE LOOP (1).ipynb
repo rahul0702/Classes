{
 "cells": [
  {
   "cell_type": "markdown",
   "id": "2bebeb48-2314-4ee8-973e-75343dfeb4d5",
   "metadata": {},
   "source": [
    "WHILE LOOP"
   ]
  },
  {
   "cell_type": "code",
   "execution_count": 2,
   "id": "2b5b5eb0-88b7-4e45-bad9-6d41070c4f5f",
   "metadata": {},
   "outputs": [
    {
     "name": "stdout",
     "output_type": "stream",
     "text": [
      "1\n",
      "2\n",
      "3\n",
      "4\n",
      "5\n",
      "6\n",
      "7\n",
      "8\n",
      "9\n",
      "10\n"
     ]
    }
   ],
   "source": [
    "a=1\n",
    "while a<=10:\n",
    "    print(a)\n",
    "    a=a+1\n"
   ]
  },
  {
   "cell_type": "code",
   "execution_count": 3,
   "id": "45112c41-c8ed-4e24-9e72-34ffeb534065",
   "metadata": {},
   "outputs": [],
   "source": [
    "# while loop pahale condition check karta hai ki condition true hai ya nhi uske baad print karta hai jabki for loop aisa nhi karta hai"
   ]
  },
  {
   "cell_type": "markdown",
   "id": "48094eab-bab9-4c8a-a203-07127c159cf8",
   "metadata": {},
   "source": [
    "# sum up the no till some point"
   ]
  },
  {
   "cell_type": "code",
   "execution_count": 6,
   "id": "3d5e5d00-a86a-467d-871c-abaaeb0f5938",
   "metadata": {},
   "outputs": [
    {
     "name": "stdin",
     "output_type": "stream",
     "text": [
      "enter your limit 5\n"
     ]
    },
    {
     "data": {
      "text/plain": [
       "15"
      ]
     },
     "execution_count": 6,
     "metadata": {},
     "output_type": "execute_result"
    }
   ],
   "source": [
    "n= int(input('enter your limit'))\n",
    "starting_point=0\n",
    "counter = 1\n",
    "\n",
    "while counter <= n :\n",
    "    starting_point = starting_point + counter\n",
    "    counter = counter+1\n",
    "starting_point    "
   ]
  },
  {
   "cell_type": "code",
   "execution_count": null,
   "id": "a9df2485-57c7-42c9-b699-8a694fecd2a4",
   "metadata": {},
   "outputs": [],
   "source": [
    "ie. 1+2+3+4+5"
   ]
  },
  {
   "cell_type": "markdown",
   "id": "3dfdc60e-c20d-45f8-8362-99038ede3d52",
   "metadata": {},
   "source": [
    "FACTORIAL"
   ]
  },
  {
   "cell_type": "code",
   "execution_count": 11,
   "id": "77aa1ae6-adcd-4e71-afec-33140a3d1ebb",
   "metadata": {},
   "outputs": [
    {
     "name": "stdin",
     "output_type": "stream",
     "text": [
      "enter your number 3\n"
     ]
    },
    {
     "data": {
      "text/plain": [
       "6"
      ]
     },
     "execution_count": 11,
     "metadata": {},
     "output_type": "execute_result"
    }
   ],
   "source": [
    "number = int(input('enter your number'))\n",
    "factorial = 1\n",
    "while number > 0:\n",
    "    factorial = factorial*number\n",
    "    number = number-1\n",
    "factorial"
   ]
  },
  {
   "cell_type": "markdown",
   "id": "40cb8c2e-ba0a-4ccf-bded-f240824edb29",
   "metadata": {},
   "source": [
    "FINONACCI SERIES"
   ]
  },
  {
   "cell_type": "code",
   "execution_count": 12,
   "id": "c8faaf0e-1f5b-45ff-a59e-c82239b28dc0",
   "metadata": {},
   "outputs": [
    {
     "name": "stdin",
     "output_type": "stream",
     "text": [
      "enter the number of element you are looking for 10\n"
     ]
    },
    {
     "name": "stdout",
     "output_type": "stream",
     "text": [
      "0\n",
      "1\n",
      "1\n",
      "2\n",
      "3\n",
      "5\n",
      "8\n",
      "13\n",
      "21\n",
      "34\n"
     ]
    }
   ],
   "source": [
    "number =int(input('enter the number of element you are looking for'))\n",
    "a,b = 0,1\n",
    "counter = 0\n",
    "while counter < number :\n",
    "    print (a)\n",
    "    c = a+b\n",
    "    a=b\n",
    "    b=c\n",
    "    counter = counter +1\n",
    "    "
   ]
  },
  {
   "cell_type": "code",
   "execution_count": 13,
   "id": "d3dd14c3-ee52-46ed-8674-6c6828bdf77f",
   "metadata": {},
   "outputs": [
    {
     "name": "stdout",
     "output_type": "stream",
     "text": [
      "0\n",
      "1\n",
      "1\n",
      "2\n",
      "3\n",
      "5\n",
      "8\n",
      "13\n",
      "21\n",
      "34\n"
     ]
    }
   ],
   "source": [
    "a,b = 0,1\n",
    "\n",
    "for i in range(10):\n",
    "    print(a)\n",
    "    c=a+b\n",
    "    a=b\n",
    "    b=c\n"
   ]
  },
  {
   "cell_type": "markdown",
   "id": "0cd2fff0-fc5b-45d4-b15c-a3562fc1403a",
   "metadata": {},
   "source": [
    "REVERSING THE STRING USING WHILE LOOP"
   ]
  },
  {
   "cell_type": "code",
   "execution_count": 1,
   "id": "0030be48-cddd-45ea-85ab-2390d79802e7",
   "metadata": {},
   "outputs": [
    {
     "name": "stdin",
     "output_type": "stream",
     "text": [
      "enter your string for reversal rahul\n"
     ]
    }
   ],
   "source": [
    "word = input ('enter your string for reversal')"
   ]
  },
  {
   "cell_type": "code",
   "execution_count": 2,
   "id": "e241082a-7e3e-46af-b17f-8e8ef0626568",
   "metadata": {},
   "outputs": [
    {
     "name": "stdout",
     "output_type": "stream",
     "text": [
      "luhar\n"
     ]
    }
   ],
   "source": [
    "reverse = ''\n",
    "length = len (word)\n",
    "while length > 0 :\n",
    "    reverse = reverse + word[length - 1]\n",
    "    length = length - 1\n",
    "print(reverse)    "
   ]
  },
  {
   "cell_type": "markdown",
   "id": "aded6d8a-a323-42ae-8a19-36259025de15",
   "metadata": {},
   "source": [
    "PRINT TABLE OF NUMBERS"
   ]
  },
  {
   "cell_type": "code",
   "execution_count": 3,
   "id": "36f7ccef-7707-466b-a034-8ef5bdcf37b7",
   "metadata": {},
   "outputs": [
    {
     "name": "stdin",
     "output_type": "stream",
     "text": [
      "enter your number 4\n"
     ]
    },
    {
     "name": "stdout",
     "output_type": "stream",
     "text": [
      "4 * 1 = 4\n",
      "4 * 2 = 8\n",
      "4 * 3 = 12\n",
      "4 * 4 = 16\n",
      "4 * 5 = 20\n",
      "4 * 6 = 24\n",
      "4 * 7 = 28\n",
      "4 * 8 = 32\n",
      "4 * 9 = 36\n",
      "4 * 10 = 40\n"
     ]
    }
   ],
   "source": [
    "n = int(input('enter your number'))\n",
    "i= 1\n",
    "\n",
    "while i <= 10 :\n",
    "    result = n*i\n",
    "    print(n,'*',i,'=',result)\n",
    "    i = i + 1"
   ]
  },
  {
   "cell_type": "code",
   "execution_count": 5,
   "id": "2fcdf16f-f1cc-4225-a40d-3ad041368676",
   "metadata": {},
   "outputs": [
    {
     "name": "stdout",
     "output_type": "stream",
     "text": [
      "1\n",
      "2\n",
      "3\n"
     ]
    }
   ],
   "source": [
    "n = 5\n",
    "i = 1\n",
    "while i < n :\n",
    "    print (i)\n",
    "    if i == 3 :\n",
    "        break\n",
    "    i = i + 1\n",
    "else :\n",
    "    print('this will be executed once your while will complete it succesfully')\n",
    "    "
   ]
  },
  {
   "cell_type": "code",
   "execution_count": null,
   "id": "f625d060-03e3-4aba-bf9c-746d064201fb",
   "metadata": {},
   "outputs": [],
   "source": []
  }
 ],
 "metadata": {
  "kernelspec": {
   "display_name": "Python 3 (ipykernel)",
   "language": "python",
   "name": "python3"
  },
  "language_info": {
   "codemirror_mode": {
    "name": "ipython",
    "version": 3
   },
   "file_extension": ".py",
   "mimetype": "text/x-python",
   "name": "python",
   "nbconvert_exporter": "python",
   "pygments_lexer": "ipython3",
   "version": "3.11.7"
  }
 },
 "nbformat": 4,
 "nbformat_minor": 5
}
