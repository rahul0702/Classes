{
 "cells": [
  {
   "cell_type": "markdown",
   "id": "b37bdcc3-2aa5-4978-aefb-864baa4aba76",
   "metadata": {},
   "source": [
    "MAP , REDUCE  AND   FILTER FUNCTION"
   ]
  },
  {
   "cell_type": "code",
   "execution_count": 4,
   "id": "91c8f472-fb13-42b1-a208-a399a444aefc",
   "metadata": {},
   "outputs": [],
   "source": [
    "l = [1,2,3,4,5,6]"
   ]
  },
  {
   "cell_type": "code",
   "execution_count": 5,
   "id": "29e42a9f-6447-4134-ae49-15a6c8f334c5",
   "metadata": {},
   "outputs": [],
   "source": [
    "def test(l):\n",
    "    l1 = []\n",
    "    for i in l:\n",
    "        l1.append(i**2)\n",
    "    return l1    "
   ]
  },
  {
   "cell_type": "markdown",
   "id": "72ef4be5-07fb-4b6b-b6c1-3def18af25ba",
   "metadata": {},
   "source": [
    "MAP"
   ]
  },
  {
   "cell_type": "code",
   "execution_count": 6,
   "id": "35bb9d1e-1da9-4efc-b126-551686f5d2a6",
   "metadata": {},
   "outputs": [
    {
     "data": {
      "text/plain": [
       "[1, 4, 9, 16, 25, 36]"
      ]
     },
     "execution_count": 6,
     "metadata": {},
     "output_type": "execute_result"
    }
   ],
   "source": [
    "test(l)"
   ]
  },
  {
   "cell_type": "code",
   "execution_count": 9,
   "id": "38993097-dbff-40ad-ade5-d26f316ad68a",
   "metadata": {},
   "outputs": [
    {
     "data": {
      "text/plain": [
       "[1, 2, 3, 4, 5, 6]"
      ]
     },
     "execution_count": 9,
     "metadata": {},
     "output_type": "execute_result"
    }
   ],
   "source": [
    "l"
   ]
  },
  {
   "cell_type": "code",
   "execution_count": 7,
   "id": "aba967e4-d361-48db-87a8-f12ea8241985",
   "metadata": {},
   "outputs": [],
   "source": [
    "def sq(x):\n",
    "    return x**2"
   ]
  },
  {
   "cell_type": "code",
   "execution_count": 8,
   "id": "3742f49a-1944-4962-a4ee-42d9f5991d10",
   "metadata": {},
   "outputs": [
    {
     "data": {
      "text/plain": [
       "[1, 4, 9, 16, 25, 36]"
      ]
     },
     "execution_count": 8,
     "metadata": {},
     "output_type": "execute_result"
    }
   ],
   "source": [
    "list(map(sq,l))"
   ]
  },
  {
   "cell_type": "code",
   "execution_count": 11,
   "id": "e2f04521-519e-45fc-81c6-2d42b621a9a2",
   "metadata": {},
   "outputs": [
    {
     "data": {
      "text/plain": [
       "[1, 4, 9, 16, 25, 36]"
      ]
     },
     "execution_count": 11,
     "metadata": {},
     "output_type": "execute_result"
    }
   ],
   "source": [
    "list(map(lambda x : x**2, l))"
   ]
  },
  {
   "cell_type": "code",
   "execution_count": 2,
   "id": "ac7fc797-fe25-4b98-b526-e82faad96e49",
   "metadata": {},
   "outputs": [
    {
     "data": {
      "text/plain": [
       "[7, 9, 11, 13, 15]"
      ]
     },
     "execution_count": 2,
     "metadata": {},
     "output_type": "execute_result"
    }
   ],
   "source": [
    "l1= [1,2,3,4,5]\n",
    "l2=[6,7,8,9,10 ]\n",
    "\n",
    "list(map(lambda x,y : x+y ,l1 , l2))"
   ]
  },
  {
   "cell_type": "code",
   "execution_count": 3,
   "id": "8cad341a-72a2-4c3d-84de-081778484542",
   "metadata": {},
   "outputs": [],
   "source": [
    "def add (x,y):\n",
    "    return x+y"
   ]
  },
  {
   "cell_type": "code",
   "execution_count": 4,
   "id": "f6a2b765-b01e-49b2-8cfd-389ad937c2af",
   "metadata": {},
   "outputs": [
    {
     "data": {
      "text/plain": [
       "[7, 9, 11, 13, 15]"
      ]
     },
     "execution_count": 4,
     "metadata": {},
     "output_type": "execute_result"
    }
   ],
   "source": [
    "list(map(add , l1, l2))"
   ]
  },
  {
   "cell_type": "code",
   "execution_count": 12,
   "id": "505a1980-5abb-4ba3-b699-7fd206aa8f83",
   "metadata": {},
   "outputs": [
    {
     "data": {
      "text/plain": [
       "['P', 'W', 'S', 'K', 'I', 'L', 'L', 'S']"
      ]
     },
     "execution_count": 12,
     "metadata": {},
     "output_type": "execute_result"
    }
   ],
   "source": [
    "s = 'pwskills'\n",
    "list(map(lambda s : s.upper(),s))"
   ]
  },
  {
   "cell_type": "markdown",
   "id": "7f8731fd-72e9-40b0-99f6-baf938fed2da",
   "metadata": {},
   "source": [
    "REDUCE"
   ]
  },
  {
   "cell_type": "code",
   "execution_count": 14,
   "id": "a1592833-df62-4474-8744-aef325bc1f02",
   "metadata": {},
   "outputs": [],
   "source": [
    "from functools import reduce"
   ]
  },
  {
   "cell_type": "code",
   "execution_count": 15,
   "id": "5dbec331-7e48-4a43-869d-668a9358c325",
   "metadata": {},
   "outputs": [],
   "source": [
    "l = [1,2,3,3,4,5]"
   ]
  },
  {
   "cell_type": "code",
   "execution_count": 16,
   "id": "df91cb3c-2ec0-482b-a998-b5db30560442",
   "metadata": {},
   "outputs": [
    {
     "data": {
      "text/plain": [
       "18"
      ]
     },
     "execution_count": 16,
     "metadata": {},
     "output_type": "execute_result"
    }
   ],
   "source": [
    "reduce(lambda x , y : x+y , l)"
   ]
  },
  {
   "cell_type": "code",
   "execution_count": 17,
   "id": "eea9685e-4874-4ee0-ac2d-52470ed6608a",
   "metadata": {},
   "outputs": [
    {
     "ename": "TypeError",
     "evalue": "<lambda>() missing 1 required positional argument: 'z'",
     "output_type": "error",
     "traceback": [
      "\u001b[1;31m---------------------------------------------------------------------------\u001b[0m",
      "\u001b[1;31mTypeError\u001b[0m                                 Traceback (most recent call last)",
      "Cell \u001b[1;32mIn[17], line 1\u001b[0m\n\u001b[1;32m----> 1\u001b[0m reduce(\u001b[38;5;28;01mlambda\u001b[39;00m x , y , z: x\u001b[38;5;241m+\u001b[39my\u001b[38;5;241m+\u001b[39mz , l)\n",
      "\u001b[1;31mTypeError\u001b[0m: <lambda>() missing 1 required positional argument: 'z'"
     ]
    }
   ],
   "source": [
    "reduce(lambda x , y , z: x+y+z , l)"
   ]
  },
  {
   "cell_type": "code",
   "execution_count": 18,
   "id": "eaee8ea3-cfaa-49f0-8138-d5a7ad672b4d",
   "metadata": {},
   "outputs": [
    {
     "ename": "TypeError",
     "evalue": "reduce() of empty iterable with no initial value",
     "output_type": "error",
     "traceback": [
      "\u001b[1;31m---------------------------------------------------------------------------\u001b[0m",
      "\u001b[1;31mTypeError\u001b[0m                                 Traceback (most recent call last)",
      "Cell \u001b[1;32mIn[18], line 1\u001b[0m\n\u001b[1;32m----> 1\u001b[0m reduce(\u001b[38;5;28;01mlambda\u001b[39;00m x , y : x\u001b[38;5;241m+\u001b[39my , [])\n",
      "\u001b[1;31mTypeError\u001b[0m: reduce() of empty iterable with no initial value"
     ]
    }
   ],
   "source": [
    "reduce(lambda x , y : x+y , [])"
   ]
  },
  {
   "cell_type": "code",
   "execution_count": 20,
   "id": "b0c96355-357c-4d7d-a8ed-6e553d2a47c3",
   "metadata": {},
   "outputs": [
    {
     "data": {
      "text/plain": [
       "1"
      ]
     },
     "execution_count": 20,
     "metadata": {},
     "output_type": "execute_result"
    }
   ],
   "source": [
    "reduce(lambda x , y : x+y , [1])"
   ]
  },
  {
   "cell_type": "code",
   "execution_count": 21,
   "id": "44a628d3-32ad-4701-94b0-6a714de0ed87",
   "metadata": {},
   "outputs": [
    {
     "data": {
      "text/plain": [
       "360"
      ]
     },
     "execution_count": 21,
     "metadata": {},
     "output_type": "execute_result"
    }
   ],
   "source": [
    "reduce(lambda x,y:x*y,l)"
   ]
  },
  {
   "cell_type": "code",
   "execution_count": 22,
   "id": "6e4e159c-f512-4333-afc6-a14b3da827c4",
   "metadata": {},
   "outputs": [
    {
     "data": {
      "text/plain": [
       "[1, 2, 3, 3, 4, 5]"
      ]
     },
     "execution_count": 22,
     "metadata": {},
     "output_type": "execute_result"
    }
   ],
   "source": [
    "l"
   ]
  },
  {
   "cell_type": "code",
   "execution_count": 23,
   "id": "5d6eed65-7429-460b-9f97-03076bf2c149",
   "metadata": {},
   "outputs": [
    {
     "data": {
      "text/plain": [
       "5"
      ]
     },
     "execution_count": 23,
     "metadata": {},
     "output_type": "execute_result"
    }
   ],
   "source": [
    "reduce(lambda x,y:x if x>y else y ,l)"
   ]
  },
  {
   "cell_type": "markdown",
   "id": "f30fa96c-9dfe-4c5d-a062-03fbcf14dc83",
   "metadata": {},
   "source": [
    "FILTER"
   ]
  },
  {
   "cell_type": "code",
   "execution_count": 24,
   "id": "55beccf1-48fe-4a6c-86f4-85041bb9c19b",
   "metadata": {},
   "outputs": [
    {
     "data": {
      "text/plain": [
       "[1, 2, 3, 3, 4, 5]"
      ]
     },
     "execution_count": 24,
     "metadata": {},
     "output_type": "execute_result"
    }
   ],
   "source": [
    "l"
   ]
  },
  {
   "cell_type": "code",
   "execution_count": 25,
   "id": "be57327e-8c4f-4997-a1c6-b6da30a2c23f",
   "metadata": {},
   "outputs": [
    {
     "data": {
      "text/plain": [
       "[2, 4]"
      ]
     },
     "execution_count": 25,
     "metadata": {},
     "output_type": "execute_result"
    }
   ],
   "source": [
    "list(filter(lambda x : x % 2 == 0 ,l))"
   ]
  },
  {
   "cell_type": "code",
   "execution_count": 26,
   "id": "a7e7ba83-4475-44a2-9f27-04a51dcca8d9",
   "metadata": {},
   "outputs": [
    {
     "data": {
      "text/plain": [
       "[1, 3, 3, 5]"
      ]
     },
     "execution_count": 26,
     "metadata": {},
     "output_type": "execute_result"
    }
   ],
   "source": [
    "list(filter(lambda x : x % 2 != 0 ,l))"
   ]
  },
  {
   "cell_type": "code",
   "execution_count": 28,
   "id": "21078fbd-420c-40d3-bf2d-b2d43f077e95",
   "metadata": {},
   "outputs": [],
   "source": [
    "l1 = [4,5,-6,-8,9]"
   ]
  },
  {
   "cell_type": "code",
   "execution_count": 30,
   "id": "06d98fab-6003-4aa7-a261-bff25471330d",
   "metadata": {},
   "outputs": [
    {
     "data": {
      "text/plain": [
       "[-6, -8]"
      ]
     },
     "execution_count": 30,
     "metadata": {},
     "output_type": "execute_result"
    }
   ],
   "source": [
    "list(filter(lambda x : x<0 , l1))"
   ]
  },
  {
   "cell_type": "code",
   "execution_count": 31,
   "id": "40a7e8d2-7c44-410a-8936-ab38c49bdd4e",
   "metadata": {},
   "outputs": [],
   "source": [
    "l2 = ['rahul', 'sharma', 'varsha', 'pandey', 'vishwakarma', 'brijesh', 'prajapati']"
   ]
  },
  {
   "cell_type": "code",
   "execution_count": 32,
   "id": "71c82f4a-0cdb-47b5-8a28-ad4ee28b2697",
   "metadata": {},
   "outputs": [
    {
     "data": {
      "text/plain": [
       "['rahul']"
      ]
     },
     "execution_count": 32,
     "metadata": {},
     "output_type": "execute_result"
    }
   ],
   "source": [
    "list(filter(lambda x : len(x)<6 ,l2))"
   ]
  },
  {
   "cell_type": "code",
   "execution_count": null,
   "id": "d9d4b00c-a110-43e1-8d75-056487388d8e",
   "metadata": {},
   "outputs": [],
   "source": []
  }
 ],
 "metadata": {
  "kernelspec": {
   "display_name": "Python 3 (ipykernel)",
   "language": "python",
   "name": "python3"
  },
  "language_info": {
   "codemirror_mode": {
    "name": "ipython",
    "version": 3
   },
   "file_extension": ".py",
   "mimetype": "text/x-python",
   "name": "python",
   "nbconvert_exporter": "python",
   "pygments_lexer": "ipython3",
   "version": "3.11.7"
  }
 },
 "nbformat": 4,
 "nbformat_minor": 5
}
